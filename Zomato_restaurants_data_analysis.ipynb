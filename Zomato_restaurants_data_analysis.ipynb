{
 "cells": [
  {
   "cell_type": "code",
   "execution_count": 35,
   "metadata": {
    "_cell_guid": "b1076dfc-b9ad-4769-8c92-a6c4dae69d19",
    "_uuid": "8f2839f25d086af736a60e9eeb907d3b93b6e0e5",
    "execution": {
     "iopub.execute_input": "2021-09-25T05:41:41.092108Z",
     "iopub.status.busy": "2021-09-25T05:41:41.091771Z",
     "iopub.status.idle": "2021-09-25T05:41:42.908638Z",
     "shell.execute_reply": "2021-09-25T05:41:42.907662Z",
     "shell.execute_reply.started": "2021-09-25T05:41:41.092015Z"
    }
   },
   "outputs": [],
   "source": []
  },
  {
   "cell_type": "markdown",
   "metadata": {},
   "source": [
    " ### Bangalore Zomato Restaurants Data"
   ]
  },
  {
   "cell_type": "code",
   "execution_count": 172,
   "metadata": {},
   "outputs": [],
   "source": [
    "# Importing required libraries\n",
    "import numpy as np \n",
    "import pandas as pd \n",
    "import matplotlib.pyplot as plt\n",
    "import seaborn as sns\n",
    "import warnings\n",
    "warnings.filterwarnings(\"ignore\")\n",
    "%matplotlib inline"
   ]
  },
  {
   "cell_type": "markdown",
   "metadata": {},
   "source": [
    "### Importing the data"
   ]
  },
  {
   "cell_type": "code",
   "execution_count": 64,
   "metadata": {
    "execution": {
     "iopub.execute_input": "2021-09-25T05:41:42.910979Z",
     "iopub.status.busy": "2021-09-25T05:41:42.910738Z",
     "iopub.status.idle": "2021-09-25T05:41:55.144188Z",
     "shell.execute_reply": "2021-09-25T05:41:55.143328Z",
     "shell.execute_reply.started": "2021-09-25T05:41:42.910951Z"
    }
   },
   "outputs": [
    {
     "data": {
      "text/html": [
       "<div>\n",
       "<style scoped>\n",
       "    .dataframe tbody tr th:only-of-type {\n",
       "        vertical-align: middle;\n",
       "    }\n",
       "\n",
       "    .dataframe tbody tr th {\n",
       "        vertical-align: top;\n",
       "    }\n",
       "\n",
       "    .dataframe thead th {\n",
       "        text-align: right;\n",
       "    }\n",
       "</style>\n",
       "<table border=\"1\" class=\"dataframe\">\n",
       "  <thead>\n",
       "    <tr style=\"text-align: right;\">\n",
       "      <th></th>\n",
       "      <th>url</th>\n",
       "      <th>address</th>\n",
       "      <th>name</th>\n",
       "      <th>online_order</th>\n",
       "      <th>book_table</th>\n",
       "      <th>rate</th>\n",
       "      <th>votes</th>\n",
       "      <th>phone</th>\n",
       "      <th>location</th>\n",
       "      <th>rest_type</th>\n",
       "      <th>dish_liked</th>\n",
       "      <th>cuisines</th>\n",
       "      <th>approx_cost(for two people)</th>\n",
       "      <th>reviews_list</th>\n",
       "      <th>menu_item</th>\n",
       "      <th>listed_in(type)</th>\n",
       "      <th>listed_in(city)</th>\n",
       "    </tr>\n",
       "  </thead>\n",
       "  <tbody>\n",
       "    <tr>\n",
       "      <th>0</th>\n",
       "      <td>https://www.zomato.com/bangalore/jalsa-banasha...</td>\n",
       "      <td>942, 21st Main Road, 2nd Stage, Banashankari, ...</td>\n",
       "      <td>Jalsa</td>\n",
       "      <td>Yes</td>\n",
       "      <td>Yes</td>\n",
       "      <td>4.1/5</td>\n",
       "      <td>775</td>\n",
       "      <td>080 42297555\\r\\n+91 9743772233</td>\n",
       "      <td>Banashankari</td>\n",
       "      <td>Casual Dining</td>\n",
       "      <td>Pasta, Lunch Buffet, Masala Papad, Paneer Laja...</td>\n",
       "      <td>North Indian, Mughlai, Chinese</td>\n",
       "      <td>800</td>\n",
       "      <td>[('Rated 4.0', 'RATED\\n  A beautiful place to ...</td>\n",
       "      <td>[]</td>\n",
       "      <td>Buffet</td>\n",
       "      <td>Banashankari</td>\n",
       "    </tr>\n",
       "    <tr>\n",
       "      <th>1</th>\n",
       "      <td>https://www.zomato.com/bangalore/spice-elephan...</td>\n",
       "      <td>2nd Floor, 80 Feet Road, Near Big Bazaar, 6th ...</td>\n",
       "      <td>Spice Elephant</td>\n",
       "      <td>Yes</td>\n",
       "      <td>No</td>\n",
       "      <td>4.1/5</td>\n",
       "      <td>787</td>\n",
       "      <td>080 41714161</td>\n",
       "      <td>Banashankari</td>\n",
       "      <td>Casual Dining</td>\n",
       "      <td>Momos, Lunch Buffet, Chocolate Nirvana, Thai G...</td>\n",
       "      <td>Chinese, North Indian, Thai</td>\n",
       "      <td>800</td>\n",
       "      <td>[('Rated 4.0', 'RATED\\n  Had been here for din...</td>\n",
       "      <td>[]</td>\n",
       "      <td>Buffet</td>\n",
       "      <td>Banashankari</td>\n",
       "    </tr>\n",
       "    <tr>\n",
       "      <th>2</th>\n",
       "      <td>https://www.zomato.com/SanchurroBangalore?cont...</td>\n",
       "      <td>1112, Next to KIMS Medical College, 17th Cross...</td>\n",
       "      <td>San Churro Cafe</td>\n",
       "      <td>Yes</td>\n",
       "      <td>No</td>\n",
       "      <td>3.8/5</td>\n",
       "      <td>918</td>\n",
       "      <td>+91 9663487993</td>\n",
       "      <td>Banashankari</td>\n",
       "      <td>Cafe, Casual Dining</td>\n",
       "      <td>Churros, Cannelloni, Minestrone Soup, Hot Choc...</td>\n",
       "      <td>Cafe, Mexican, Italian</td>\n",
       "      <td>800</td>\n",
       "      <td>[('Rated 3.0', \"RATED\\n  Ambience is not that ...</td>\n",
       "      <td>[]</td>\n",
       "      <td>Buffet</td>\n",
       "      <td>Banashankari</td>\n",
       "    </tr>\n",
       "    <tr>\n",
       "      <th>3</th>\n",
       "      <td>https://www.zomato.com/bangalore/addhuri-udupi...</td>\n",
       "      <td>1st Floor, Annakuteera, 3rd Stage, Banashankar...</td>\n",
       "      <td>Addhuri Udupi Bhojana</td>\n",
       "      <td>No</td>\n",
       "      <td>No</td>\n",
       "      <td>3.7/5</td>\n",
       "      <td>88</td>\n",
       "      <td>+91 9620009302</td>\n",
       "      <td>Banashankari</td>\n",
       "      <td>Quick Bites</td>\n",
       "      <td>Masala Dosa</td>\n",
       "      <td>South Indian, North Indian</td>\n",
       "      <td>300</td>\n",
       "      <td>[('Rated 4.0', \"RATED\\n  Great food and proper...</td>\n",
       "      <td>[]</td>\n",
       "      <td>Buffet</td>\n",
       "      <td>Banashankari</td>\n",
       "    </tr>\n",
       "    <tr>\n",
       "      <th>4</th>\n",
       "      <td>https://www.zomato.com/bangalore/grand-village...</td>\n",
       "      <td>10, 3rd Floor, Lakshmi Associates, Gandhi Baza...</td>\n",
       "      <td>Grand Village</td>\n",
       "      <td>No</td>\n",
       "      <td>No</td>\n",
       "      <td>3.8/5</td>\n",
       "      <td>166</td>\n",
       "      <td>+91 8026612447\\r\\n+91 9901210005</td>\n",
       "      <td>Basavanagudi</td>\n",
       "      <td>Casual Dining</td>\n",
       "      <td>Panipuri, Gol Gappe</td>\n",
       "      <td>North Indian, Rajasthani</td>\n",
       "      <td>600</td>\n",
       "      <td>[('Rated 4.0', 'RATED\\n  Very good restaurant ...</td>\n",
       "      <td>[]</td>\n",
       "      <td>Buffet</td>\n",
       "      <td>Banashankari</td>\n",
       "    </tr>\n",
       "  </tbody>\n",
       "</table>\n",
       "</div>"
      ],
      "text/plain": [
       "                                                 url  \\\n",
       "0  https://www.zomato.com/bangalore/jalsa-banasha...   \n",
       "1  https://www.zomato.com/bangalore/spice-elephan...   \n",
       "2  https://www.zomato.com/SanchurroBangalore?cont...   \n",
       "3  https://www.zomato.com/bangalore/addhuri-udupi...   \n",
       "4  https://www.zomato.com/bangalore/grand-village...   \n",
       "\n",
       "                                             address                   name  \\\n",
       "0  942, 21st Main Road, 2nd Stage, Banashankari, ...                  Jalsa   \n",
       "1  2nd Floor, 80 Feet Road, Near Big Bazaar, 6th ...         Spice Elephant   \n",
       "2  1112, Next to KIMS Medical College, 17th Cross...        San Churro Cafe   \n",
       "3  1st Floor, Annakuteera, 3rd Stage, Banashankar...  Addhuri Udupi Bhojana   \n",
       "4  10, 3rd Floor, Lakshmi Associates, Gandhi Baza...          Grand Village   \n",
       "\n",
       "  online_order book_table   rate  votes                             phone  \\\n",
       "0          Yes        Yes  4.1/5    775    080 42297555\\r\\n+91 9743772233   \n",
       "1          Yes         No  4.1/5    787                      080 41714161   \n",
       "2          Yes         No  3.8/5    918                    +91 9663487993   \n",
       "3           No         No  3.7/5     88                    +91 9620009302   \n",
       "4           No         No  3.8/5    166  +91 8026612447\\r\\n+91 9901210005   \n",
       "\n",
       "       location            rest_type  \\\n",
       "0  Banashankari        Casual Dining   \n",
       "1  Banashankari        Casual Dining   \n",
       "2  Banashankari  Cafe, Casual Dining   \n",
       "3  Banashankari          Quick Bites   \n",
       "4  Basavanagudi        Casual Dining   \n",
       "\n",
       "                                          dish_liked  \\\n",
       "0  Pasta, Lunch Buffet, Masala Papad, Paneer Laja...   \n",
       "1  Momos, Lunch Buffet, Chocolate Nirvana, Thai G...   \n",
       "2  Churros, Cannelloni, Minestrone Soup, Hot Choc...   \n",
       "3                                        Masala Dosa   \n",
       "4                                Panipuri, Gol Gappe   \n",
       "\n",
       "                         cuisines approx_cost(for two people)  \\\n",
       "0  North Indian, Mughlai, Chinese                         800   \n",
       "1     Chinese, North Indian, Thai                         800   \n",
       "2          Cafe, Mexican, Italian                         800   \n",
       "3      South Indian, North Indian                         300   \n",
       "4        North Indian, Rajasthani                         600   \n",
       "\n",
       "                                        reviews_list menu_item  \\\n",
       "0  [('Rated 4.0', 'RATED\\n  A beautiful place to ...        []   \n",
       "1  [('Rated 4.0', 'RATED\\n  Had been here for din...        []   \n",
       "2  [('Rated 3.0', \"RATED\\n  Ambience is not that ...        []   \n",
       "3  [('Rated 4.0', \"RATED\\n  Great food and proper...        []   \n",
       "4  [('Rated 4.0', 'RATED\\n  Very good restaurant ...        []   \n",
       "\n",
       "  listed_in(type) listed_in(city)  \n",
       "0          Buffet    Banashankari  \n",
       "1          Buffet    Banashankari  \n",
       "2          Buffet    Banashankari  \n",
       "3          Buffet    Banashankari  \n",
       "4          Buffet    Banashankari  "
      ]
     },
     "execution_count": 64,
     "metadata": {},
     "output_type": "execute_result"
    }
   ],
   "source": [
    "df = pd.read_csv('D:\\\\Project 2_new\\\\zomato.csv')\n",
    "df.head()"
   ]
  },
  {
   "cell_type": "code",
   "execution_count": 134,
   "metadata": {},
   "outputs": [
    {
     "data": {
      "text/plain": [
       "Index(['url', 'address', 'name', 'online_order', 'book_table', 'rate', 'votes',\n",
       "       'phone', 'location', 'rest_type', 'dish_liked', 'cuisines',\n",
       "       'approx_cost(for two people)', 'reviews_list', 'menu_item',\n",
       "       'listed_in(type)', 'listed_in(city)'],\n",
       "      dtype='object')"
      ]
     },
     "execution_count": 134,
     "metadata": {},
     "output_type": "execute_result"
    }
   ],
   "source": [
    "df.columns"
   ]
  },
  {
   "cell_type": "markdown",
   "metadata": {},
   "source": [
    "## Description of Attributes\n",
    "1.url - contains the url of the restaurant in the zomato website\n",
    "\n",
    "2.address - contains the address of the restaurant in Bengaluru\n",
    "\n",
    "3.name - contains the name of the restaurant\n",
    "\n",
    "4.online_order - whether online ordering is available in the restaurant or not\n",
    "\n",
    "5.book_table  - table book option available or not\n",
    "\n",
    "6.rate -  contains the overall rating of the restaurant out of 5\n",
    "\n",
    "7.votes -  contains total number of rating for the restaurant as of the above mentioned date\n",
    "\n",
    "8.phone -  contains the phone number of the restaurant\n",
    "\n",
    "9.location -  contains the neighborhood in which the restaurant is located\n",
    "\n",
    "10.rest_type -  restaurant type\n",
    "\n",
    "11.dish_liked  - dishes liked by customers.\n",
    "\n",
    "12.reviews_list - reviews of customers.\n",
    "\n",
    "13.approx_cost(for two people)  - approximate cost for two people\n",
    "\n",
    "14.listed_in(type) - mode of dining\n",
    "\n",
    "15.listed_in(city)  - In which city the restaurent is listed.\n",
    "\n",
    "16.menu_item\n",
    "\n",
    "17.reviews_list - reviews from cutomers.\n"
   ]
  },
  {
   "cell_type": "markdown",
   "metadata": {},
   "source": [
    "###### The data set has 51717 records and 17 attributes.The 'rate' is the target variable in this zomato restaurent dataset."
   ]
  },
  {
   "cell_type": "code",
   "execution_count": 65,
   "metadata": {},
   "outputs": [
    {
     "data": {
      "text/plain": [
       "(51717, 17)"
      ]
     },
     "execution_count": 65,
     "metadata": {},
     "output_type": "execute_result"
    }
   ],
   "source": [
    "df.shape"
   ]
  },
  {
   "cell_type": "code",
   "execution_count": 66,
   "metadata": {},
   "outputs": [
    {
     "data": {
      "text/html": [
       "<div>\n",
       "<style scoped>\n",
       "    .dataframe tbody tr th:only-of-type {\n",
       "        vertical-align: middle;\n",
       "    }\n",
       "\n",
       "    .dataframe tbody tr th {\n",
       "        vertical-align: top;\n",
       "    }\n",
       "\n",
       "    .dataframe thead th {\n",
       "        text-align: right;\n",
       "    }\n",
       "</style>\n",
       "<table border=\"1\" class=\"dataframe\">\n",
       "  <thead>\n",
       "    <tr style=\"text-align: right;\">\n",
       "      <th></th>\n",
       "      <th>votes</th>\n",
       "    </tr>\n",
       "  </thead>\n",
       "  <tbody>\n",
       "    <tr>\n",
       "      <th>count</th>\n",
       "      <td>51717.000000</td>\n",
       "    </tr>\n",
       "    <tr>\n",
       "      <th>mean</th>\n",
       "      <td>283.697527</td>\n",
       "    </tr>\n",
       "    <tr>\n",
       "      <th>std</th>\n",
       "      <td>803.838853</td>\n",
       "    </tr>\n",
       "    <tr>\n",
       "      <th>min</th>\n",
       "      <td>0.000000</td>\n",
       "    </tr>\n",
       "    <tr>\n",
       "      <th>25%</th>\n",
       "      <td>7.000000</td>\n",
       "    </tr>\n",
       "    <tr>\n",
       "      <th>50%</th>\n",
       "      <td>41.000000</td>\n",
       "    </tr>\n",
       "    <tr>\n",
       "      <th>75%</th>\n",
       "      <td>198.000000</td>\n",
       "    </tr>\n",
       "    <tr>\n",
       "      <th>max</th>\n",
       "      <td>16832.000000</td>\n",
       "    </tr>\n",
       "  </tbody>\n",
       "</table>\n",
       "</div>"
      ],
      "text/plain": [
       "              votes\n",
       "count  51717.000000\n",
       "mean     283.697527\n",
       "std      803.838853\n",
       "min        0.000000\n",
       "25%        7.000000\n",
       "50%       41.000000\n",
       "75%      198.000000\n",
       "max    16832.000000"
      ]
     },
     "execution_count": 66,
     "metadata": {},
     "output_type": "execute_result"
    }
   ],
   "source": [
    "## To get the basic statistical information about the continuous data in the dataset.\n",
    "df.describe()"
   ]
  },
  {
   "cell_type": "code",
   "execution_count": 67,
   "metadata": {
    "execution": {
     "iopub.execute_input": "2021-09-25T05:41:55.249813Z",
     "iopub.status.busy": "2021-09-25T05:41:55.249521Z",
     "iopub.status.idle": "2021-09-25T05:41:57.223981Z",
     "shell.execute_reply": "2021-09-25T05:41:57.223130Z",
     "shell.execute_reply.started": "2021-09-25T05:41:55.249782Z"
    }
   },
   "outputs": [],
   "source": [
    "df.drop_duplicates(inplace=True)"
   ]
  },
  {
   "cell_type": "code",
   "execution_count": 68,
   "metadata": {},
   "outputs": [
    {
     "data": {
      "text/plain": [
       "(51717, 17)"
      ]
     },
     "execution_count": 68,
     "metadata": {},
     "output_type": "execute_result"
    }
   ],
   "source": [
    "df.shape"
   ]
  },
  {
   "cell_type": "code",
   "execution_count": 69,
   "metadata": {},
   "outputs": [
    {
     "data": {
      "text/plain": [
       "Quick Bites                   19132\n",
       "Casual Dining                 10330\n",
       "Cafe                           3732\n",
       "Delivery                       2604\n",
       "Dessert Parlor                 2263\n",
       "                              ...  \n",
       "Dessert Parlor, Kiosk             2\n",
       "Bakery, Food Court                2\n",
       "Cafe, Food Court                  2\n",
       "Quick Bites, Kiosk                1\n",
       "Sweet Shop, Dessert Parlor        1\n",
       "Name: rest_type, Length: 93, dtype: int64"
      ]
     },
     "execution_count": 69,
     "metadata": {},
     "output_type": "execute_result"
    }
   ],
   "source": [
    "df.rest_type.value_counts()"
   ]
  },
  {
   "cell_type": "code",
   "execution_count": 70,
   "metadata": {
    "execution": {
     "iopub.execute_input": "2021-09-25T05:41:57.225665Z",
     "iopub.status.busy": "2021-09-25T05:41:57.225447Z",
     "iopub.status.idle": "2021-09-25T05:41:57.342907Z",
     "shell.execute_reply": "2021-09-25T05:41:57.341843Z",
     "shell.execute_reply.started": "2021-09-25T05:41:57.225641Z"
    }
   },
   "outputs": [
    {
     "name": "stdout",
     "output_type": "stream",
     "text": [
      "<class 'pandas.core.frame.DataFrame'>\n",
      "Int64Index: 51717 entries, 0 to 51716\n",
      "Data columns (total 17 columns):\n",
      " #   Column                       Non-Null Count  Dtype \n",
      "---  ------                       --------------  ----- \n",
      " 0   url                          51717 non-null  object\n",
      " 1   address                      51717 non-null  object\n",
      " 2   name                         51717 non-null  object\n",
      " 3   online_order                 51717 non-null  object\n",
      " 4   book_table                   51717 non-null  object\n",
      " 5   rate                         43942 non-null  object\n",
      " 6   votes                        51717 non-null  int64 \n",
      " 7   phone                        50509 non-null  object\n",
      " 8   location                     51696 non-null  object\n",
      " 9   rest_type                    51490 non-null  object\n",
      " 10  dish_liked                   23639 non-null  object\n",
      " 11  cuisines                     51672 non-null  object\n",
      " 12  approx_cost(for two people)  51371 non-null  object\n",
      " 13  reviews_list                 51717 non-null  object\n",
      " 14  menu_item                    51717 non-null  object\n",
      " 15  listed_in(type)              51717 non-null  object\n",
      " 16  listed_in(city)              51717 non-null  object\n",
      "dtypes: int64(1), object(16)\n",
      "memory usage: 7.1+ MB\n"
     ]
    }
   ],
   "source": [
    "# To view the datatypes of features\n",
    "df.info()"
   ]
  },
  {
   "cell_type": "code",
   "execution_count": 100,
   "metadata": {
    "execution": {
     "iopub.execute_input": "2021-09-25T05:41:57.344689Z",
     "iopub.status.busy": "2021-09-25T05:41:57.344355Z",
     "iopub.status.idle": "2021-09-25T05:41:57.360181Z",
     "shell.execute_reply": "2021-09-25T05:41:57.359241Z",
     "shell.execute_reply.started": "2021-09-25T05:41:57.344640Z"
    }
   },
   "outputs": [],
   "source": [
    "# Here we are dropping the columns which does not provide any information to predict the target(rate) variable.\n",
    "new_df = df.drop(['url','address','phone','menu_item','listed_in(city)','dish_liked','reviews_list'],axis=1)"
   ]
  },
  {
   "cell_type": "code",
   "execution_count": 101,
   "metadata": {
    "execution": {
     "iopub.execute_input": "2021-09-25T05:41:57.361991Z",
     "iopub.status.busy": "2021-09-25T05:41:57.361620Z",
     "iopub.status.idle": "2021-09-25T05:41:57.388765Z",
     "shell.execute_reply": "2021-09-25T05:41:57.387844Z",
     "shell.execute_reply.started": "2021-09-25T05:41:57.361950Z"
    }
   },
   "outputs": [
    {
     "data": {
      "text/html": [
       "<div>\n",
       "<style scoped>\n",
       "    .dataframe tbody tr th:only-of-type {\n",
       "        vertical-align: middle;\n",
       "    }\n",
       "\n",
       "    .dataframe tbody tr th {\n",
       "        vertical-align: top;\n",
       "    }\n",
       "\n",
       "    .dataframe thead th {\n",
       "        text-align: right;\n",
       "    }\n",
       "</style>\n",
       "<table border=\"1\" class=\"dataframe\">\n",
       "  <thead>\n",
       "    <tr style=\"text-align: right;\">\n",
       "      <th></th>\n",
       "      <th>name</th>\n",
       "      <th>online_order</th>\n",
       "      <th>book_table</th>\n",
       "      <th>rate</th>\n",
       "      <th>votes</th>\n",
       "      <th>location</th>\n",
       "      <th>rest_type</th>\n",
       "      <th>cuisines</th>\n",
       "      <th>approx_cost(for two people)</th>\n",
       "      <th>listed_in(type)</th>\n",
       "    </tr>\n",
       "  </thead>\n",
       "  <tbody>\n",
       "    <tr>\n",
       "      <th>0</th>\n",
       "      <td>Jalsa</td>\n",
       "      <td>Yes</td>\n",
       "      <td>Yes</td>\n",
       "      <td>4.1/5</td>\n",
       "      <td>775</td>\n",
       "      <td>Banashankari</td>\n",
       "      <td>Casual Dining</td>\n",
       "      <td>North Indian, Mughlai, Chinese</td>\n",
       "      <td>800</td>\n",
       "      <td>Buffet</td>\n",
       "    </tr>\n",
       "    <tr>\n",
       "      <th>1</th>\n",
       "      <td>Spice Elephant</td>\n",
       "      <td>Yes</td>\n",
       "      <td>No</td>\n",
       "      <td>4.1/5</td>\n",
       "      <td>787</td>\n",
       "      <td>Banashankari</td>\n",
       "      <td>Casual Dining</td>\n",
       "      <td>Chinese, North Indian, Thai</td>\n",
       "      <td>800</td>\n",
       "      <td>Buffet</td>\n",
       "    </tr>\n",
       "    <tr>\n",
       "      <th>2</th>\n",
       "      <td>San Churro Cafe</td>\n",
       "      <td>Yes</td>\n",
       "      <td>No</td>\n",
       "      <td>3.8/5</td>\n",
       "      <td>918</td>\n",
       "      <td>Banashankari</td>\n",
       "      <td>Cafe, Casual Dining</td>\n",
       "      <td>Cafe, Mexican, Italian</td>\n",
       "      <td>800</td>\n",
       "      <td>Buffet</td>\n",
       "    </tr>\n",
       "    <tr>\n",
       "      <th>3</th>\n",
       "      <td>Addhuri Udupi Bhojana</td>\n",
       "      <td>No</td>\n",
       "      <td>No</td>\n",
       "      <td>3.7/5</td>\n",
       "      <td>88</td>\n",
       "      <td>Banashankari</td>\n",
       "      <td>Quick Bites</td>\n",
       "      <td>South Indian, North Indian</td>\n",
       "      <td>300</td>\n",
       "      <td>Buffet</td>\n",
       "    </tr>\n",
       "    <tr>\n",
       "      <th>4</th>\n",
       "      <td>Grand Village</td>\n",
       "      <td>No</td>\n",
       "      <td>No</td>\n",
       "      <td>3.8/5</td>\n",
       "      <td>166</td>\n",
       "      <td>Basavanagudi</td>\n",
       "      <td>Casual Dining</td>\n",
       "      <td>North Indian, Rajasthani</td>\n",
       "      <td>600</td>\n",
       "      <td>Buffet</td>\n",
       "    </tr>\n",
       "  </tbody>\n",
       "</table>\n",
       "</div>"
      ],
      "text/plain": [
       "                    name online_order book_table   rate  votes      location  \\\n",
       "0                  Jalsa          Yes        Yes  4.1/5    775  Banashankari   \n",
       "1         Spice Elephant          Yes         No  4.1/5    787  Banashankari   \n",
       "2        San Churro Cafe          Yes         No  3.8/5    918  Banashankari   \n",
       "3  Addhuri Udupi Bhojana           No         No  3.7/5     88  Banashankari   \n",
       "4          Grand Village           No         No  3.8/5    166  Basavanagudi   \n",
       "\n",
       "             rest_type                        cuisines  \\\n",
       "0        Casual Dining  North Indian, Mughlai, Chinese   \n",
       "1        Casual Dining     Chinese, North Indian, Thai   \n",
       "2  Cafe, Casual Dining          Cafe, Mexican, Italian   \n",
       "3          Quick Bites      South Indian, North Indian   \n",
       "4        Casual Dining        North Indian, Rajasthani   \n",
       "\n",
       "  approx_cost(for two people) listed_in(type)  \n",
       "0                         800          Buffet  \n",
       "1                         800          Buffet  \n",
       "2                         800          Buffet  \n",
       "3                         300          Buffet  \n",
       "4                         600          Buffet  "
      ]
     },
     "execution_count": 101,
     "metadata": {},
     "output_type": "execute_result"
    }
   ],
   "source": [
    "new_df.head()"
   ]
  },
  {
   "cell_type": "code",
   "execution_count": 102,
   "metadata": {},
   "outputs": [
    {
     "data": {
      "text/plain": [
       "(51717, 10)"
      ]
     },
     "execution_count": 102,
     "metadata": {},
     "output_type": "execute_result"
    }
   ],
   "source": [
    "new_df.shape"
   ]
  },
  {
   "cell_type": "markdown",
   "metadata": {},
   "source": [
    "## MISSING VALUE DETECTION"
   ]
  },
  {
   "cell_type": "code",
   "execution_count": 103,
   "metadata": {},
   "outputs": [
    {
     "data": {
      "text/plain": [
       "url                                0\n",
       "address                            0\n",
       "name                               0\n",
       "online_order                       0\n",
       "book_table                         0\n",
       "rate                            7775\n",
       "votes                              0\n",
       "phone                           1208\n",
       "location                          21\n",
       "rest_type                        227\n",
       "dish_liked                     28078\n",
       "cuisines                          45\n",
       "approx_cost(for two people)      346\n",
       "reviews_list                       0\n",
       "menu_item                          0\n",
       "listed_in(type)                    0\n",
       "listed_in(city)                    0\n",
       "dtype: int64"
      ]
     },
     "execution_count": 103,
     "metadata": {},
     "output_type": "execute_result"
    }
   ],
   "source": [
    "## Checking for missing values\n",
    "df.isna().sum()"
   ]
  },
  {
   "cell_type": "code",
   "execution_count": 125,
   "metadata": {},
   "outputs": [
    {
     "data": {
      "text/plain": [
       "37700"
      ]
     },
     "execution_count": 125,
     "metadata": {},
     "output_type": "execute_result"
    },
    {
     "data": {
      "image/png": "[encoded data removed]",
      "text/plain": [
       "<Figure size 1152x288 with 1 Axes>"
      ]
     },
     "metadata": {
      "needs_background": "light"
     },
     "output_type": "display_data"
    }
   ],
   "source": [
    "import matplotlib.pyplot as plt \n",
    "import seaborn as sns \n",
    "plt.figure(figsize=(16,4))\n",
    "sns.heatmap(df.isnull(),cbar=False,cmap='cividis',yticklabels=False)\n",
    "plt.title('Missing value in the dataset');\n",
    "df.isna().sum().sum()"
   ]
  },
  {
   "cell_type": "code",
   "execution_count": 104,
   "metadata": {
    "execution": {
     "iopub.execute_input": "2021-09-25T05:41:57.390393Z",
     "iopub.status.busy": "2021-09-25T05:41:57.390131Z",
     "iopub.status.idle": "2021-09-25T05:41:57.411226Z",
     "shell.execute_reply": "2021-09-25T05:41:57.409586Z",
     "shell.execute_reply.started": "2021-09-25T05:41:57.390364Z"
    }
   },
   "outputs": [
    {
     "data": {
      "text/plain": [
       "array(['Buffet', 'Cafes', 'Delivery', 'Desserts', 'Dine-out',\n",
       "       'Drinks & nightlife', 'Pubs and bars'], dtype=object)"
      ]
     },
     "execution_count": 104,
     "metadata": {},
     "output_type": "execute_result"
    }
   ],
   "source": [
    "new_df['listed_in(type)'].unique()"
   ]
  },
  {
   "cell_type": "code",
   "execution_count": 105,
   "metadata": {
    "execution": {
     "iopub.execute_input": "2021-09-25T05:41:57.413458Z",
     "iopub.status.busy": "2021-09-25T05:41:57.412922Z",
     "iopub.status.idle": "2021-09-25T05:41:57.477891Z",
     "shell.execute_reply": "2021-09-25T05:41:57.477022Z",
     "shell.execute_reply.started": "2021-09-25T05:41:57.413412Z"
    }
   },
   "outputs": [
    {
     "data": {
      "text/plain": [
       "name                              0\n",
       "online_order                      0\n",
       "book_table                        0\n",
       "rate                           7775\n",
       "votes                             0\n",
       "location                         21\n",
       "rest_type                       227\n",
       "cuisines                         45\n",
       "approx_cost(for two people)     346\n",
       "listed_in(type)                   0\n",
       "dtype: int64"
      ]
     },
     "execution_count": 105,
     "metadata": {},
     "output_type": "execute_result"
    }
   ],
   "source": [
    "new_df.isnull().sum()"
   ]
  },
  {
   "cell_type": "code",
   "execution_count": 106,
   "metadata": {},
   "outputs": [
    {
     "name": "stdout",
     "output_type": "stream",
     "text": [
      "<class 'pandas.core.frame.DataFrame'>\n",
      "Int64Index: 51717 entries, 0 to 51716\n",
      "Data columns (total 10 columns):\n",
      " #   Column                       Non-Null Count  Dtype \n",
      "---  ------                       --------------  ----- \n",
      " 0   name                         51717 non-null  object\n",
      " 1   online_order                 51717 non-null  object\n",
      " 2   book_table                   51717 non-null  object\n",
      " 3   rate                         43942 non-null  object\n",
      " 4   votes                        51717 non-null  int64 \n",
      " 5   location                     51696 non-null  object\n",
      " 6   rest_type                    51490 non-null  object\n",
      " 7   cuisines                     51672 non-null  object\n",
      " 8   approx_cost(for two people)  51371 non-null  object\n",
      " 9   listed_in(type)              51717 non-null  object\n",
      "dtypes: int64(1), object(9)\n",
      "memory usage: 4.3+ MB\n"
     ]
    }
   ],
   "source": [
    "new_df.info()"
   ]
  },
  {
   "cell_type": "code",
   "execution_count": 107,
   "metadata": {
    "execution": {
     "iopub.execute_input": "2021-09-25T05:41:57.480863Z",
     "iopub.status.busy": "2021-09-25T05:41:57.480598Z",
     "iopub.status.idle": "2021-09-25T05:41:57.544384Z",
     "shell.execute_reply": "2021-09-25T05:41:57.543390Z",
     "shell.execute_reply.started": "2021-09-25T05:41:57.480833Z"
    }
   },
   "outputs": [],
   "source": [
    "# we are dropping the records if any value or all values in the record are null.\n",
    "# Because treating missing values in anyother way won't help us to predict the ratings any better.\n",
    "new_df.dropna(inplace=True)"
   ]
  },
  {
   "cell_type": "code",
   "execution_count": 108,
   "metadata": {
    "execution": {
     "iopub.execute_input": "2021-09-25T05:41:57.546476Z",
     "iopub.status.busy": "2021-09-25T05:41:57.546010Z",
     "iopub.status.idle": "2021-09-25T05:41:57.602769Z",
     "shell.execute_reply": "2021-09-25T05:41:57.602217Z",
     "shell.execute_reply.started": "2021-09-25T05:41:57.546364Z"
    }
   },
   "outputs": [
    {
     "name": "stdout",
     "output_type": "stream",
     "text": [
      "<class 'pandas.core.frame.DataFrame'>\n",
      "Int64Index: 43533 entries, 0 to 51716\n",
      "Data columns (total 10 columns):\n",
      " #   Column                       Non-Null Count  Dtype \n",
      "---  ------                       --------------  ----- \n",
      " 0   name                         43533 non-null  object\n",
      " 1   online_order                 43533 non-null  object\n",
      " 2   book_table                   43533 non-null  object\n",
      " 3   rate                         43533 non-null  object\n",
      " 4   votes                        43533 non-null  int64 \n",
      " 5   location                     43533 non-null  object\n",
      " 6   rest_type                    43533 non-null  object\n",
      " 7   cuisines                     43533 non-null  object\n",
      " 8   approx_cost(for two people)  43533 non-null  object\n",
      " 9   listed_in(type)              43533 non-null  object\n",
      "dtypes: int64(1), object(9)\n",
      "memory usage: 3.7+ MB\n"
     ]
    }
   ],
   "source": [
    "new_df.info()"
   ]
  },
  {
   "cell_type": "code",
   "execution_count": 109,
   "metadata": {
    "execution": {
     "iopub.execute_input": "2021-09-25T05:41:57.604193Z",
     "iopub.status.busy": "2021-09-25T05:41:57.603664Z",
     "iopub.status.idle": "2021-09-25T05:41:57.607957Z",
     "shell.execute_reply": "2021-09-25T05:41:57.607185Z",
     "shell.execute_reply.started": "2021-09-25T05:41:57.604163Z"
    }
   },
   "outputs": [],
   "source": [
    "# new_df.drop_duplicates(inplace=True)"
   ]
  },
  {
   "cell_type": "code",
   "execution_count": 110,
   "metadata": {
    "execution": {
     "iopub.execute_input": "2021-09-25T05:41:57.610094Z",
     "iopub.status.busy": "2021-09-25T05:41:57.609538Z",
     "iopub.status.idle": "2021-09-25T05:41:57.620324Z",
     "shell.execute_reply": "2021-09-25T05:41:57.619477Z",
     "shell.execute_reply.started": "2021-09-25T05:41:57.610035Z"
    }
   },
   "outputs": [],
   "source": [
    "# new_df.info()"
   ]
  },
  {
   "cell_type": "code",
   "execution_count": 111,
   "metadata": {
    "execution": {
     "iopub.execute_input": "2021-09-25T05:41:57.622500Z",
     "iopub.status.busy": "2021-09-25T05:41:57.621880Z",
     "iopub.status.idle": "2021-09-25T05:41:57.638868Z",
     "shell.execute_reply": "2021-09-25T05:41:57.637927Z",
     "shell.execute_reply.started": "2021-09-25T05:41:57.622457Z"
    }
   },
   "outputs": [
    {
     "data": {
      "text/plain": [
       "array(['4.1/5', '3.8/5', '3.7/5', '3.6/5', '4.6/5', '4.0/5', '4.2/5',\n",
       "       '3.9/5', '3.1/5', '3.0/5', '3.2/5', '3.3/5', '2.8/5', '4.4/5',\n",
       "       '4.3/5', 'NEW', '2.9/5', '3.5/5', '2.6/5', '3.8 /5', '3.4/5',\n",
       "       '4.5/5', '2.5/5', '2.7/5', '4.7/5', '2.4/5', '2.2/5', '2.3/5',\n",
       "       '3.4 /5', '-', '3.6 /5', '4.8/5', '3.9 /5', '4.2 /5', '4.0 /5',\n",
       "       '4.1 /5', '3.7 /5', '3.1 /5', '2.9 /5', '3.3 /5', '2.8 /5',\n",
       "       '3.5 /5', '2.7 /5', '2.5 /5', '3.2 /5', '2.6 /5', '4.5 /5',\n",
       "       '4.3 /5', '4.4 /5', '4.9/5', '2.1/5', '2.0/5', '1.8/5', '4.6 /5',\n",
       "       '4.9 /5', '3.0 /5', '4.8 /5', '2.3 /5', '4.7 /5', '2.4 /5',\n",
       "       '2.1 /5', '2.2 /5', '2.0 /5', '1.8 /5'], dtype=object)"
      ]
     },
     "execution_count": 111,
     "metadata": {},
     "output_type": "execute_result"
    }
   ],
   "source": [
    "new_df['rate'].unique()"
   ]
  },
  {
   "cell_type": "code",
   "execution_count": 112,
   "metadata": {
    "execution": {
     "iopub.execute_input": "2021-09-25T05:41:57.641175Z",
     "iopub.status.busy": "2021-09-25T05:41:57.640579Z",
     "iopub.status.idle": "2021-09-25T05:41:57.737686Z",
     "shell.execute_reply": "2021-09-25T05:41:57.736843Z",
     "shell.execute_reply.started": "2021-09-25T05:41:57.641132Z"
    }
   },
   "outputs": [
    {
     "data": {
      "text/html": [
       "<div>\n",
       "<style scoped>\n",
       "    .dataframe tbody tr th:only-of-type {\n",
       "        vertical-align: middle;\n",
       "    }\n",
       "\n",
       "    .dataframe tbody tr th {\n",
       "        vertical-align: top;\n",
       "    }\n",
       "\n",
       "    .dataframe thead th {\n",
       "        text-align: right;\n",
       "    }\n",
       "</style>\n",
       "<table border=\"1\" class=\"dataframe\">\n",
       "  <thead>\n",
       "    <tr style=\"text-align: right;\">\n",
       "      <th></th>\n",
       "      <th>name</th>\n",
       "      <th>online_order</th>\n",
       "      <th>book_table</th>\n",
       "      <th>rate</th>\n",
       "      <th>votes</th>\n",
       "      <th>location</th>\n",
       "      <th>rest_type</th>\n",
       "      <th>cuisines</th>\n",
       "      <th>approx_cost(for two people)</th>\n",
       "      <th>listed_in(type)</th>\n",
       "    </tr>\n",
       "  </thead>\n",
       "  <tbody>\n",
       "    <tr>\n",
       "      <th>0</th>\n",
       "      <td>Jalsa</td>\n",
       "      <td>Yes</td>\n",
       "      <td>Yes</td>\n",
       "      <td>4.1</td>\n",
       "      <td>775</td>\n",
       "      <td>Banashankari</td>\n",
       "      <td>Casual Dining</td>\n",
       "      <td>North Indian, Mughlai, Chinese</td>\n",
       "      <td>800</td>\n",
       "      <td>Buffet</td>\n",
       "    </tr>\n",
       "    <tr>\n",
       "      <th>1</th>\n",
       "      <td>Spice Elephant</td>\n",
       "      <td>Yes</td>\n",
       "      <td>No</td>\n",
       "      <td>4.1</td>\n",
       "      <td>787</td>\n",
       "      <td>Banashankari</td>\n",
       "      <td>Casual Dining</td>\n",
       "      <td>Chinese, North Indian, Thai</td>\n",
       "      <td>800</td>\n",
       "      <td>Buffet</td>\n",
       "    </tr>\n",
       "    <tr>\n",
       "      <th>2</th>\n",
       "      <td>San Churro Cafe</td>\n",
       "      <td>Yes</td>\n",
       "      <td>No</td>\n",
       "      <td>3.8</td>\n",
       "      <td>918</td>\n",
       "      <td>Banashankari</td>\n",
       "      <td>Cafe, Casual Dining</td>\n",
       "      <td>Cafe, Mexican, Italian</td>\n",
       "      <td>800</td>\n",
       "      <td>Buffet</td>\n",
       "    </tr>\n",
       "    <tr>\n",
       "      <th>3</th>\n",
       "      <td>Addhuri Udupi Bhojana</td>\n",
       "      <td>No</td>\n",
       "      <td>No</td>\n",
       "      <td>3.7</td>\n",
       "      <td>88</td>\n",
       "      <td>Banashankari</td>\n",
       "      <td>Quick Bites</td>\n",
       "      <td>South Indian, North Indian</td>\n",
       "      <td>300</td>\n",
       "      <td>Buffet</td>\n",
       "    </tr>\n",
       "    <tr>\n",
       "      <th>4</th>\n",
       "      <td>Grand Village</td>\n",
       "      <td>No</td>\n",
       "      <td>No</td>\n",
       "      <td>3.8</td>\n",
       "      <td>166</td>\n",
       "      <td>Basavanagudi</td>\n",
       "      <td>Casual Dining</td>\n",
       "      <td>North Indian, Rajasthani</td>\n",
       "      <td>600</td>\n",
       "      <td>Buffet</td>\n",
       "    </tr>\n",
       "  </tbody>\n",
       "</table>\n",
       "</div>"
      ],
      "text/plain": [
       "                    name online_order book_table  rate  votes      location  \\\n",
       "0                  Jalsa          Yes        Yes   4.1    775  Banashankari   \n",
       "1         Spice Elephant          Yes         No   4.1    787  Banashankari   \n",
       "2        San Churro Cafe          Yes         No   3.8    918  Banashankari   \n",
       "3  Addhuri Udupi Bhojana           No         No   3.7     88  Banashankari   \n",
       "4          Grand Village           No         No   3.8    166  Basavanagudi   \n",
       "\n",
       "             rest_type                        cuisines  \\\n",
       "0        Casual Dining  North Indian, Mughlai, Chinese   \n",
       "1        Casual Dining     Chinese, North Indian, Thai   \n",
       "2  Cafe, Casual Dining          Cafe, Mexican, Italian   \n",
       "3          Quick Bites      South Indian, North Indian   \n",
       "4        Casual Dining        North Indian, Rajasthani   \n",
       "\n",
       "  approx_cost(for two people) listed_in(type)  \n",
       "0                         800          Buffet  \n",
       "1                         800          Buffet  \n",
       "2                         800          Buffet  \n",
       "3                         300          Buffet  \n",
       "4                         600          Buffet  "
      ]
     },
     "execution_count": 112,
     "metadata": {},
     "output_type": "execute_result"
    }
   ],
   "source": [
    "## Now it is noticeable that the target variable has object as data type and  not have continuous data.\n",
    "## so we change that into continuous.\n",
    "new_df = new_df.loc[new_df['rate'] != 'NEW']\n",
    "new_df = new_df.loc[new_df['rate'] != '-']\n",
    "\n",
    "new_df['rate'] = new_df['rate'].str.replace('/5','')\n",
    "new_df['rate'] = new_df['rate'].astype(float)\n",
    "new_df.head()"
   ]
  },
  {
   "cell_type": "code",
   "execution_count": 113,
   "metadata": {
    "execution": {
     "iopub.execute_input": "2021-09-25T05:41:57.739670Z",
     "iopub.status.busy": "2021-09-25T05:41:57.739173Z",
     "iopub.status.idle": "2021-09-25T05:41:57.747960Z",
     "shell.execute_reply": "2021-09-25T05:41:57.747301Z",
     "shell.execute_reply.started": "2021-09-25T05:41:57.739627Z"
    }
   },
   "outputs": [
    {
     "data": {
      "text/plain": [
       "array([4.1, 3.8, 3.7, 3.6, 4.6, 4. , 4.2, 3.9, 3.1, 3. , 3.2, 3.3, 2.8,\n",
       "       4.4, 4.3, 2.9, 3.5, 2.6, 3.4, 4.5, 2.5, 2.7, 4.7, 2.4, 2.2, 2.3,\n",
       "       4.8, 4.9, 2.1, 2. , 1.8])"
      ]
     },
     "execution_count": 113,
     "metadata": {},
     "output_type": "execute_result"
    }
   ],
   "source": [
    "new_df['rate'].unique()"
   ]
  },
  {
   "cell_type": "code",
   "execution_count": 114,
   "metadata": {
    "execution": {
     "iopub.execute_input": "2021-09-25T05:41:57.750046Z",
     "iopub.status.busy": "2021-09-25T05:41:57.749731Z",
     "iopub.status.idle": "2021-09-25T05:41:57.802910Z",
     "shell.execute_reply": "2021-09-25T05:41:57.801774Z",
     "shell.execute_reply.started": "2021-09-25T05:41:57.750007Z"
    }
   },
   "outputs": [
    {
     "name": "stdout",
     "output_type": "stream",
     "text": [
      "<class 'pandas.core.frame.DataFrame'>\n",
      "Int64Index: 41263 entries, 0 to 51716\n",
      "Data columns (total 10 columns):\n",
      " #   Column                       Non-Null Count  Dtype  \n",
      "---  ------                       --------------  -----  \n",
      " 0   name                         41263 non-null  object \n",
      " 1   online_order                 41263 non-null  object \n",
      " 2   book_table                   41263 non-null  object \n",
      " 3   rate                         41263 non-null  float64\n",
      " 4   votes                        41263 non-null  int64  \n",
      " 5   location                     41263 non-null  object \n",
      " 6   rest_type                    41263 non-null  object \n",
      " 7   cuisines                     41263 non-null  object \n",
      " 8   approx_cost(for two people)  41263 non-null  object \n",
      " 9   listed_in(type)              41263 non-null  object \n",
      "dtypes: float64(1), int64(1), object(8)\n",
      "memory usage: 3.5+ MB\n"
     ]
    }
   ],
   "source": [
    "new_df.info()"
   ]
  },
  {
   "cell_type": "code",
   "execution_count": 115,
   "metadata": {
    "execution": {
     "iopub.execute_input": "2021-09-25T05:41:57.804725Z",
     "iopub.status.busy": "2021-09-25T05:41:57.804411Z",
     "iopub.status.idle": "2021-09-25T05:41:57.816644Z",
     "shell.execute_reply": "2021-09-25T05:41:57.815801Z",
     "shell.execute_reply.started": "2021-09-25T05:41:57.804686Z"
    }
   },
   "outputs": [
    {
     "data": {
      "text/plain": [
       "array(['800', '300', '600', '700', '550', '500', '450', '650', '400',\n",
       "       '900', '200', '750', '150', '850', '100', '1,200', '350', '250',\n",
       "       '950', '1,000', '1,500', '1,300', '199', '1,100', '1,600', '230',\n",
       "       '130', '1,700', '1,350', '2,200', '1,400', '2,000', '1,800',\n",
       "       '1,900', '180', '330', '2,500', '2,100', '3,000', '2,800', '3,400',\n",
       "       '50', '40', '1,250', '3,500', '4,000', '2,400', '2,600', '1,450',\n",
       "       '70', '3,200', '240', '6,000', '1,050', '2,300', '4,100', '120',\n",
       "       '5,000', '3,700', '1,650', '2,700', '4,500', '80'], dtype=object)"
      ]
     },
     "execution_count": 115,
     "metadata": {},
     "output_type": "execute_result"
    }
   ],
   "source": [
    "new_df['approx_cost(for two people)'].unique()"
   ]
  },
  {
   "cell_type": "code",
   "execution_count": 127,
   "metadata": {
    "execution": {
     "iopub.execute_input": "2021-09-25T05:41:57.818370Z",
     "iopub.status.busy": "2021-09-25T05:41:57.818045Z",
     "iopub.status.idle": "2021-09-25T05:41:57.906282Z",
     "shell.execute_reply": "2021-09-25T05:41:57.905411Z",
     "shell.execute_reply.started": "2021-09-25T05:41:57.818330Z"
    }
   },
   "outputs": [
    {
     "ename": "AttributeError",
     "evalue": "Can only use .str accessor with string values!",
     "output_type": "error",
     "traceback": [
      "\u001b[1;31m---------------------------------------------------------------------------\u001b[0m",
      "\u001b[1;31mAttributeError\u001b[0m                            Traceback (most recent call last)",
      "\u001b[1;32m<ipython-input-127-16d6750898f5>\u001b[0m in \u001b[0;36m<module>\u001b[1;34m\u001b[0m\n\u001b[0;32m      1\u001b[0m \u001b[1;31m## Changing the values in approx_cost column to a proper format by removing unnecessary spaces in the data  to perform calculations.\u001b[0m\u001b[1;33m\u001b[0m\u001b[1;33m\u001b[0m\u001b[1;33m\u001b[0m\u001b[0m\n\u001b[1;32m----> 2\u001b[1;33m \u001b[0mnew_df\u001b[0m\u001b[1;33m[\u001b[0m\u001b[1;34m'approx_cost(for two people)'\u001b[0m\u001b[1;33m]\u001b[0m \u001b[1;33m=\u001b[0m \u001b[0mnew_df\u001b[0m\u001b[1;33m[\u001b[0m\u001b[1;34m'approx_cost(for two people)'\u001b[0m\u001b[1;33m]\u001b[0m\u001b[1;33m.\u001b[0m\u001b[0mstr\u001b[0m\u001b[1;33m.\u001b[0m\u001b[0mreplace\u001b[0m\u001b[1;33m(\u001b[0m\u001b[1;34m','\u001b[0m\u001b[1;33m,\u001b[0m\u001b[1;34m''\u001b[0m\u001b[1;33m)\u001b[0m\u001b[1;33m\u001b[0m\u001b[1;33m\u001b[0m\u001b[0m\n\u001b[0m\u001b[0;32m      3\u001b[0m \u001b[0mnew_df\u001b[0m\u001b[1;33m[\u001b[0m\u001b[1;34m'approx_cost(for two people)'\u001b[0m\u001b[1;33m]\u001b[0m \u001b[1;33m=\u001b[0m \u001b[0mnew_df\u001b[0m\u001b[1;33m[\u001b[0m\u001b[1;34m'approx_cost(for two people)'\u001b[0m\u001b[1;33m]\u001b[0m\u001b[1;33m.\u001b[0m\u001b[0mastype\u001b[0m\u001b[1;33m(\u001b[0m\u001b[0mint\u001b[0m\u001b[1;33m)\u001b[0m\u001b[1;33m\u001b[0m\u001b[1;33m\u001b[0m\u001b[0m\n\u001b[0;32m      4\u001b[0m \u001b[0mnew_df\u001b[0m\u001b[1;33m.\u001b[0m\u001b[0minfo\u001b[0m\u001b[1;33m(\u001b[0m\u001b[1;33m)\u001b[0m\u001b[1;33m\u001b[0m\u001b[1;33m\u001b[0m\u001b[0m\n",
      "\u001b[1;32m~\\anaconda3\\lib\\site-packages\\pandas\\core\\generic.py\u001b[0m in \u001b[0;36m__getattr__\u001b[1;34m(self, name)\u001b[0m\n\u001b[0;32m   5459\u001b[0m             \u001b[1;32mor\u001b[0m \u001b[0mname\u001b[0m \u001b[1;32min\u001b[0m \u001b[0mself\u001b[0m\u001b[1;33m.\u001b[0m\u001b[0m_accessors\u001b[0m\u001b[1;33m\u001b[0m\u001b[1;33m\u001b[0m\u001b[0m\n\u001b[0;32m   5460\u001b[0m         ):\n\u001b[1;32m-> 5461\u001b[1;33m             \u001b[1;32mreturn\u001b[0m \u001b[0mobject\u001b[0m\u001b[1;33m.\u001b[0m\u001b[0m__getattribute__\u001b[0m\u001b[1;33m(\u001b[0m\u001b[0mself\u001b[0m\u001b[1;33m,\u001b[0m \u001b[0mname\u001b[0m\u001b[1;33m)\u001b[0m\u001b[1;33m\u001b[0m\u001b[1;33m\u001b[0m\u001b[0m\n\u001b[0m\u001b[0;32m   5462\u001b[0m         \u001b[1;32melse\u001b[0m\u001b[1;33m:\u001b[0m\u001b[1;33m\u001b[0m\u001b[1;33m\u001b[0m\u001b[0m\n\u001b[0;32m   5463\u001b[0m             \u001b[1;32mif\u001b[0m \u001b[0mself\u001b[0m\u001b[1;33m.\u001b[0m\u001b[0m_info_axis\u001b[0m\u001b[1;33m.\u001b[0m\u001b[0m_can_hold_identifiers_and_holds_name\u001b[0m\u001b[1;33m(\u001b[0m\u001b[0mname\u001b[0m\u001b[1;33m)\u001b[0m\u001b[1;33m:\u001b[0m\u001b[1;33m\u001b[0m\u001b[1;33m\u001b[0m\u001b[0m\n",
      "\u001b[1;32m~\\anaconda3\\lib\\site-packages\\pandas\\core\\accessor.py\u001b[0m in \u001b[0;36m__get__\u001b[1;34m(self, obj, cls)\u001b[0m\n\u001b[0;32m    178\u001b[0m             \u001b[1;31m# we're accessing the attribute of the class, i.e., Dataset.geo\u001b[0m\u001b[1;33m\u001b[0m\u001b[1;33m\u001b[0m\u001b[1;33m\u001b[0m\u001b[0m\n\u001b[0;32m    179\u001b[0m             \u001b[1;32mreturn\u001b[0m \u001b[0mself\u001b[0m\u001b[1;33m.\u001b[0m\u001b[0m_accessor\u001b[0m\u001b[1;33m\u001b[0m\u001b[1;33m\u001b[0m\u001b[0m\n\u001b[1;32m--> 180\u001b[1;33m         \u001b[0maccessor_obj\u001b[0m \u001b[1;33m=\u001b[0m \u001b[0mself\u001b[0m\u001b[1;33m.\u001b[0m\u001b[0m_accessor\u001b[0m\u001b[1;33m(\u001b[0m\u001b[0mobj\u001b[0m\u001b[1;33m)\u001b[0m\u001b[1;33m\u001b[0m\u001b[1;33m\u001b[0m\u001b[0m\n\u001b[0m\u001b[0;32m    181\u001b[0m         \u001b[1;31m# Replace the property with the accessor object. Inspired by:\u001b[0m\u001b[1;33m\u001b[0m\u001b[1;33m\u001b[0m\u001b[1;33m\u001b[0m\u001b[0m\n\u001b[0;32m    182\u001b[0m         \u001b[1;31m# https://www.pydanny.com/cached-property.html\u001b[0m\u001b[1;33m\u001b[0m\u001b[1;33m\u001b[0m\u001b[1;33m\u001b[0m\u001b[0m\n",
      "\u001b[1;32m~\\anaconda3\\lib\\site-packages\\pandas\\core\\strings\\accessor.py\u001b[0m in \u001b[0;36m__init__\u001b[1;34m(self, data)\u001b[0m\n\u001b[0;32m    152\u001b[0m         \u001b[1;32mfrom\u001b[0m \u001b[0mpandas\u001b[0m\u001b[1;33m.\u001b[0m\u001b[0mcore\u001b[0m\u001b[1;33m.\u001b[0m\u001b[0marrays\u001b[0m\u001b[1;33m.\u001b[0m\u001b[0mstring_\u001b[0m \u001b[1;32mimport\u001b[0m \u001b[0mStringDtype\u001b[0m\u001b[1;33m\u001b[0m\u001b[1;33m\u001b[0m\u001b[0m\n\u001b[0;32m    153\u001b[0m \u001b[1;33m\u001b[0m\u001b[0m\n\u001b[1;32m--> 154\u001b[1;33m         \u001b[0mself\u001b[0m\u001b[1;33m.\u001b[0m\u001b[0m_inferred_dtype\u001b[0m \u001b[1;33m=\u001b[0m \u001b[0mself\u001b[0m\u001b[1;33m.\u001b[0m\u001b[0m_validate\u001b[0m\u001b[1;33m(\u001b[0m\u001b[0mdata\u001b[0m\u001b[1;33m)\u001b[0m\u001b[1;33m\u001b[0m\u001b[1;33m\u001b[0m\u001b[0m\n\u001b[0m\u001b[0;32m    155\u001b[0m         \u001b[0mself\u001b[0m\u001b[1;33m.\u001b[0m\u001b[0m_is_categorical\u001b[0m \u001b[1;33m=\u001b[0m \u001b[0mis_categorical_dtype\u001b[0m\u001b[1;33m(\u001b[0m\u001b[0mdata\u001b[0m\u001b[1;33m.\u001b[0m\u001b[0mdtype\u001b[0m\u001b[1;33m)\u001b[0m\u001b[1;33m\u001b[0m\u001b[1;33m\u001b[0m\u001b[0m\n\u001b[0;32m    156\u001b[0m         \u001b[0mself\u001b[0m\u001b[1;33m.\u001b[0m\u001b[0m_is_string\u001b[0m \u001b[1;33m=\u001b[0m \u001b[0misinstance\u001b[0m\u001b[1;33m(\u001b[0m\u001b[0mdata\u001b[0m\u001b[1;33m.\u001b[0m\u001b[0mdtype\u001b[0m\u001b[1;33m,\u001b[0m \u001b[0mStringDtype\u001b[0m\u001b[1;33m)\u001b[0m\u001b[1;33m\u001b[0m\u001b[1;33m\u001b[0m\u001b[0m\n",
      "\u001b[1;32m~\\anaconda3\\lib\\site-packages\\pandas\\core\\strings\\accessor.py\u001b[0m in \u001b[0;36m_validate\u001b[1;34m(data)\u001b[0m\n\u001b[0;32m    215\u001b[0m \u001b[1;33m\u001b[0m\u001b[0m\n\u001b[0;32m    216\u001b[0m         \u001b[1;32mif\u001b[0m \u001b[0minferred_dtype\u001b[0m \u001b[1;32mnot\u001b[0m \u001b[1;32min\u001b[0m \u001b[0mallowed_types\u001b[0m\u001b[1;33m:\u001b[0m\u001b[1;33m\u001b[0m\u001b[1;33m\u001b[0m\u001b[0m\n\u001b[1;32m--> 217\u001b[1;33m             \u001b[1;32mraise\u001b[0m \u001b[0mAttributeError\u001b[0m\u001b[1;33m(\u001b[0m\u001b[1;34m\"Can only use .str accessor with string values!\"\u001b[0m\u001b[1;33m)\u001b[0m\u001b[1;33m\u001b[0m\u001b[1;33m\u001b[0m\u001b[0m\n\u001b[0m\u001b[0;32m    218\u001b[0m         \u001b[1;32mreturn\u001b[0m \u001b[0minferred_dtype\u001b[0m\u001b[1;33m\u001b[0m\u001b[1;33m\u001b[0m\u001b[0m\n\u001b[0;32m    219\u001b[0m \u001b[1;33m\u001b[0m\u001b[0m\n",
      "\u001b[1;31mAttributeError\u001b[0m: Can only use .str accessor with string values!"
     ]
    }
   ],
   "source": [
    "## Changing the values in approx_cost column to a proper format by removing unnecessary spaces in the data  to perform calculations.\n",
    "new_df['approx_cost(for two people)'] = new_df['approx_cost(for two people)'].str.replace(',','')\n",
    "new_df['approx_cost(for two people)'] = new_df['approx_cost(for two people)'].astype(int)\n",
    "new_df.info()"
   ]
  },
  {
   "cell_type": "code",
   "execution_count": 128,
   "metadata": {
    "execution": {
     "iopub.execute_input": "2021-09-25T05:41:57.908419Z",
     "iopub.status.busy": "2021-09-25T05:41:57.908060Z",
     "iopub.status.idle": "2021-09-25T05:41:57.934164Z",
     "shell.execute_reply": "2021-09-25T05:41:57.933263Z",
     "shell.execute_reply.started": "2021-09-25T05:41:57.908379Z"
    }
   },
   "outputs": [
    {
     "data": {
      "text/html": [
       "<div>\n",
       "<style scoped>\n",
       "    .dataframe tbody tr th:only-of-type {\n",
       "        vertical-align: middle;\n",
       "    }\n",
       "\n",
       "    .dataframe tbody tr th {\n",
       "        vertical-align: top;\n",
       "    }\n",
       "\n",
       "    .dataframe thead th {\n",
       "        text-align: right;\n",
       "    }\n",
       "</style>\n",
       "<table border=\"1\" class=\"dataframe\">\n",
       "  <thead>\n",
       "    <tr style=\"text-align: right;\">\n",
       "      <th></th>\n",
       "      <th>name</th>\n",
       "      <th>online_order</th>\n",
       "      <th>book_table</th>\n",
       "      <th>rate</th>\n",
       "      <th>votes</th>\n",
       "      <th>location</th>\n",
       "      <th>rest_type</th>\n",
       "      <th>cuisines</th>\n",
       "      <th>approx_cost(for two people)</th>\n",
       "      <th>listed_in(type)</th>\n",
       "    </tr>\n",
       "  </thead>\n",
       "  <tbody>\n",
       "    <tr>\n",
       "      <th>0</th>\n",
       "      <td>Jalsa</td>\n",
       "      <td>Yes</td>\n",
       "      <td>Yes</td>\n",
       "      <td>4.1</td>\n",
       "      <td>775</td>\n",
       "      <td>Banashankari</td>\n",
       "      <td>Casual Dining</td>\n",
       "      <td>North Indian, Mughlai, Chinese</td>\n",
       "      <td>800</td>\n",
       "      <td>Buffet</td>\n",
       "    </tr>\n",
       "    <tr>\n",
       "      <th>1</th>\n",
       "      <td>Spice Elephant</td>\n",
       "      <td>Yes</td>\n",
       "      <td>No</td>\n",
       "      <td>4.1</td>\n",
       "      <td>787</td>\n",
       "      <td>Banashankari</td>\n",
       "      <td>Casual Dining</td>\n",
       "      <td>Chinese, North Indian, Thai</td>\n",
       "      <td>800</td>\n",
       "      <td>Buffet</td>\n",
       "    </tr>\n",
       "    <tr>\n",
       "      <th>2</th>\n",
       "      <td>San Churro Cafe</td>\n",
       "      <td>Yes</td>\n",
       "      <td>No</td>\n",
       "      <td>3.8</td>\n",
       "      <td>918</td>\n",
       "      <td>Banashankari</td>\n",
       "      <td>Cafe, Casual Dining</td>\n",
       "      <td>Cafe, Mexican, Italian</td>\n",
       "      <td>800</td>\n",
       "      <td>Buffet</td>\n",
       "    </tr>\n",
       "    <tr>\n",
       "      <th>3</th>\n",
       "      <td>Addhuri Udupi Bhojana</td>\n",
       "      <td>No</td>\n",
       "      <td>No</td>\n",
       "      <td>3.7</td>\n",
       "      <td>88</td>\n",
       "      <td>Banashankari</td>\n",
       "      <td>Quick Bites</td>\n",
       "      <td>South Indian, North Indian</td>\n",
       "      <td>300</td>\n",
       "      <td>Buffet</td>\n",
       "    </tr>\n",
       "    <tr>\n",
       "      <th>4</th>\n",
       "      <td>Grand Village</td>\n",
       "      <td>No</td>\n",
       "      <td>No</td>\n",
       "      <td>3.8</td>\n",
       "      <td>166</td>\n",
       "      <td>Basavanagudi</td>\n",
       "      <td>Casual Dining</td>\n",
       "      <td>North Indian, Rajasthani</td>\n",
       "      <td>600</td>\n",
       "      <td>Buffet</td>\n",
       "    </tr>\n",
       "    <tr>\n",
       "      <th>...</th>\n",
       "      <td>...</td>\n",
       "      <td>...</td>\n",
       "      <td>...</td>\n",
       "      <td>...</td>\n",
       "      <td>...</td>\n",
       "      <td>...</td>\n",
       "      <td>...</td>\n",
       "      <td>...</td>\n",
       "      <td>...</td>\n",
       "      <td>...</td>\n",
       "    </tr>\n",
       "    <tr>\n",
       "      <th>41258</th>\n",
       "      <td>The Farm House Bar n Grill</td>\n",
       "      <td>No</td>\n",
       "      <td>No</td>\n",
       "      <td>3.7</td>\n",
       "      <td>34</td>\n",
       "      <td>Whitefield</td>\n",
       "      <td>Casual Dining, Bar</td>\n",
       "      <td>North Indian, Continental</td>\n",
       "      <td>800</td>\n",
       "      <td>Pubs and bars</td>\n",
       "    </tr>\n",
       "    <tr>\n",
       "      <th>41259</th>\n",
       "      <td>Bhagini</td>\n",
       "      <td>No</td>\n",
       "      <td>No</td>\n",
       "      <td>2.5</td>\n",
       "      <td>81</td>\n",
       "      <td>Whitefield</td>\n",
       "      <td>Casual Dining, Bar</td>\n",
       "      <td>Andhra, South Indian, Chinese, North Indian</td>\n",
       "      <td>800</td>\n",
       "      <td>Pubs and bars</td>\n",
       "    </tr>\n",
       "    <tr>\n",
       "      <th>41260</th>\n",
       "      <td>Best Brews - Four Points by Sheraton Bengaluru...</td>\n",
       "      <td>No</td>\n",
       "      <td>No</td>\n",
       "      <td>3.6</td>\n",
       "      <td>27</td>\n",
       "      <td>Whitefield</td>\n",
       "      <td>Bar</td>\n",
       "      <td>Continental</td>\n",
       "      <td>1500</td>\n",
       "      <td>Pubs and bars</td>\n",
       "    </tr>\n",
       "    <tr>\n",
       "      <th>41261</th>\n",
       "      <td>Chime - Sheraton Grand Bengaluru Whitefield Ho...</td>\n",
       "      <td>No</td>\n",
       "      <td>Yes</td>\n",
       "      <td>4.3</td>\n",
       "      <td>236</td>\n",
       "      <td>ITPL Main Road, Whitefield</td>\n",
       "      <td>Bar</td>\n",
       "      <td>Finger Food</td>\n",
       "      <td>2500</td>\n",
       "      <td>Pubs and bars</td>\n",
       "    </tr>\n",
       "    <tr>\n",
       "      <th>41262</th>\n",
       "      <td>The Nest - The Den Bengaluru</td>\n",
       "      <td>No</td>\n",
       "      <td>No</td>\n",
       "      <td>3.4</td>\n",
       "      <td>13</td>\n",
       "      <td>ITPL Main Road, Whitefield</td>\n",
       "      <td>Bar, Casual Dining</td>\n",
       "      <td>Finger Food, North Indian, Continental</td>\n",
       "      <td>1500</td>\n",
       "      <td>Pubs and bars</td>\n",
       "    </tr>\n",
       "  </tbody>\n",
       "</table>\n",
       "<p>41263 rows × 10 columns</p>\n",
       "</div>"
      ],
      "text/plain": [
       "                                                    name online_order  \\\n",
       "0                                                  Jalsa          Yes   \n",
       "1                                         Spice Elephant          Yes   \n",
       "2                                        San Churro Cafe          Yes   \n",
       "3                                  Addhuri Udupi Bhojana           No   \n",
       "4                                          Grand Village           No   \n",
       "...                                                  ...          ...   \n",
       "41258                         The Farm House Bar n Grill           No   \n",
       "41259                                            Bhagini           No   \n",
       "41260  Best Brews - Four Points by Sheraton Bengaluru...           No   \n",
       "41261  Chime - Sheraton Grand Bengaluru Whitefield Ho...           No   \n",
       "41262                       The Nest - The Den Bengaluru           No   \n",
       "\n",
       "      book_table  rate  votes                    location  \\\n",
       "0            Yes   4.1    775                Banashankari   \n",
       "1             No   4.1    787                Banashankari   \n",
       "2             No   3.8    918                Banashankari   \n",
       "3             No   3.7     88                Banashankari   \n",
       "4             No   3.8    166                Basavanagudi   \n",
       "...          ...   ...    ...                         ...   \n",
       "41258         No   3.7     34                  Whitefield   \n",
       "41259         No   2.5     81                  Whitefield   \n",
       "41260         No   3.6     27                  Whitefield   \n",
       "41261        Yes   4.3    236  ITPL Main Road, Whitefield   \n",
       "41262         No   3.4     13  ITPL Main Road, Whitefield   \n",
       "\n",
       "                 rest_type                                     cuisines  \\\n",
       "0            Casual Dining               North Indian, Mughlai, Chinese   \n",
       "1            Casual Dining                  Chinese, North Indian, Thai   \n",
       "2      Cafe, Casual Dining                       Cafe, Mexican, Italian   \n",
       "3              Quick Bites                   South Indian, North Indian   \n",
       "4            Casual Dining                     North Indian, Rajasthani   \n",
       "...                    ...                                          ...   \n",
       "41258   Casual Dining, Bar                    North Indian, Continental   \n",
       "41259   Casual Dining, Bar  Andhra, South Indian, Chinese, North Indian   \n",
       "41260                  Bar                                  Continental   \n",
       "41261                  Bar                                  Finger Food   \n",
       "41262   Bar, Casual Dining       Finger Food, North Indian, Continental   \n",
       "\n",
       "       approx_cost(for two people) listed_in(type)  \n",
       "0                              800          Buffet  \n",
       "1                              800          Buffet  \n",
       "2                              800          Buffet  \n",
       "3                              300          Buffet  \n",
       "4                              600          Buffet  \n",
       "...                            ...             ...  \n",
       "41258                          800   Pubs and bars  \n",
       "41259                          800   Pubs and bars  \n",
       "41260                         1500   Pubs and bars  \n",
       "41261                         2500   Pubs and bars  \n",
       "41262                         1500   Pubs and bars  \n",
       "\n",
       "[41263 rows x 10 columns]"
      ]
     },
     "execution_count": 128,
     "metadata": {},
     "output_type": "execute_result"
    }
   ],
   "source": [
    "new_df = new_df.reset_index(drop=True)\n",
    "new_df"
   ]
  },
  {
   "cell_type": "markdown",
   "metadata": {},
   "source": [
    "##  Exploratory data analysis"
   ]
  },
  {
   "cell_type": "code",
   "execution_count": 129,
   "metadata": {
    "execution": {
     "iopub.execute_input": "2021-09-25T05:41:57.935917Z",
     "iopub.status.busy": "2021-09-25T05:41:57.935686Z",
     "iopub.status.idle": "2021-09-25T05:41:58.268567Z",
     "shell.execute_reply": "2021-09-25T05:41:58.267646Z",
     "shell.execute_reply.started": "2021-09-25T05:41:57.935893Z"
    }
   },
   "outputs": [
    {
     "data": {
      "text/plain": [
       "<AxesSubplot:>"
      ]
     },
     "execution_count": 129,
     "metadata": {},
     "output_type": "execute_result"
    },
    {
     "data": {
      "image/png": "[encoded data removed]",
      "text/plain": [
       "<Figure size 432x288 with 2 Axes>"
      ]
     },
     "metadata": {
      "needs_background": "light"
     },
     "output_type": "display_data"
    }
   ],
   "source": [
    "## correlation between attributes\n",
    "sns.heatmap(new_df.corr(),annot=True)"
   ]
  },
  {
   "cell_type": "code",
   "execution_count": 130,
   "metadata": {
    "execution": {
     "iopub.execute_input": "2021-09-25T05:41:58.270938Z",
     "iopub.status.busy": "2021-09-25T05:41:58.270167Z",
     "iopub.status.idle": "2021-09-25T05:41:58.502774Z",
     "shell.execute_reply": "2021-09-25T05:41:58.501952Z",
     "shell.execute_reply.started": "2021-09-25T05:41:58.270900Z"
    }
   },
   "outputs": [
    {
     "name": "stderr",
     "output_type": "stream",
     "text": [
      "C:\\Users\\SONY\\anaconda3\\lib\\site-packages\\seaborn\\_decorators.py:36: FutureWarning: Pass the following variable as a keyword arg: x. From version 0.12, the only valid positional argument will be `data`, and passing other arguments without an explicit keyword will result in an error or misinterpretation.\n",
      "  warnings.warn(\n"
     ]
    },
    {
     "data": {
      "text/plain": [
       "<AxesSubplot:xlabel='online_order', ylabel='count'>"
      ]
     },
     "execution_count": 130,
     "metadata": {},
     "output_type": "execute_result"
    },
    {
     "data": {
      "image/png": "[encoded data removed]",
      "text/plain": [
       "<Figure size 432x288 with 1 Axes>"
      ]
     },
     "metadata": {
      "needs_background": "light"
     },
     "output_type": "display_data"
    }
   ],
   "source": [
    "# To view the number of online orders.\n",
    "sns.countplot(new_df.online_order)"
   ]
  },
  {
   "cell_type": "code",
   "execution_count": 131,
   "metadata": {
    "execution": {
     "iopub.execute_input": "2021-09-25T05:41:58.504508Z",
     "iopub.status.busy": "2021-09-25T05:41:58.504175Z",
     "iopub.status.idle": "2021-09-25T05:41:58.746478Z",
     "shell.execute_reply": "2021-09-25T05:41:58.745532Z",
     "shell.execute_reply.started": "2021-09-25T05:41:58.504469Z"
    }
   },
   "outputs": [
    {
     "name": "stderr",
     "output_type": "stream",
     "text": [
      "C:\\Users\\SONY\\anaconda3\\lib\\site-packages\\seaborn\\_decorators.py:36: FutureWarning: Pass the following variable as a keyword arg: x. From version 0.12, the only valid positional argument will be `data`, and passing other arguments without an explicit keyword will result in an error or misinterpretation.\n",
      "  warnings.warn(\n"
     ]
    },
    {
     "data": {
      "text/plain": [
       "<AxesSubplot:xlabel='book_table', ylabel='count'>"
      ]
     },
     "execution_count": 131,
     "metadata": {},
     "output_type": "execute_result"
    },
    {
     "data": {
      "image/png": "[encoded data removed]",
      "text/plain": [
       "<Figure size 432x288 with 1 Axes>"
      ]
     },
     "metadata": {
      "needs_background": "light"
     },
     "output_type": "display_data"
    }
   ],
   "source": [
    "# To know how many times the tables were booked before handedly..\n",
    "sns.countplot(new_df.book_table)"
   ]
  },
  {
   "cell_type": "code",
   "execution_count": 132,
   "metadata": {
    "execution": {
     "iopub.execute_input": "2021-09-25T05:41:58.748509Z",
     "iopub.status.busy": "2021-09-25T05:41:58.748179Z",
     "iopub.status.idle": "2021-09-25T05:42:04.032623Z",
     "shell.execute_reply": "2021-09-25T05:42:04.031505Z",
     "shell.execute_reply.started": "2021-09-25T05:41:58.748467Z"
    }
   },
   "outputs": [
    {
     "name": "stderr",
     "output_type": "stream",
     "text": [
      "C:\\Users\\SONY\\anaconda3\\lib\\site-packages\\seaborn\\_decorators.py:36: FutureWarning: Pass the following variables as keyword args: x, y. From version 0.12, the only valid positional argument will be `data`, and passing other arguments without an explicit keyword will result in an error or misinterpretation.\n",
      "  warnings.warn(\n"
     ]
    },
    {
     "data": {
      "image/png": "[encoded data removed]",
      "text/plain": [
       "<Figure size 1440x1440 with 1 Axes>"
      ]
     },
     "metadata": {
      "needs_background": "light"
     },
     "output_type": "display_data"
    }
   ],
   "source": [
    "## The ratings given by customer based on the mode of dining they tried in the restaurant.\n",
    "plt.figure(figsize=(20,20))\n",
    "sns.barplot(new_df.rest_type,new_df.rate)\n",
    "plt.xticks(rotation=90);"
   ]
  },
  {
   "cell_type": "code",
   "execution_count": 136,
   "metadata": {
    "execution": {
     "iopub.execute_input": "2021-09-25T05:42:04.034668Z",
     "iopub.status.busy": "2021-09-25T05:42:04.034364Z",
     "iopub.status.idle": "2021-09-25T05:42:09.334031Z",
     "shell.execute_reply": "2021-09-25T05:42:09.333222Z",
     "shell.execute_reply.started": "2021-09-25T05:42:04.034624Z"
    }
   },
   "outputs": [
    {
     "name": "stderr",
     "output_type": "stream",
     "text": [
      "C:\\Users\\SONY\\anaconda3\\lib\\site-packages\\seaborn\\_decorators.py:36: FutureWarning: Pass the following variables as keyword args: x, y. From version 0.12, the only valid positional argument will be `data`, and passing other arguments without an explicit keyword will result in an error or misinterpretation.\n",
      "  warnings.warn(\n"
     ]
    },
    {
     "data": {
      "image/png": "[encoded data removed]",
      "text/plain": [
       "<Figure size 1440x1440 with 1 Axes>"
      ]
     },
     "metadata": {
      "needs_background": "light"
     },
     "output_type": "display_data"
    }
   ],
   "source": [
    "## Customers rating based on the location the restaurants are situated.\n",
    "plt.figure(figsize=(20,20))\n",
    "sns.barplot(new_df.location,new_df.rate)\n",
    "plt.xticks(rotation=90,);"
   ]
  },
  {
   "cell_type": "code",
   "execution_count": 137,
   "metadata": {
    "execution": {
     "iopub.execute_input": "2021-09-25T05:42:09.335292Z",
     "iopub.status.busy": "2021-09-25T05:42:09.335086Z",
     "iopub.status.idle": "2021-09-25T05:42:12.057600Z",
     "shell.execute_reply": "2021-09-25T05:42:12.056794Z",
     "shell.execute_reply.started": "2021-09-25T05:42:09.335268Z"
    }
   },
   "outputs": [
    {
     "data": {
      "text/plain": [
       "(0.0, 8000.0)"
      ]
     },
     "execution_count": 137,
     "metadata": {},
     "output_type": "execute_result"
    },
    {
     "data": {
      "image/png": "[encoded data removed]",
      "text/plain": [
       "<Figure size 432x288 with 1 Axes>"
      ]
     },
     "metadata": {
      "needs_background": "light"
     },
     "output_type": "display_data"
    }
   ],
   "source": [
    "sns.histplot(new_df.votes)\n",
    "plt.xlim(0,8000)"
   ]
  },
  {
   "cell_type": "markdown",
   "metadata": {},
   "source": [
    "# OUTLIER DETECTION"
   ]
  },
  {
   "cell_type": "code",
   "execution_count": 138,
   "metadata": {
    "execution": {
     "iopub.execute_input": "2021-09-25T05:42:12.058943Z",
     "iopub.status.busy": "2021-09-25T05:42:12.058725Z",
     "iopub.status.idle": "2021-09-25T05:42:12.453422Z",
     "shell.execute_reply": "2021-09-25T05:42:12.452459Z",
     "shell.execute_reply.started": "2021-09-25T05:42:12.058917Z"
    }
   },
   "outputs": [
    {
     "name": "stderr",
     "output_type": "stream",
     "text": [
      "C:\\Users\\SONY\\anaconda3\\lib\\site-packages\\seaborn\\_decorators.py:36: FutureWarning: Pass the following variables as keyword args: x, y. From version 0.12, the only valid positional argument will be `data`, and passing other arguments without an explicit keyword will result in an error or misinterpretation.\n",
      "  warnings.warn(\n"
     ]
    },
    {
     "data": {
      "text/plain": [
       "<AxesSubplot:xlabel='votes', ylabel='rate'>"
      ]
     },
     "execution_count": 138,
     "metadata": {},
     "output_type": "execute_result"
    },
    {
     "data": {
      "image/png": "[encoded data removed]",
      "text/plain": [
       "<Figure size 432x288 with 1 Axes>"
      ]
     },
     "metadata": {
      "needs_background": "light"
     },
     "output_type": "display_data"
    }
   ],
   "source": [
    "sns.scatterplot(new_df.votes,new_df.rate)"
   ]
  },
  {
   "cell_type": "code",
   "execution_count": 139,
   "metadata": {
    "execution": {
     "iopub.execute_input": "2021-09-25T05:42:12.459138Z",
     "iopub.status.busy": "2021-09-25T05:42:12.458878Z",
     "iopub.status.idle": "2021-09-25T05:42:12.846672Z",
     "shell.execute_reply": "2021-09-25T05:42:12.845877Z",
     "shell.execute_reply.started": "2021-09-25T05:42:12.459111Z"
    }
   },
   "outputs": [
    {
     "name": "stderr",
     "output_type": "stream",
     "text": [
      "C:\\Users\\SONY\\anaconda3\\lib\\site-packages\\seaborn\\_decorators.py:36: FutureWarning: Pass the following variables as keyword args: x, y. From version 0.12, the only valid positional argument will be `data`, and passing other arguments without an explicit keyword will result in an error or misinterpretation.\n",
      "  warnings.warn(\n"
     ]
    },
    {
     "data": {
      "text/plain": [
       "<AxesSubplot:xlabel='approx_cost(for two people)', ylabel='rate'>"
      ]
     },
     "execution_count": 139,
     "metadata": {},
     "output_type": "execute_result"
    },
    {
     "data": {
      "image/png": "[encoded data removed]",
      "text/plain": [
       "<Figure size 432x288 with 1 Axes>"
      ]
     },
     "metadata": {
      "needs_background": "light"
     },
     "output_type": "display_data"
    }
   ],
   "source": [
    "sns.scatterplot(new_df['approx_cost(for two people)'],new_df.rate)"
   ]
  },
  {
   "cell_type": "code",
   "execution_count": 140,
   "metadata": {
    "execution": {
     "iopub.execute_input": "2021-09-25T05:42:12.848154Z",
     "iopub.status.busy": "2021-09-25T05:42:12.847894Z",
     "iopub.status.idle": "2021-09-25T05:42:12.861890Z",
     "shell.execute_reply": "2021-09-25T05:42:12.860933Z",
     "shell.execute_reply.started": "2021-09-25T05:42:12.848125Z"
    }
   },
   "outputs": [
    {
     "data": {
      "text/plain": [
       "count    41263.000000\n",
       "mean       603.914063\n",
       "std        464.942973\n",
       "min         40.000000\n",
       "25%        300.000000\n",
       "50%        500.000000\n",
       "75%        750.000000\n",
       "max       6000.000000\n",
       "Name: approx_cost(for two people), dtype: float64"
      ]
     },
     "execution_count": 140,
     "metadata": {},
     "output_type": "execute_result"
    }
   ],
   "source": [
    "new_df['approx_cost(for two people)'].describe()"
   ]
  },
  {
   "cell_type": "code",
   "execution_count": 141,
   "metadata": {
    "execution": {
     "iopub.execute_input": "2021-09-25T05:42:12.863665Z",
     "iopub.status.busy": "2021-09-25T05:42:12.863415Z",
     "iopub.status.idle": "2021-09-25T05:42:12.872167Z",
     "shell.execute_reply": "2021-09-25T05:42:12.871236Z",
     "shell.execute_reply.started": "2021-09-25T05:42:12.863637Z"
    }
   },
   "outputs": [],
   "source": [
    "new_df=new_df.rename(columns={'approx_cost(for two people)':'cost'})"
   ]
  },
  {
   "cell_type": "code",
   "execution_count": 249,
   "metadata": {
    "scrolled": true
   },
   "outputs": [
    {
     "data": {
      "text/html": [
       "<div>\n",
       "<style scoped>\n",
       "    .dataframe tbody tr th:only-of-type {\n",
       "        vertical-align: middle;\n",
       "    }\n",
       "\n",
       "    .dataframe tbody tr th {\n",
       "        vertical-align: top;\n",
       "    }\n",
       "\n",
       "    .dataframe thead th {\n",
       "        text-align: right;\n",
       "    }\n",
       "</style>\n",
       "<table border=\"1\" class=\"dataframe\">\n",
       "  <thead>\n",
       "    <tr style=\"text-align: right;\">\n",
       "      <th></th>\n",
       "      <th>name</th>\n",
       "      <th>online_order</th>\n",
       "      <th>book_table</th>\n",
       "      <th>rate</th>\n",
       "      <th>votes</th>\n",
       "      <th>location</th>\n",
       "      <th>rest_type</th>\n",
       "      <th>cuisines</th>\n",
       "      <th>cost</th>\n",
       "      <th>listed_in(type)</th>\n",
       "    </tr>\n",
       "  </thead>\n",
       "  <tbody>\n",
       "    <tr>\n",
       "      <th>0</th>\n",
       "      <td>Jalsa</td>\n",
       "      <td>Yes</td>\n",
       "      <td>Yes</td>\n",
       "      <td>4.1</td>\n",
       "      <td>775</td>\n",
       "      <td>Banashankari</td>\n",
       "      <td>Casual Dining</td>\n",
       "      <td>North Indian, Mughlai, Chinese</td>\n",
       "      <td>800</td>\n",
       "      <td>Buffet</td>\n",
       "    </tr>\n",
       "    <tr>\n",
       "      <th>1</th>\n",
       "      <td>Spice Elephant</td>\n",
       "      <td>Yes</td>\n",
       "      <td>No</td>\n",
       "      <td>4.1</td>\n",
       "      <td>787</td>\n",
       "      <td>Banashankari</td>\n",
       "      <td>Casual Dining</td>\n",
       "      <td>Chinese, North Indian, Thai</td>\n",
       "      <td>800</td>\n",
       "      <td>Buffet</td>\n",
       "    </tr>\n",
       "    <tr>\n",
       "      <th>2</th>\n",
       "      <td>San Churro Cafe</td>\n",
       "      <td>Yes</td>\n",
       "      <td>No</td>\n",
       "      <td>3.8</td>\n",
       "      <td>918</td>\n",
       "      <td>Banashankari</td>\n",
       "      <td>Cafe, Casual Dining</td>\n",
       "      <td>Cafe, Mexican, Italian</td>\n",
       "      <td>800</td>\n",
       "      <td>Buffet</td>\n",
       "    </tr>\n",
       "    <tr>\n",
       "      <th>3</th>\n",
       "      <td>Addhuri Udupi Bhojana</td>\n",
       "      <td>No</td>\n",
       "      <td>No</td>\n",
       "      <td>3.7</td>\n",
       "      <td>88</td>\n",
       "      <td>Banashankari</td>\n",
       "      <td>Quick Bites</td>\n",
       "      <td>South Indian, North Indian</td>\n",
       "      <td>300</td>\n",
       "      <td>Buffet</td>\n",
       "    </tr>\n",
       "    <tr>\n",
       "      <th>4</th>\n",
       "      <td>Grand Village</td>\n",
       "      <td>No</td>\n",
       "      <td>No</td>\n",
       "      <td>3.8</td>\n",
       "      <td>166</td>\n",
       "      <td>Basavanagudi</td>\n",
       "      <td>Casual Dining</td>\n",
       "      <td>North Indian, Rajasthani</td>\n",
       "      <td>600</td>\n",
       "      <td>Buffet</td>\n",
       "    </tr>\n",
       "  </tbody>\n",
       "</table>\n",
       "</div>"
      ],
      "text/plain": [
       "                    name online_order book_table  rate  votes      location  \\\n",
       "0                  Jalsa          Yes        Yes   4.1    775  Banashankari   \n",
       "1         Spice Elephant          Yes         No   4.1    787  Banashankari   \n",
       "2        San Churro Cafe          Yes         No   3.8    918  Banashankari   \n",
       "3  Addhuri Udupi Bhojana           No         No   3.7     88  Banashankari   \n",
       "4          Grand Village           No         No   3.8    166  Basavanagudi   \n",
       "\n",
       "             rest_type                        cuisines  cost listed_in(type)  \n",
       "0        Casual Dining  North Indian, Mughlai, Chinese   800          Buffet  \n",
       "1        Casual Dining     Chinese, North Indian, Thai   800          Buffet  \n",
       "2  Cafe, Casual Dining          Cafe, Mexican, Italian   800          Buffet  \n",
       "3          Quick Bites      South Indian, North Indian   300          Buffet  \n",
       "4        Casual Dining        North Indian, Rajasthani   600          Buffet  "
      ]
     },
     "execution_count": 249,
     "metadata": {},
     "output_type": "execute_result"
    }
   ],
   "source": [
    "new_df.head()"
   ]
  },
  {
   "cell_type": "code",
   "execution_count": 238,
   "metadata": {},
   "outputs": [
    {
     "data": {
      "text/plain": [
       "(1425.0, -375.0)"
      ]
     },
     "execution_count": 238,
     "metadata": {},
     "output_type": "execute_result"
    }
   ],
   "source": [
    "#Function to identify the outer fence and inner fence values using IQR method to filter the values withing that range\n",
    "def outlier(x):\n",
    "    q1 = x.quantile(0.25)\n",
    "    q3 = x.quantile(0.75)\n",
    "    iqr = q3-q1\n",
    "    upper_fence = q3+(1.5*iqr)\n",
    "    lower_fence = q1-(1.5*iqr)\n",
    "    return upper_fence,lower_fence\n",
    "outlier(new_df.cost)"
   ]
  },
  {
   "cell_type": "code",
   "execution_count": 244,
   "metadata": {},
   "outputs": [],
   "source": [
    "new_df1=new_df.copy()\n",
    "\n",
    "new_df1.loc[(new_df1.cost>=1425),'cost']=1425"
   ]
  },
  {
   "cell_type": "code",
   "execution_count": 247,
   "metadata": {},
   "outputs": [
    {
     "data": {
      "text/html": [
       "<div>\n",
       "<style scoped>\n",
       "    .dataframe tbody tr th:only-of-type {\n",
       "        vertical-align: middle;\n",
       "    }\n",
       "\n",
       "    .dataframe tbody tr th {\n",
       "        vertical-align: top;\n",
       "    }\n",
       "\n",
       "    .dataframe thead th {\n",
       "        text-align: right;\n",
       "    }\n",
       "</style>\n",
       "<table border=\"1\" class=\"dataframe\">\n",
       "  <thead>\n",
       "    <tr style=\"text-align: right;\">\n",
       "      <th></th>\n",
       "      <th>name</th>\n",
       "      <th>online_order</th>\n",
       "      <th>book_table</th>\n",
       "      <th>rate</th>\n",
       "      <th>votes</th>\n",
       "      <th>location</th>\n",
       "      <th>rest_type</th>\n",
       "      <th>cuisines</th>\n",
       "      <th>cost</th>\n",
       "      <th>listed_in(type)</th>\n",
       "    </tr>\n",
       "  </thead>\n",
       "  <tbody>\n",
       "    <tr>\n",
       "      <th>0</th>\n",
       "      <td>Jalsa</td>\n",
       "      <td>Yes</td>\n",
       "      <td>Yes</td>\n",
       "      <td>4.1</td>\n",
       "      <td>775</td>\n",
       "      <td>Banashankari</td>\n",
       "      <td>Casual Dining</td>\n",
       "      <td>North Indian, Mughlai, Chinese</td>\n",
       "      <td>800</td>\n",
       "      <td>Buffet</td>\n",
       "    </tr>\n",
       "    <tr>\n",
       "      <th>1</th>\n",
       "      <td>Spice Elephant</td>\n",
       "      <td>Yes</td>\n",
       "      <td>No</td>\n",
       "      <td>4.1</td>\n",
       "      <td>787</td>\n",
       "      <td>Banashankari</td>\n",
       "      <td>Casual Dining</td>\n",
       "      <td>Chinese, North Indian, Thai</td>\n",
       "      <td>800</td>\n",
       "      <td>Buffet</td>\n",
       "    </tr>\n",
       "    <tr>\n",
       "      <th>2</th>\n",
       "      <td>San Churro Cafe</td>\n",
       "      <td>Yes</td>\n",
       "      <td>No</td>\n",
       "      <td>3.8</td>\n",
       "      <td>918</td>\n",
       "      <td>Banashankari</td>\n",
       "      <td>Cafe, Casual Dining</td>\n",
       "      <td>Cafe, Mexican, Italian</td>\n",
       "      <td>800</td>\n",
       "      <td>Buffet</td>\n",
       "    </tr>\n",
       "    <tr>\n",
       "      <th>3</th>\n",
       "      <td>Addhuri Udupi Bhojana</td>\n",
       "      <td>No</td>\n",
       "      <td>No</td>\n",
       "      <td>3.7</td>\n",
       "      <td>88</td>\n",
       "      <td>Banashankari</td>\n",
       "      <td>Quick Bites</td>\n",
       "      <td>South Indian, North Indian</td>\n",
       "      <td>300</td>\n",
       "      <td>Buffet</td>\n",
       "    </tr>\n",
       "    <tr>\n",
       "      <th>4</th>\n",
       "      <td>Grand Village</td>\n",
       "      <td>No</td>\n",
       "      <td>No</td>\n",
       "      <td>3.8</td>\n",
       "      <td>166</td>\n",
       "      <td>Basavanagudi</td>\n",
       "      <td>Casual Dining</td>\n",
       "      <td>North Indian, Rajasthani</td>\n",
       "      <td>600</td>\n",
       "      <td>Buffet</td>\n",
       "    </tr>\n",
       "    <tr>\n",
       "      <th>...</th>\n",
       "      <td>...</td>\n",
       "      <td>...</td>\n",
       "      <td>...</td>\n",
       "      <td>...</td>\n",
       "      <td>...</td>\n",
       "      <td>...</td>\n",
       "      <td>...</td>\n",
       "      <td>...</td>\n",
       "      <td>...</td>\n",
       "      <td>...</td>\n",
       "    </tr>\n",
       "    <tr>\n",
       "      <th>41258</th>\n",
       "      <td>The Farm House Bar n Grill</td>\n",
       "      <td>No</td>\n",
       "      <td>No</td>\n",
       "      <td>3.7</td>\n",
       "      <td>34</td>\n",
       "      <td>Whitefield</td>\n",
       "      <td>Casual Dining, Bar</td>\n",
       "      <td>North Indian, Continental</td>\n",
       "      <td>800</td>\n",
       "      <td>Pubs and bars</td>\n",
       "    </tr>\n",
       "    <tr>\n",
       "      <th>41259</th>\n",
       "      <td>Bhagini</td>\n",
       "      <td>No</td>\n",
       "      <td>No</td>\n",
       "      <td>2.5</td>\n",
       "      <td>81</td>\n",
       "      <td>Whitefield</td>\n",
       "      <td>Casual Dining, Bar</td>\n",
       "      <td>Andhra, South Indian, Chinese, North Indian</td>\n",
       "      <td>800</td>\n",
       "      <td>Pubs and bars</td>\n",
       "    </tr>\n",
       "    <tr>\n",
       "      <th>41260</th>\n",
       "      <td>Best Brews - Four Points by Sheraton Bengaluru...</td>\n",
       "      <td>No</td>\n",
       "      <td>No</td>\n",
       "      <td>3.6</td>\n",
       "      <td>27</td>\n",
       "      <td>Whitefield</td>\n",
       "      <td>Bar</td>\n",
       "      <td>Continental</td>\n",
       "      <td>1425</td>\n",
       "      <td>Pubs and bars</td>\n",
       "    </tr>\n",
       "    <tr>\n",
       "      <th>41261</th>\n",
       "      <td>Chime - Sheraton Grand Bengaluru Whitefield Ho...</td>\n",
       "      <td>No</td>\n",
       "      <td>Yes</td>\n",
       "      <td>4.3</td>\n",
       "      <td>236</td>\n",
       "      <td>ITPL Main Road, Whitefield</td>\n",
       "      <td>Bar</td>\n",
       "      <td>Finger Food</td>\n",
       "      <td>1425</td>\n",
       "      <td>Pubs and bars</td>\n",
       "    </tr>\n",
       "    <tr>\n",
       "      <th>41262</th>\n",
       "      <td>The Nest - The Den Bengaluru</td>\n",
       "      <td>No</td>\n",
       "      <td>No</td>\n",
       "      <td>3.4</td>\n",
       "      <td>13</td>\n",
       "      <td>ITPL Main Road, Whitefield</td>\n",
       "      <td>Bar, Casual Dining</td>\n",
       "      <td>Finger Food, North Indian, Continental</td>\n",
       "      <td>1425</td>\n",
       "      <td>Pubs and bars</td>\n",
       "    </tr>\n",
       "  </tbody>\n",
       "</table>\n",
       "<p>41263 rows × 10 columns</p>\n",
       "</div>"
      ],
      "text/plain": [
       "                                                    name online_order  \\\n",
       "0                                                  Jalsa          Yes   \n",
       "1                                         Spice Elephant          Yes   \n",
       "2                                        San Churro Cafe          Yes   \n",
       "3                                  Addhuri Udupi Bhojana           No   \n",
       "4                                          Grand Village           No   \n",
       "...                                                  ...          ...   \n",
       "41258                         The Farm House Bar n Grill           No   \n",
       "41259                                            Bhagini           No   \n",
       "41260  Best Brews - Four Points by Sheraton Bengaluru...           No   \n",
       "41261  Chime - Sheraton Grand Bengaluru Whitefield Ho...           No   \n",
       "41262                       The Nest - The Den Bengaluru           No   \n",
       "\n",
       "      book_table  rate  votes                    location  \\\n",
       "0            Yes   4.1    775                Banashankari   \n",
       "1             No   4.1    787                Banashankari   \n",
       "2             No   3.8    918                Banashankari   \n",
       "3             No   3.7     88                Banashankari   \n",
       "4             No   3.8    166                Basavanagudi   \n",
       "...          ...   ...    ...                         ...   \n",
       "41258         No   3.7     34                  Whitefield   \n",
       "41259         No   2.5     81                  Whitefield   \n",
       "41260         No   3.6     27                  Whitefield   \n",
       "41261        Yes   4.3    236  ITPL Main Road, Whitefield   \n",
       "41262         No   3.4     13  ITPL Main Road, Whitefield   \n",
       "\n",
       "                 rest_type                                     cuisines  cost  \\\n",
       "0            Casual Dining               North Indian, Mughlai, Chinese   800   \n",
       "1            Casual Dining                  Chinese, North Indian, Thai   800   \n",
       "2      Cafe, Casual Dining                       Cafe, Mexican, Italian   800   \n",
       "3              Quick Bites                   South Indian, North Indian   300   \n",
       "4            Casual Dining                     North Indian, Rajasthani   600   \n",
       "...                    ...                                          ...   ...   \n",
       "41258   Casual Dining, Bar                    North Indian, Continental   800   \n",
       "41259   Casual Dining, Bar  Andhra, South Indian, Chinese, North Indian   800   \n",
       "41260                  Bar                                  Continental  1425   \n",
       "41261                  Bar                                  Finger Food  1425   \n",
       "41262   Bar, Casual Dining       Finger Food, North Indian, Continental  1425   \n",
       "\n",
       "      listed_in(type)  \n",
       "0              Buffet  \n",
       "1              Buffet  \n",
       "2              Buffet  \n",
       "3              Buffet  \n",
       "4              Buffet  \n",
       "...               ...  \n",
       "41258   Pubs and bars  \n",
       "41259   Pubs and bars  \n",
       "41260   Pubs and bars  \n",
       "41261   Pubs and bars  \n",
       "41262   Pubs and bars  \n",
       "\n",
       "[41263 rows x 10 columns]"
      ]
     },
     "execution_count": 247,
     "metadata": {},
     "output_type": "execute_result"
    }
   ],
   "source": [
    "new_df1"
   ]
  },
  {
   "cell_type": "code",
   "execution_count": 245,
   "metadata": {},
   "outputs": [
    {
     "data": {
      "text/plain": [
       "(661.0, -363.0)"
      ]
     },
     "execution_count": 245,
     "metadata": {},
     "output_type": "execute_result"
    }
   ],
   "source": [
    "def outlier(x):\n",
    "    q1 = x.quantile(0.25)\n",
    "    q3 = x.quantile(0.75)\n",
    "    iqr = q3-q1\n",
    "    upper_fence = q3+(1.5*iqr)\n",
    "    lower_fence = q1-(1.5*iqr)\n",
    "    return upper_fence,lower_fence\n",
    "outlier(new_df.votes)"
   ]
  },
  {
   "cell_type": "code",
   "execution_count": 246,
   "metadata": {},
   "outputs": [],
   "source": [
    "new_df3=new_df1.copy()\n",
    "\n",
    "new_df3.loc[(new_df3.cost>=661.0),'cost']=661.0"
   ]
  },
  {
   "cell_type": "code",
   "execution_count": 248,
   "metadata": {
    "execution": {
     "iopub.execute_input": "2021-09-25T05:42:12.929767Z",
     "iopub.status.busy": "2021-09-25T05:42:12.929444Z",
     "iopub.status.idle": "2021-09-25T05:42:12.947876Z",
     "shell.execute_reply": "2021-09-25T05:42:12.947250Z",
     "shell.execute_reply.started": "2021-09-25T05:42:12.929740Z"
    }
   },
   "outputs": [
    {
     "data": {
      "text/plain": [
       "count    41263.000000\n",
       "mean       352.683179\n",
       "std        884.177761\n",
       "min          0.000000\n",
       "25%         21.000000\n",
       "50%         73.000000\n",
       "75%        277.000000\n",
       "max      16832.000000\n",
       "Name: votes, dtype: float64"
      ]
     },
     "execution_count": 248,
     "metadata": {},
     "output_type": "execute_result"
    }
   ],
   "source": [
    "new_df3.votes.describe()"
   ]
  },
  {
   "cell_type": "code",
   "execution_count": 150,
   "metadata": {
    "execution": {
     "iopub.execute_input": "2021-09-25T05:42:12.999434Z",
     "iopub.status.busy": "2021-09-25T05:42:12.999101Z",
     "iopub.status.idle": "2021-09-25T05:42:13.020849Z",
     "shell.execute_reply": "2021-09-25T05:42:13.020062Z",
     "shell.execute_reply.started": "2021-09-25T05:42:12.999406Z"
    }
   },
   "outputs": [
    {
     "data": {
      "text/plain": [
       "BTM                      3794\n",
       "Koramangala 5th Block    2214\n",
       "HSR                      1964\n",
       "Indiranagar              1739\n",
       "JP Nagar                 1675\n",
       "                         ... \n",
       "Yelahanka                   4\n",
       "West Bangalore              3\n",
       "Rajarajeshwari Nagar        2\n",
       "Peenya                      1\n",
       "Nagarbhavi                  1\n",
       "Name: location, Length: 92, dtype: int64"
      ]
     },
     "execution_count": 150,
     "metadata": {},
     "output_type": "execute_result"
    }
   ],
   "source": [
    "new_df3.location.value_counts()"
   ]
  },
  {
   "cell_type": "code",
   "execution_count": 161,
   "metadata": {
    "execution": {
     "iopub.execute_input": "2021-09-25T05:42:13.022502Z",
     "iopub.status.busy": "2021-09-25T05:42:13.021830Z",
     "iopub.status.idle": "2021-09-25T05:42:15.138255Z",
     "shell.execute_reply": "2021-09-25T05:42:15.137422Z",
     "shell.execute_reply.started": "2021-09-25T05:42:13.022468Z"
    }
   },
   "outputs": [
    {
     "data": {
      "image/png": "[encoded data removed]",
      "text/plain": [
       "<Figure size 1440x720 with 1 Axes>"
      ]
     },
     "metadata": {
      "needs_background": "light"
     },
     "output_type": "display_data"
    }
   ],
   "source": [
    "plt.figure(figsize=(20,10))\n",
    "sns.histplot(new_df3.location)\n",
    "plt.xticks(rotation=90);"
   ]
  },
  {
   "cell_type": "code",
   "execution_count": 162,
   "metadata": {
    "execution": {
     "iopub.execute_input": "2021-09-25T05:42:15.139759Z",
     "iopub.status.busy": "2021-09-25T05:42:15.139528Z",
     "iopub.status.idle": "2021-09-25T05:42:15.770461Z",
     "shell.execute_reply": "2021-09-25T05:42:15.768779Z",
     "shell.execute_reply.started": "2021-09-25T05:42:15.139732Z"
    }
   },
   "outputs": [
    {
     "data": {
      "text/plain": [
       "<AxesSubplot:xlabel='rate', ylabel='Count'>"
      ]
     },
     "execution_count": 162,
     "metadata": {},
     "output_type": "execute_result"
    },
    {
     "data": {
      "image/png": "[encoded data removed]",
      "text/plain": [
       "<Figure size 432x288 with 1 Axes>"
      ]
     },
     "metadata": {
      "needs_background": "light"
     },
     "output_type": "display_data"
    }
   ],
   "source": [
    "sns.histplot(new_df3.rate)"
   ]
  },
  {
   "cell_type": "code",
   "execution_count": 164,
   "metadata": {
    "execution": {
     "iopub.execute_input": "2021-09-25T05:42:16.012642Z",
     "iopub.status.busy": "2021-09-25T05:42:16.012447Z",
     "iopub.status.idle": "2021-09-25T05:42:16.341851Z",
     "shell.execute_reply": "2021-09-25T05:42:16.341000Z",
     "shell.execute_reply.started": "2021-09-25T05:42:16.012617Z"
    }
   },
   "outputs": [
    {
     "data": {
      "image/png": "[encoded data removed]",
      "text/plain": [
       "<Figure size 432x288 with 1 Axes>"
      ]
     },
     "metadata": {
      "needs_background": "light"
     },
     "output_type": "display_data"
    }
   ],
   "source": [
    "sns.histplot(new_df3['listed_in(type)'])\n",
    "plt.xticks(rotation=90);"
   ]
  },
  {
   "cell_type": "code",
   "execution_count": 251,
   "metadata": {},
   "outputs": [
    {
     "data": {
      "text/plain": [
       "2367"
      ]
     },
     "execution_count": 251,
     "metadata": {},
     "output_type": "execute_result"
    }
   ],
   "source": [
    "new_df3.cuisines.nunique()"
   ]
  },
  {
   "cell_type": "code",
   "execution_count": null,
   "metadata": {},
   "outputs": [],
   "source": [
    "# There are many categorical variables in the dataset.so I have used label encoder to encode those variable values."
   ]
  },
  {
   "cell_type": "code",
   "execution_count": 252,
   "metadata": {
    "execution": {
     "iopub.execute_input": "2021-09-25T05:42:16.358719Z",
     "iopub.status.busy": "2021-09-25T05:42:16.358163Z",
     "iopub.status.idle": "2021-09-25T05:42:16.508163Z",
     "shell.execute_reply": "2021-09-25T05:42:16.507289Z",
     "shell.execute_reply.started": "2021-09-25T05:42:16.358682Z"
    }
   },
   "outputs": [],
   "source": [
    "from sklearn.preprocessing import LabelEncoder"
   ]
  },
  {
   "cell_type": "code",
   "execution_count": 253,
   "metadata": {
    "execution": {
     "iopub.execute_input": "2021-09-25T05:42:16.509808Z",
     "iopub.status.busy": "2021-09-25T05:42:16.509553Z",
     "iopub.status.idle": "2021-09-25T05:42:16.513842Z",
     "shell.execute_reply": "2021-09-25T05:42:16.512903Z",
     "shell.execute_reply.started": "2021-09-25T05:42:16.509778Z"
    }
   },
   "outputs": [],
   "source": [
    "LE = LabelEncoder()"
   ]
  },
  {
   "cell_type": "code",
   "execution_count": 254,
   "metadata": {
    "execution": {
     "iopub.execute_input": "2021-09-25T05:42:16.515488Z",
     "iopub.status.busy": "2021-09-25T05:42:16.515195Z",
     "iopub.status.idle": "2021-09-25T05:42:16.543996Z",
     "shell.execute_reply": "2021-09-25T05:42:16.543116Z",
     "shell.execute_reply.started": "2021-09-25T05:42:16.515456Z"
    }
   },
   "outputs": [],
   "source": [
    "new_df3['online_order'] = LE.fit_transform(new_df3['online_order'])"
   ]
  },
  {
   "cell_type": "code",
   "execution_count": 255,
   "metadata": {
    "execution": {
     "iopub.execute_input": "2021-09-25T05:42:16.545753Z",
     "iopub.status.busy": "2021-09-25T05:42:16.545481Z",
     "iopub.status.idle": "2021-09-25T05:42:16.603193Z",
     "shell.execute_reply": "2021-09-25T05:42:16.602345Z",
     "shell.execute_reply.started": "2021-09-25T05:42:16.545717Z"
    }
   },
   "outputs": [],
   "source": [
    "new_df3['book_table'] = LE.fit_transform(new_df3['book_table'])\n",
    "new_df3['location'] = LE.fit_transform(new_df3['location'])\n",
    "new_df3['listed_in(type)'] = LE.fit_transform(new_df3['listed_in(type)'])"
   ]
  },
  {
   "cell_type": "code",
   "execution_count": 256,
   "metadata": {
    "execution": {
     "iopub.execute_input": "2021-09-25T05:42:16.604720Z",
     "iopub.status.busy": "2021-09-25T05:42:16.604489Z",
     "iopub.status.idle": "2021-09-25T05:42:16.612739Z",
     "shell.execute_reply": "2021-09-25T05:42:16.611788Z",
     "shell.execute_reply.started": "2021-09-25T05:42:16.604692Z"
    }
   },
   "outputs": [],
   "source": [
    "new_df3 = new_df3.reset_index(drop=True)"
   ]
  },
  {
   "cell_type": "code",
   "execution_count": 257,
   "metadata": {
    "execution": {
     "iopub.execute_input": "2021-09-25T05:42:16.614772Z",
     "iopub.status.busy": "2021-09-25T05:42:16.614482Z",
     "iopub.status.idle": "2021-09-25T05:42:16.638342Z",
     "shell.execute_reply": "2021-09-25T05:42:16.637357Z",
     "shell.execute_reply.started": "2021-09-25T05:42:16.614735Z"
    }
   },
   "outputs": [
    {
     "data": {
      "text/html": [
       "<div>\n",
       "<style scoped>\n",
       "    .dataframe tbody tr th:only-of-type {\n",
       "        vertical-align: middle;\n",
       "    }\n",
       "\n",
       "    .dataframe tbody tr th {\n",
       "        vertical-align: top;\n",
       "    }\n",
       "\n",
       "    .dataframe thead th {\n",
       "        text-align: right;\n",
       "    }\n",
       "</style>\n",
       "<table border=\"1\" class=\"dataframe\">\n",
       "  <thead>\n",
       "    <tr style=\"text-align: right;\">\n",
       "      <th></th>\n",
       "      <th>name</th>\n",
       "      <th>online_order</th>\n",
       "      <th>book_table</th>\n",
       "      <th>rate</th>\n",
       "      <th>votes</th>\n",
       "      <th>location</th>\n",
       "      <th>rest_type</th>\n",
       "      <th>cuisines</th>\n",
       "      <th>cost</th>\n",
       "      <th>listed_in(type)</th>\n",
       "    </tr>\n",
       "  </thead>\n",
       "  <tbody>\n",
       "    <tr>\n",
       "      <th>0</th>\n",
       "      <td>Jalsa</td>\n",
       "      <td>1</td>\n",
       "      <td>1</td>\n",
       "      <td>4.1</td>\n",
       "      <td>775</td>\n",
       "      <td>1</td>\n",
       "      <td>Casual Dining</td>\n",
       "      <td>North Indian, Mughlai, Chinese</td>\n",
       "      <td>661</td>\n",
       "      <td>0</td>\n",
       "    </tr>\n",
       "    <tr>\n",
       "      <th>1</th>\n",
       "      <td>Spice Elephant</td>\n",
       "      <td>1</td>\n",
       "      <td>0</td>\n",
       "      <td>4.1</td>\n",
       "      <td>787</td>\n",
       "      <td>1</td>\n",
       "      <td>Casual Dining</td>\n",
       "      <td>Chinese, North Indian, Thai</td>\n",
       "      <td>661</td>\n",
       "      <td>0</td>\n",
       "    </tr>\n",
       "    <tr>\n",
       "      <th>2</th>\n",
       "      <td>San Churro Cafe</td>\n",
       "      <td>1</td>\n",
       "      <td>0</td>\n",
       "      <td>3.8</td>\n",
       "      <td>918</td>\n",
       "      <td>1</td>\n",
       "      <td>Cafe, Casual Dining</td>\n",
       "      <td>Cafe, Mexican, Italian</td>\n",
       "      <td>661</td>\n",
       "      <td>0</td>\n",
       "    </tr>\n",
       "    <tr>\n",
       "      <th>3</th>\n",
       "      <td>Addhuri Udupi Bhojana</td>\n",
       "      <td>0</td>\n",
       "      <td>0</td>\n",
       "      <td>3.7</td>\n",
       "      <td>88</td>\n",
       "      <td>1</td>\n",
       "      <td>Quick Bites</td>\n",
       "      <td>South Indian, North Indian</td>\n",
       "      <td>300</td>\n",
       "      <td>0</td>\n",
       "    </tr>\n",
       "    <tr>\n",
       "      <th>4</th>\n",
       "      <td>Grand Village</td>\n",
       "      <td>0</td>\n",
       "      <td>0</td>\n",
       "      <td>3.8</td>\n",
       "      <td>166</td>\n",
       "      <td>4</td>\n",
       "      <td>Casual Dining</td>\n",
       "      <td>North Indian, Rajasthani</td>\n",
       "      <td>600</td>\n",
       "      <td>0</td>\n",
       "    </tr>\n",
       "    <tr>\n",
       "      <th>...</th>\n",
       "      <td>...</td>\n",
       "      <td>...</td>\n",
       "      <td>...</td>\n",
       "      <td>...</td>\n",
       "      <td>...</td>\n",
       "      <td>...</td>\n",
       "      <td>...</td>\n",
       "      <td>...</td>\n",
       "      <td>...</td>\n",
       "      <td>...</td>\n",
       "    </tr>\n",
       "    <tr>\n",
       "      <th>41258</th>\n",
       "      <td>The Farm House Bar n Grill</td>\n",
       "      <td>0</td>\n",
       "      <td>0</td>\n",
       "      <td>3.7</td>\n",
       "      <td>34</td>\n",
       "      <td>88</td>\n",
       "      <td>Casual Dining, Bar</td>\n",
       "      <td>North Indian, Continental</td>\n",
       "      <td>661</td>\n",
       "      <td>6</td>\n",
       "    </tr>\n",
       "    <tr>\n",
       "      <th>41259</th>\n",
       "      <td>Bhagini</td>\n",
       "      <td>0</td>\n",
       "      <td>0</td>\n",
       "      <td>2.5</td>\n",
       "      <td>81</td>\n",
       "      <td>88</td>\n",
       "      <td>Casual Dining, Bar</td>\n",
       "      <td>Andhra, South Indian, Chinese, North Indian</td>\n",
       "      <td>661</td>\n",
       "      <td>6</td>\n",
       "    </tr>\n",
       "    <tr>\n",
       "      <th>41260</th>\n",
       "      <td>Best Brews - Four Points by Sheraton Bengaluru...</td>\n",
       "      <td>0</td>\n",
       "      <td>0</td>\n",
       "      <td>3.6</td>\n",
       "      <td>27</td>\n",
       "      <td>88</td>\n",
       "      <td>Bar</td>\n",
       "      <td>Continental</td>\n",
       "      <td>661</td>\n",
       "      <td>6</td>\n",
       "    </tr>\n",
       "    <tr>\n",
       "      <th>41261</th>\n",
       "      <td>Chime - Sheraton Grand Bengaluru Whitefield Ho...</td>\n",
       "      <td>0</td>\n",
       "      <td>1</td>\n",
       "      <td>4.3</td>\n",
       "      <td>236</td>\n",
       "      <td>26</td>\n",
       "      <td>Bar</td>\n",
       "      <td>Finger Food</td>\n",
       "      <td>661</td>\n",
       "      <td>6</td>\n",
       "    </tr>\n",
       "    <tr>\n",
       "      <th>41262</th>\n",
       "      <td>The Nest - The Den Bengaluru</td>\n",
       "      <td>0</td>\n",
       "      <td>0</td>\n",
       "      <td>3.4</td>\n",
       "      <td>13</td>\n",
       "      <td>26</td>\n",
       "      <td>Bar, Casual Dining</td>\n",
       "      <td>Finger Food, North Indian, Continental</td>\n",
       "      <td>661</td>\n",
       "      <td>6</td>\n",
       "    </tr>\n",
       "  </tbody>\n",
       "</table>\n",
       "<p>41263 rows × 10 columns</p>\n",
       "</div>"
      ],
      "text/plain": [
       "                                                    name  online_order  \\\n",
       "0                                                  Jalsa             1   \n",
       "1                                         Spice Elephant             1   \n",
       "2                                        San Churro Cafe             1   \n",
       "3                                  Addhuri Udupi Bhojana             0   \n",
       "4                                          Grand Village             0   \n",
       "...                                                  ...           ...   \n",
       "41258                         The Farm House Bar n Grill             0   \n",
       "41259                                            Bhagini             0   \n",
       "41260  Best Brews - Four Points by Sheraton Bengaluru...             0   \n",
       "41261  Chime - Sheraton Grand Bengaluru Whitefield Ho...             0   \n",
       "41262                       The Nest - The Den Bengaluru             0   \n",
       "\n",
       "       book_table  rate  votes  location            rest_type  \\\n",
       "0               1   4.1    775         1        Casual Dining   \n",
       "1               0   4.1    787         1        Casual Dining   \n",
       "2               0   3.8    918         1  Cafe, Casual Dining   \n",
       "3               0   3.7     88         1          Quick Bites   \n",
       "4               0   3.8    166         4        Casual Dining   \n",
       "...           ...   ...    ...       ...                  ...   \n",
       "41258           0   3.7     34        88   Casual Dining, Bar   \n",
       "41259           0   2.5     81        88   Casual Dining, Bar   \n",
       "41260           0   3.6     27        88                  Bar   \n",
       "41261           1   4.3    236        26                  Bar   \n",
       "41262           0   3.4     13        26   Bar, Casual Dining   \n",
       "\n",
       "                                          cuisines  cost  listed_in(type)  \n",
       "0                   North Indian, Mughlai, Chinese   661                0  \n",
       "1                      Chinese, North Indian, Thai   661                0  \n",
       "2                           Cafe, Mexican, Italian   661                0  \n",
       "3                       South Indian, North Indian   300                0  \n",
       "4                         North Indian, Rajasthani   600                0  \n",
       "...                                            ...   ...              ...  \n",
       "41258                    North Indian, Continental   661                6  \n",
       "41259  Andhra, South Indian, Chinese, North Indian   661                6  \n",
       "41260                                  Continental   661                6  \n",
       "41261                                  Finger Food   661                6  \n",
       "41262       Finger Food, North Indian, Continental   661                6  \n",
       "\n",
       "[41263 rows x 10 columns]"
      ]
     },
     "execution_count": 257,
     "metadata": {},
     "output_type": "execute_result"
    }
   ],
   "source": [
    "new_df3"
   ]
  },
  {
   "cell_type": "code",
   "execution_count": 258,
   "metadata": {
    "execution": {
     "iopub.execute_input": "2021-09-25T05:42:16.640042Z",
     "iopub.status.busy": "2021-09-25T05:42:16.639728Z",
     "iopub.status.idle": "2021-09-25T05:42:16.861882Z",
     "shell.execute_reply": "2021-09-25T05:42:16.861020Z",
     "shell.execute_reply.started": "2021-09-25T05:42:16.640012Z"
    }
   },
   "outputs": [
    {
     "data": {
      "text/html": [
       "<div>\n",
       "<style scoped>\n",
       "    .dataframe tbody tr th:only-of-type {\n",
       "        vertical-align: middle;\n",
       "    }\n",
       "\n",
       "    .dataframe tbody tr th {\n",
       "        vertical-align: top;\n",
       "    }\n",
       "\n",
       "    .dataframe thead th {\n",
       "        text-align: right;\n",
       "    }\n",
       "</style>\n",
       "<table border=\"1\" class=\"dataframe\">\n",
       "  <thead>\n",
       "    <tr style=\"text-align: right;\">\n",
       "      <th></th>\n",
       "      <th>name</th>\n",
       "      <th>online_order</th>\n",
       "      <th>book_table</th>\n",
       "      <th>rate</th>\n",
       "      <th>votes</th>\n",
       "      <th>location</th>\n",
       "      <th>rest_type</th>\n",
       "      <th>cuisines</th>\n",
       "      <th>cost</th>\n",
       "      <th>listed_in(type)</th>\n",
       "    </tr>\n",
       "  </thead>\n",
       "  <tbody>\n",
       "    <tr>\n",
       "      <th>0</th>\n",
       "      <td>Jalsa</td>\n",
       "      <td>1</td>\n",
       "      <td>1</td>\n",
       "      <td>4.1</td>\n",
       "      <td>775</td>\n",
       "      <td>1</td>\n",
       "      <td>[Casual Dining]</td>\n",
       "      <td>[North Indian,  Mughlai,  Chinese]</td>\n",
       "      <td>661</td>\n",
       "      <td>0</td>\n",
       "    </tr>\n",
       "    <tr>\n",
       "      <th>1</th>\n",
       "      <td>Spice Elephant</td>\n",
       "      <td>1</td>\n",
       "      <td>0</td>\n",
       "      <td>4.1</td>\n",
       "      <td>787</td>\n",
       "      <td>1</td>\n",
       "      <td>[Casual Dining]</td>\n",
       "      <td>[Chinese,  North Indian,  Thai]</td>\n",
       "      <td>661</td>\n",
       "      <td>0</td>\n",
       "    </tr>\n",
       "    <tr>\n",
       "      <th>2</th>\n",
       "      <td>San Churro Cafe</td>\n",
       "      <td>1</td>\n",
       "      <td>0</td>\n",
       "      <td>3.8</td>\n",
       "      <td>918</td>\n",
       "      <td>1</td>\n",
       "      <td>[Cafe,  Casual Dining]</td>\n",
       "      <td>[Cafe,  Mexican,  Italian]</td>\n",
       "      <td>661</td>\n",
       "      <td>0</td>\n",
       "    </tr>\n",
       "    <tr>\n",
       "      <th>3</th>\n",
       "      <td>Addhuri Udupi Bhojana</td>\n",
       "      <td>0</td>\n",
       "      <td>0</td>\n",
       "      <td>3.7</td>\n",
       "      <td>88</td>\n",
       "      <td>1</td>\n",
       "      <td>[Quick Bites]</td>\n",
       "      <td>[South Indian,  North Indian]</td>\n",
       "      <td>300</td>\n",
       "      <td>0</td>\n",
       "    </tr>\n",
       "    <tr>\n",
       "      <th>4</th>\n",
       "      <td>Grand Village</td>\n",
       "      <td>0</td>\n",
       "      <td>0</td>\n",
       "      <td>3.8</td>\n",
       "      <td>166</td>\n",
       "      <td>4</td>\n",
       "      <td>[Casual Dining]</td>\n",
       "      <td>[North Indian,  Rajasthani]</td>\n",
       "      <td>600</td>\n",
       "      <td>0</td>\n",
       "    </tr>\n",
       "  </tbody>\n",
       "</table>\n",
       "</div>"
      ],
      "text/plain": [
       "                    name  online_order  book_table  rate  votes  location  \\\n",
       "0                  Jalsa             1           1   4.1    775         1   \n",
       "1         Spice Elephant             1           0   4.1    787         1   \n",
       "2        San Churro Cafe             1           0   3.8    918         1   \n",
       "3  Addhuri Udupi Bhojana             0           0   3.7     88         1   \n",
       "4          Grand Village             0           0   3.8    166         4   \n",
       "\n",
       "                rest_type                            cuisines  cost  \\\n",
       "0         [Casual Dining]  [North Indian,  Mughlai,  Chinese]   661   \n",
       "1         [Casual Dining]     [Chinese,  North Indian,  Thai]   661   \n",
       "2  [Cafe,  Casual Dining]          [Cafe,  Mexican,  Italian]   661   \n",
       "3           [Quick Bites]       [South Indian,  North Indian]   300   \n",
       "4         [Casual Dining]         [North Indian,  Rajasthani]   600   \n",
       "\n",
       "   listed_in(type)  \n",
       "0                0  \n",
       "1                0  \n",
       "2                0  \n",
       "3                0  \n",
       "4                0  "
      ]
     },
     "execution_count": 258,
     "metadata": {},
     "output_type": "execute_result"
    }
   ],
   "source": [
    "new_df4 = new_df3.copy()\n",
    "new_df4['rest_type'] = new_df4['rest_type'].str.split(',')\n",
    "new_df4['cuisines'] = new_df4['cuisines'].str.split(',')\n",
    "new_df4.head()"
   ]
  },
  {
   "cell_type": "code",
   "execution_count": 259,
   "metadata": {},
   "outputs": [
    {
     "data": {
      "text/plain": [
       "North Indian                                                   2913\n",
       "North Indian, Chinese                                          2385\n",
       "South Indian                                                   1828\n",
       "Biryani                                                         918\n",
       "Bakery, Desserts                                                911\n",
       "                                                               ... \n",
       "Seafood, North Indian, Chinese, Andhra, Biryani, Kebab            1\n",
       "Coffee, South Indian                                              1\n",
       "Biryani, North Indian, Chinese, Kebab                             1\n",
       "Sandwich, Salad, North Indian, Chinese                            1\n",
       "Asian, Continental, Mediterranean, Salad, American, Biryani       1\n",
       "Name: cuisines, Length: 2723, dtype: int64"
      ]
     },
     "execution_count": 259,
     "metadata": {},
     "output_type": "execute_result"
    }
   ],
   "source": [
    "df.cuisines.value_counts()"
   ]
  },
  {
   "cell_type": "code",
   "execution_count": 260,
   "metadata": {
    "execution": {
     "iopub.execute_input": "2021-09-25T05:42:16.863384Z",
     "iopub.status.busy": "2021-09-25T05:42:16.863113Z",
     "iopub.status.idle": "2021-09-25T05:42:17.101334Z",
     "shell.execute_reply": "2021-09-25T05:42:17.100417Z",
     "shell.execute_reply.started": "2021-09-25T05:42:16.863356Z"
    }
   },
   "outputs": [
    {
     "data": {
      "text/html": [
       "<div>\n",
       "<style scoped>\n",
       "    .dataframe tbody tr th:only-of-type {\n",
       "        vertical-align: middle;\n",
       "    }\n",
       "\n",
       "    .dataframe tbody tr th {\n",
       "        vertical-align: top;\n",
       "    }\n",
       "\n",
       "    .dataframe thead th {\n",
       "        text-align: right;\n",
       "    }\n",
       "</style>\n",
       "<table border=\"1\" class=\"dataframe\">\n",
       "  <thead>\n",
       "    <tr style=\"text-align: right;\">\n",
       "      <th></th>\n",
       "      <th>name</th>\n",
       "      <th>online_order</th>\n",
       "      <th>book_table</th>\n",
       "      <th>rate</th>\n",
       "      <th>votes</th>\n",
       "      <th>location</th>\n",
       "      <th>rest_type</th>\n",
       "      <th>cuisines</th>\n",
       "      <th>cost</th>\n",
       "      <th>listed_in(type)</th>\n",
       "    </tr>\n",
       "  </thead>\n",
       "  <tbody>\n",
       "    <tr>\n",
       "      <th>0</th>\n",
       "      <td>Jalsa</td>\n",
       "      <td>1</td>\n",
       "      <td>1</td>\n",
       "      <td>4.1</td>\n",
       "      <td>775</td>\n",
       "      <td>1</td>\n",
       "      <td>[Casual Dining]</td>\n",
       "      <td>[North Indian, Mughlai, Chinese]</td>\n",
       "      <td>661</td>\n",
       "      <td>0</td>\n",
       "    </tr>\n",
       "    <tr>\n",
       "      <th>1</th>\n",
       "      <td>Spice Elephant</td>\n",
       "      <td>1</td>\n",
       "      <td>0</td>\n",
       "      <td>4.1</td>\n",
       "      <td>787</td>\n",
       "      <td>1</td>\n",
       "      <td>[Casual Dining]</td>\n",
       "      <td>[Chinese, North Indian, Thai]</td>\n",
       "      <td>661</td>\n",
       "      <td>0</td>\n",
       "    </tr>\n",
       "    <tr>\n",
       "      <th>2</th>\n",
       "      <td>San Churro Cafe</td>\n",
       "      <td>1</td>\n",
       "      <td>0</td>\n",
       "      <td>3.8</td>\n",
       "      <td>918</td>\n",
       "      <td>1</td>\n",
       "      <td>[Cafe, Casual Dining]</td>\n",
       "      <td>[Cafe, Mexican, Italian]</td>\n",
       "      <td>661</td>\n",
       "      <td>0</td>\n",
       "    </tr>\n",
       "    <tr>\n",
       "      <th>3</th>\n",
       "      <td>Addhuri Udupi Bhojana</td>\n",
       "      <td>0</td>\n",
       "      <td>0</td>\n",
       "      <td>3.7</td>\n",
       "      <td>88</td>\n",
       "      <td>1</td>\n",
       "      <td>[Quick Bites]</td>\n",
       "      <td>[South Indian, North Indian]</td>\n",
       "      <td>300</td>\n",
       "      <td>0</td>\n",
       "    </tr>\n",
       "    <tr>\n",
       "      <th>4</th>\n",
       "      <td>Grand Village</td>\n",
       "      <td>0</td>\n",
       "      <td>0</td>\n",
       "      <td>3.8</td>\n",
       "      <td>166</td>\n",
       "      <td>4</td>\n",
       "      <td>[Casual Dining]</td>\n",
       "      <td>[North Indian, Rajasthani]</td>\n",
       "      <td>600</td>\n",
       "      <td>0</td>\n",
       "    </tr>\n",
       "  </tbody>\n",
       "</table>\n",
       "</div>"
      ],
      "text/plain": [
       "                    name  online_order  book_table  rate  votes  location  \\\n",
       "0                  Jalsa             1           1   4.1    775         1   \n",
       "1         Spice Elephant             1           0   4.1    787         1   \n",
       "2        San Churro Cafe             1           0   3.8    918         1   \n",
       "3  Addhuri Udupi Bhojana             0           0   3.7     88         1   \n",
       "4          Grand Village             0           0   3.8    166         4   \n",
       "\n",
       "               rest_type                          cuisines  cost  \\\n",
       "0        [Casual Dining]  [North Indian, Mughlai, Chinese]   661   \n",
       "1        [Casual Dining]     [Chinese, North Indian, Thai]   661   \n",
       "2  [Cafe, Casual Dining]          [Cafe, Mexican, Italian]   661   \n",
       "3          [Quick Bites]      [South Indian, North Indian]   300   \n",
       "4        [Casual Dining]        [North Indian, Rajasthani]   600   \n",
       "\n",
       "   listed_in(type)  \n",
       "0                0  \n",
       "1                0  \n",
       "2                0  \n",
       "3                0  \n",
       "4                0  "
      ]
     },
     "execution_count": 260,
     "metadata": {},
     "output_type": "execute_result"
    }
   ],
   "source": [
    "new_df4 = new_df4.copy()\n",
    "new_df4['rest_type'] = new_df4['rest_type'].apply(lambda x:[i.strip(' ') for i in x])\n",
    "new_df4['cuisines'] = new_df4['cuisines'].apply(lambda x:[i.strip(' ') for i in x])\n",
    "new_df4.head()"
   ]
  },
  {
   "cell_type": "code",
   "execution_count": 261,
   "metadata": {
    "execution": {
     "iopub.execute_input": "2021-09-25T05:42:17.102808Z",
     "iopub.status.busy": "2021-09-25T05:42:17.102578Z",
     "iopub.status.idle": "2021-09-25T05:42:19.843344Z",
     "shell.execute_reply": "2021-09-25T05:42:19.842489Z",
     "shell.execute_reply.started": "2021-09-25T05:42:17.102776Z"
    }
   },
   "outputs": [
    {
     "data": {
      "text/html": [
       "<div>\n",
       "<style scoped>\n",
       "    .dataframe tbody tr th:only-of-type {\n",
       "        vertical-align: middle;\n",
       "    }\n",
       "\n",
       "    .dataframe tbody tr th {\n",
       "        vertical-align: top;\n",
       "    }\n",
       "\n",
       "    .dataframe thead th {\n",
       "        text-align: right;\n",
       "    }\n",
       "</style>\n",
       "<table border=\"1\" class=\"dataframe\">\n",
       "  <thead>\n",
       "    <tr style=\"text-align: right;\">\n",
       "      <th></th>\n",
       "      <th>name</th>\n",
       "      <th>online_order</th>\n",
       "      <th>book_table</th>\n",
       "      <th>rate</th>\n",
       "      <th>votes</th>\n",
       "      <th>location</th>\n",
       "      <th>rest_type</th>\n",
       "      <th>cuisines</th>\n",
       "      <th>cost</th>\n",
       "      <th>listed_in(type)</th>\n",
       "      <th>...</th>\n",
       "      <th>Food Truck</th>\n",
       "      <th>Microbrewery</th>\n",
       "      <th>Lounge</th>\n",
       "      <th>Food Court</th>\n",
       "      <th>Dhaba</th>\n",
       "      <th>Club</th>\n",
       "      <th>Irani Cafee</th>\n",
       "      <th>Confectionery</th>\n",
       "      <th>Bhojanalya</th>\n",
       "      <th>Meat Shop</th>\n",
       "    </tr>\n",
       "  </thead>\n",
       "  <tbody>\n",
       "    <tr>\n",
       "      <th>0</th>\n",
       "      <td>Jalsa</td>\n",
       "      <td>1</td>\n",
       "      <td>1</td>\n",
       "      <td>4.1</td>\n",
       "      <td>775</td>\n",
       "      <td>1</td>\n",
       "      <td>[Casual Dining]</td>\n",
       "      <td>[North Indian, Mughlai, Chinese]</td>\n",
       "      <td>661</td>\n",
       "      <td>0</td>\n",
       "      <td>...</td>\n",
       "      <td>0.0</td>\n",
       "      <td>0.0</td>\n",
       "      <td>0.0</td>\n",
       "      <td>0.0</td>\n",
       "      <td>0.0</td>\n",
       "      <td>0.0</td>\n",
       "      <td>0.0</td>\n",
       "      <td>0.0</td>\n",
       "      <td>0.0</td>\n",
       "      <td>0.0</td>\n",
       "    </tr>\n",
       "    <tr>\n",
       "      <th>1</th>\n",
       "      <td>Spice Elephant</td>\n",
       "      <td>1</td>\n",
       "      <td>0</td>\n",
       "      <td>4.1</td>\n",
       "      <td>787</td>\n",
       "      <td>1</td>\n",
       "      <td>[Casual Dining]</td>\n",
       "      <td>[Chinese, North Indian, Thai]</td>\n",
       "      <td>661</td>\n",
       "      <td>0</td>\n",
       "      <td>...</td>\n",
       "      <td>0.0</td>\n",
       "      <td>0.0</td>\n",
       "      <td>0.0</td>\n",
       "      <td>0.0</td>\n",
       "      <td>0.0</td>\n",
       "      <td>0.0</td>\n",
       "      <td>0.0</td>\n",
       "      <td>0.0</td>\n",
       "      <td>0.0</td>\n",
       "      <td>0.0</td>\n",
       "    </tr>\n",
       "    <tr>\n",
       "      <th>2</th>\n",
       "      <td>San Churro Cafe</td>\n",
       "      <td>1</td>\n",
       "      <td>0</td>\n",
       "      <td>3.8</td>\n",
       "      <td>918</td>\n",
       "      <td>1</td>\n",
       "      <td>[Cafe, Casual Dining]</td>\n",
       "      <td>[Cafe, Mexican, Italian]</td>\n",
       "      <td>661</td>\n",
       "      <td>0</td>\n",
       "      <td>...</td>\n",
       "      <td>0.0</td>\n",
       "      <td>0.0</td>\n",
       "      <td>0.0</td>\n",
       "      <td>0.0</td>\n",
       "      <td>0.0</td>\n",
       "      <td>0.0</td>\n",
       "      <td>0.0</td>\n",
       "      <td>0.0</td>\n",
       "      <td>0.0</td>\n",
       "      <td>0.0</td>\n",
       "    </tr>\n",
       "    <tr>\n",
       "      <th>3</th>\n",
       "      <td>Addhuri Udupi Bhojana</td>\n",
       "      <td>0</td>\n",
       "      <td>0</td>\n",
       "      <td>3.7</td>\n",
       "      <td>88</td>\n",
       "      <td>1</td>\n",
       "      <td>[Quick Bites]</td>\n",
       "      <td>[South Indian, North Indian]</td>\n",
       "      <td>300</td>\n",
       "      <td>0</td>\n",
       "      <td>...</td>\n",
       "      <td>0.0</td>\n",
       "      <td>0.0</td>\n",
       "      <td>0.0</td>\n",
       "      <td>0.0</td>\n",
       "      <td>0.0</td>\n",
       "      <td>0.0</td>\n",
       "      <td>0.0</td>\n",
       "      <td>0.0</td>\n",
       "      <td>0.0</td>\n",
       "      <td>0.0</td>\n",
       "    </tr>\n",
       "    <tr>\n",
       "      <th>4</th>\n",
       "      <td>Grand Village</td>\n",
       "      <td>0</td>\n",
       "      <td>0</td>\n",
       "      <td>3.8</td>\n",
       "      <td>166</td>\n",
       "      <td>4</td>\n",
       "      <td>[Casual Dining]</td>\n",
       "      <td>[North Indian, Rajasthani]</td>\n",
       "      <td>600</td>\n",
       "      <td>0</td>\n",
       "      <td>...</td>\n",
       "      <td>0.0</td>\n",
       "      <td>0.0</td>\n",
       "      <td>0.0</td>\n",
       "      <td>0.0</td>\n",
       "      <td>0.0</td>\n",
       "      <td>0.0</td>\n",
       "      <td>0.0</td>\n",
       "      <td>0.0</td>\n",
       "      <td>0.0</td>\n",
       "      <td>0.0</td>\n",
       "    </tr>\n",
       "  </tbody>\n",
       "</table>\n",
       "<p>5 rows × 34 columns</p>\n",
       "</div>"
      ],
      "text/plain": [
       "                    name  online_order  book_table  rate  votes  location  \\\n",
       "0                  Jalsa             1           1   4.1    775         1   \n",
       "1         Spice Elephant             1           0   4.1    787         1   \n",
       "2        San Churro Cafe             1           0   3.8    918         1   \n",
       "3  Addhuri Udupi Bhojana             0           0   3.7     88         1   \n",
       "4          Grand Village             0           0   3.8    166         4   \n",
       "\n",
       "               rest_type                          cuisines  cost  \\\n",
       "0        [Casual Dining]  [North Indian, Mughlai, Chinese]   661   \n",
       "1        [Casual Dining]     [Chinese, North Indian, Thai]   661   \n",
       "2  [Cafe, Casual Dining]          [Cafe, Mexican, Italian]   661   \n",
       "3          [Quick Bites]      [South Indian, North Indian]   300   \n",
       "4        [Casual Dining]        [North Indian, Rajasthani]   600   \n",
       "\n",
       "   listed_in(type)  ...  Food Truck  Microbrewery  Lounge  Food Court  Dhaba  \\\n",
       "0                0  ...         0.0           0.0     0.0         0.0    0.0   \n",
       "1                0  ...         0.0           0.0     0.0         0.0    0.0   \n",
       "2                0  ...         0.0           0.0     0.0         0.0    0.0   \n",
       "3                0  ...         0.0           0.0     0.0         0.0    0.0   \n",
       "4                0  ...         0.0           0.0     0.0         0.0    0.0   \n",
       "\n",
       "   Club  Irani Cafee  Confectionery  Bhojanalya  Meat Shop  \n",
       "0   0.0          0.0            0.0         0.0        0.0  \n",
       "1   0.0          0.0            0.0         0.0        0.0  \n",
       "2   0.0          0.0            0.0         0.0        0.0  \n",
       "3   0.0          0.0            0.0         0.0        0.0  \n",
       "4   0.0          0.0            0.0         0.0        0.0  \n",
       "\n",
       "[5 rows x 34 columns]"
      ]
     },
     "execution_count": 261,
     "metadata": {},
     "output_type": "execute_result"
    }
   ],
   "source": [
    "new_df5 = new_df4.copy()\n",
    "\n",
    "## In the data the rest_type column has many distinct values which were in combinations.so we can't simplt use labelencoder()\n",
    "## To deal with those values \n",
    "## So we make each distinct value in 'rest_type' as a column to get better outcome from the attribute.\n",
    "\n",
    "#For every row in the dataframe, iterate through the list of genres and place a 1 into the corresponding column\n",
    "for index, row in new_df5.iterrows():\n",
    "    for rest_type in row['rest_type']:\n",
    "        new_df5.at[index, rest_type] = 1\n",
    "\n",
    "new_df5 = new_df5.fillna(0)\n",
    "new_df5.head()"
   ]
  },
  {
   "cell_type": "code",
   "execution_count": 262,
   "metadata": {
    "execution": {
     "iopub.execute_input": "2021-09-25T05:42:19.844939Z",
     "iopub.status.busy": "2021-09-25T05:42:19.844703Z",
     "iopub.status.idle": "2021-09-25T05:42:23.524322Z",
     "shell.execute_reply": "2021-09-25T05:42:23.523371Z",
     "shell.execute_reply.started": "2021-09-25T05:42:19.844911Z"
    }
   },
   "outputs": [
    {
     "data": {
      "text/html": [
       "<div>\n",
       "<style scoped>\n",
       "    .dataframe tbody tr th:only-of-type {\n",
       "        vertical-align: middle;\n",
       "    }\n",
       "\n",
       "    .dataframe tbody tr th {\n",
       "        vertical-align: top;\n",
       "    }\n",
       "\n",
       "    .dataframe thead th {\n",
       "        text-align: right;\n",
       "    }\n",
       "</style>\n",
       "<table border=\"1\" class=\"dataframe\">\n",
       "  <thead>\n",
       "    <tr style=\"text-align: right;\">\n",
       "      <th></th>\n",
       "      <th>name</th>\n",
       "      <th>online_order</th>\n",
       "      <th>book_table</th>\n",
       "      <th>rate</th>\n",
       "      <th>votes</th>\n",
       "      <th>location</th>\n",
       "      <th>rest_type</th>\n",
       "      <th>cuisines</th>\n",
       "      <th>cost</th>\n",
       "      <th>listed_in(type)</th>\n",
       "      <th>...</th>\n",
       "      <th>British</th>\n",
       "      <th>Paan</th>\n",
       "      <th>German</th>\n",
       "      <th>Russian</th>\n",
       "      <th>Drinks Only</th>\n",
       "      <th>Jewish</th>\n",
       "      <th>Vegan</th>\n",
       "      <th>Pan Asian</th>\n",
       "      <th>Raw Meats</th>\n",
       "      <th>Sindhi</th>\n",
       "    </tr>\n",
       "  </thead>\n",
       "  <tbody>\n",
       "    <tr>\n",
       "      <th>0</th>\n",
       "      <td>Jalsa</td>\n",
       "      <td>1</td>\n",
       "      <td>1</td>\n",
       "      <td>4.1</td>\n",
       "      <td>775</td>\n",
       "      <td>1</td>\n",
       "      <td>[Casual Dining]</td>\n",
       "      <td>[North Indian, Mughlai, Chinese]</td>\n",
       "      <td>661</td>\n",
       "      <td>0</td>\n",
       "      <td>...</td>\n",
       "      <td>0.0</td>\n",
       "      <td>0.0</td>\n",
       "      <td>0.0</td>\n",
       "      <td>0.0</td>\n",
       "      <td>0.0</td>\n",
       "      <td>0.0</td>\n",
       "      <td>0.0</td>\n",
       "      <td>0.0</td>\n",
       "      <td>0.0</td>\n",
       "      <td>0.0</td>\n",
       "    </tr>\n",
       "    <tr>\n",
       "      <th>1</th>\n",
       "      <td>Spice Elephant</td>\n",
       "      <td>1</td>\n",
       "      <td>0</td>\n",
       "      <td>4.1</td>\n",
       "      <td>787</td>\n",
       "      <td>1</td>\n",
       "      <td>[Casual Dining]</td>\n",
       "      <td>[Chinese, North Indian, Thai]</td>\n",
       "      <td>661</td>\n",
       "      <td>0</td>\n",
       "      <td>...</td>\n",
       "      <td>0.0</td>\n",
       "      <td>0.0</td>\n",
       "      <td>0.0</td>\n",
       "      <td>0.0</td>\n",
       "      <td>0.0</td>\n",
       "      <td>0.0</td>\n",
       "      <td>0.0</td>\n",
       "      <td>0.0</td>\n",
       "      <td>0.0</td>\n",
       "      <td>0.0</td>\n",
       "    </tr>\n",
       "    <tr>\n",
       "      <th>2</th>\n",
       "      <td>San Churro Cafe</td>\n",
       "      <td>1</td>\n",
       "      <td>0</td>\n",
       "      <td>3.8</td>\n",
       "      <td>918</td>\n",
       "      <td>1</td>\n",
       "      <td>[Cafe, Casual Dining]</td>\n",
       "      <td>[Cafe, Mexican, Italian]</td>\n",
       "      <td>661</td>\n",
       "      <td>0</td>\n",
       "      <td>...</td>\n",
       "      <td>0.0</td>\n",
       "      <td>0.0</td>\n",
       "      <td>0.0</td>\n",
       "      <td>0.0</td>\n",
       "      <td>0.0</td>\n",
       "      <td>0.0</td>\n",
       "      <td>0.0</td>\n",
       "      <td>0.0</td>\n",
       "      <td>0.0</td>\n",
       "      <td>0.0</td>\n",
       "    </tr>\n",
       "    <tr>\n",
       "      <th>3</th>\n",
       "      <td>Addhuri Udupi Bhojana</td>\n",
       "      <td>0</td>\n",
       "      <td>0</td>\n",
       "      <td>3.7</td>\n",
       "      <td>88</td>\n",
       "      <td>1</td>\n",
       "      <td>[Quick Bites]</td>\n",
       "      <td>[South Indian, North Indian]</td>\n",
       "      <td>300</td>\n",
       "      <td>0</td>\n",
       "      <td>...</td>\n",
       "      <td>0.0</td>\n",
       "      <td>0.0</td>\n",
       "      <td>0.0</td>\n",
       "      <td>0.0</td>\n",
       "      <td>0.0</td>\n",
       "      <td>0.0</td>\n",
       "      <td>0.0</td>\n",
       "      <td>0.0</td>\n",
       "      <td>0.0</td>\n",
       "      <td>0.0</td>\n",
       "    </tr>\n",
       "    <tr>\n",
       "      <th>4</th>\n",
       "      <td>Grand Village</td>\n",
       "      <td>0</td>\n",
       "      <td>0</td>\n",
       "      <td>3.8</td>\n",
       "      <td>166</td>\n",
       "      <td>4</td>\n",
       "      <td>[Casual Dining]</td>\n",
       "      <td>[North Indian, Rajasthani]</td>\n",
       "      <td>600</td>\n",
       "      <td>0</td>\n",
       "      <td>...</td>\n",
       "      <td>0.0</td>\n",
       "      <td>0.0</td>\n",
       "      <td>0.0</td>\n",
       "      <td>0.0</td>\n",
       "      <td>0.0</td>\n",
       "      <td>0.0</td>\n",
       "      <td>0.0</td>\n",
       "      <td>0.0</td>\n",
       "      <td>0.0</td>\n",
       "      <td>0.0</td>\n",
       "    </tr>\n",
       "  </tbody>\n",
       "</table>\n",
       "<p>5 rows × 137 columns</p>\n",
       "</div>"
      ],
      "text/plain": [
       "                    name  online_order  book_table  rate  votes  location  \\\n",
       "0                  Jalsa             1           1   4.1    775         1   \n",
       "1         Spice Elephant             1           0   4.1    787         1   \n",
       "2        San Churro Cafe             1           0   3.8    918         1   \n",
       "3  Addhuri Udupi Bhojana             0           0   3.7     88         1   \n",
       "4          Grand Village             0           0   3.8    166         4   \n",
       "\n",
       "               rest_type                          cuisines  cost  \\\n",
       "0        [Casual Dining]  [North Indian, Mughlai, Chinese]   661   \n",
       "1        [Casual Dining]     [Chinese, North Indian, Thai]   661   \n",
       "2  [Cafe, Casual Dining]          [Cafe, Mexican, Italian]   661   \n",
       "3          [Quick Bites]      [South Indian, North Indian]   300   \n",
       "4        [Casual Dining]        [North Indian, Rajasthani]   600   \n",
       "\n",
       "   listed_in(type)  ...  British  Paan  German  Russian  Drinks Only  Jewish  \\\n",
       "0                0  ...      0.0   0.0     0.0      0.0          0.0     0.0   \n",
       "1                0  ...      0.0   0.0     0.0      0.0          0.0     0.0   \n",
       "2                0  ...      0.0   0.0     0.0      0.0          0.0     0.0   \n",
       "3                0  ...      0.0   0.0     0.0      0.0          0.0     0.0   \n",
       "4                0  ...      0.0   0.0     0.0      0.0          0.0     0.0   \n",
       "\n",
       "   Vegan  Pan Asian  Raw Meats  Sindhi  \n",
       "0    0.0        0.0        0.0     0.0  \n",
       "1    0.0        0.0        0.0     0.0  \n",
       "2    0.0        0.0        0.0     0.0  \n",
       "3    0.0        0.0        0.0     0.0  \n",
       "4    0.0        0.0        0.0     0.0  \n",
       "\n",
       "[5 rows x 137 columns]"
      ]
     },
     "execution_count": 262,
     "metadata": {},
     "output_type": "execute_result"
    }
   ],
   "source": [
    "new_df6 = new_df5.copy()\n",
    "#since the attribute 'cuisine' also has many distinct categorical values in it we have encoded it withpout using labelencoder.\n",
    "#For every row in the dataframe, iterate through the list of genres and place a 1 into the corresponding column\n",
    "for index, row in new_df6.iterrows():\n",
    "    for cuisines in row['cuisines']:\n",
    "        new_df6.at[index, cuisines] = 1\n",
    "\n",
    "new_df6 = new_df6.fillna(0)\n",
    "new_df6.head()"
   ]
  },
  {
   "cell_type": "code",
   "execution_count": 263,
   "metadata": {
    "execution": {
     "iopub.execute_input": "2021-09-25T05:42:23.525831Z",
     "iopub.status.busy": "2021-09-25T05:42:23.525600Z",
     "iopub.status.idle": "2021-09-25T05:42:23.550249Z",
     "shell.execute_reply": "2021-09-25T05:42:23.549429Z",
     "shell.execute_reply.started": "2021-09-25T05:42:23.525804Z"
    }
   },
   "outputs": [],
   "source": [
    "## dropping the attributes for which we have performed encoding .\n",
    "new_df6.drop(['name','rest_type','cuisines'],axis=1,inplace=True)"
   ]
  },
  {
   "cell_type": "code",
   "execution_count": 264,
   "metadata": {
    "execution": {
     "iopub.execute_input": "2021-09-25T05:42:23.551987Z",
     "iopub.status.busy": "2021-09-25T05:42:23.551671Z",
     "iopub.status.idle": "2021-09-25T05:42:23.600730Z",
     "shell.execute_reply": "2021-09-25T05:42:23.599953Z",
     "shell.execute_reply.started": "2021-09-25T05:42:23.551949Z"
    }
   },
   "outputs": [
    {
     "data": {
      "text/html": [
       "<div>\n",
       "<style scoped>\n",
       "    .dataframe tbody tr th:only-of-type {\n",
       "        vertical-align: middle;\n",
       "    }\n",
       "\n",
       "    .dataframe tbody tr th {\n",
       "        vertical-align: top;\n",
       "    }\n",
       "\n",
       "    .dataframe thead th {\n",
       "        text-align: right;\n",
       "    }\n",
       "</style>\n",
       "<table border=\"1\" class=\"dataframe\">\n",
       "  <thead>\n",
       "    <tr style=\"text-align: right;\">\n",
       "      <th></th>\n",
       "      <th>online_order</th>\n",
       "      <th>book_table</th>\n",
       "      <th>rate</th>\n",
       "      <th>votes</th>\n",
       "      <th>location</th>\n",
       "      <th>cost</th>\n",
       "      <th>listed_in(type)</th>\n",
       "      <th>Casual Dining</th>\n",
       "      <th>Cafe</th>\n",
       "      <th>Quick Bites</th>\n",
       "      <th>...</th>\n",
       "      <th>British</th>\n",
       "      <th>Paan</th>\n",
       "      <th>German</th>\n",
       "      <th>Russian</th>\n",
       "      <th>Drinks Only</th>\n",
       "      <th>Jewish</th>\n",
       "      <th>Vegan</th>\n",
       "      <th>Pan Asian</th>\n",
       "      <th>Raw Meats</th>\n",
       "      <th>Sindhi</th>\n",
       "    </tr>\n",
       "  </thead>\n",
       "  <tbody>\n",
       "    <tr>\n",
       "      <th>0</th>\n",
       "      <td>1</td>\n",
       "      <td>1</td>\n",
       "      <td>4.1</td>\n",
       "      <td>775</td>\n",
       "      <td>1</td>\n",
       "      <td>661</td>\n",
       "      <td>0</td>\n",
       "      <td>1.0</td>\n",
       "      <td>0.0</td>\n",
       "      <td>0.0</td>\n",
       "      <td>...</td>\n",
       "      <td>0.0</td>\n",
       "      <td>0.0</td>\n",
       "      <td>0.0</td>\n",
       "      <td>0.0</td>\n",
       "      <td>0.0</td>\n",
       "      <td>0.0</td>\n",
       "      <td>0.0</td>\n",
       "      <td>0.0</td>\n",
       "      <td>0.0</td>\n",
       "      <td>0.0</td>\n",
       "    </tr>\n",
       "    <tr>\n",
       "      <th>1</th>\n",
       "      <td>1</td>\n",
       "      <td>0</td>\n",
       "      <td>4.1</td>\n",
       "      <td>787</td>\n",
       "      <td>1</td>\n",
       "      <td>661</td>\n",
       "      <td>0</td>\n",
       "      <td>1.0</td>\n",
       "      <td>0.0</td>\n",
       "      <td>0.0</td>\n",
       "      <td>...</td>\n",
       "      <td>0.0</td>\n",
       "      <td>0.0</td>\n",
       "      <td>0.0</td>\n",
       "      <td>0.0</td>\n",
       "      <td>0.0</td>\n",
       "      <td>0.0</td>\n",
       "      <td>0.0</td>\n",
       "      <td>0.0</td>\n",
       "      <td>0.0</td>\n",
       "      <td>0.0</td>\n",
       "    </tr>\n",
       "    <tr>\n",
       "      <th>2</th>\n",
       "      <td>1</td>\n",
       "      <td>0</td>\n",
       "      <td>3.8</td>\n",
       "      <td>918</td>\n",
       "      <td>1</td>\n",
       "      <td>661</td>\n",
       "      <td>0</td>\n",
       "      <td>1.0</td>\n",
       "      <td>1.0</td>\n",
       "      <td>0.0</td>\n",
       "      <td>...</td>\n",
       "      <td>0.0</td>\n",
       "      <td>0.0</td>\n",
       "      <td>0.0</td>\n",
       "      <td>0.0</td>\n",
       "      <td>0.0</td>\n",
       "      <td>0.0</td>\n",
       "      <td>0.0</td>\n",
       "      <td>0.0</td>\n",
       "      <td>0.0</td>\n",
       "      <td>0.0</td>\n",
       "    </tr>\n",
       "    <tr>\n",
       "      <th>3</th>\n",
       "      <td>0</td>\n",
       "      <td>0</td>\n",
       "      <td>3.7</td>\n",
       "      <td>88</td>\n",
       "      <td>1</td>\n",
       "      <td>300</td>\n",
       "      <td>0</td>\n",
       "      <td>0.0</td>\n",
       "      <td>0.0</td>\n",
       "      <td>1.0</td>\n",
       "      <td>...</td>\n",
       "      <td>0.0</td>\n",
       "      <td>0.0</td>\n",
       "      <td>0.0</td>\n",
       "      <td>0.0</td>\n",
       "      <td>0.0</td>\n",
       "      <td>0.0</td>\n",
       "      <td>0.0</td>\n",
       "      <td>0.0</td>\n",
       "      <td>0.0</td>\n",
       "      <td>0.0</td>\n",
       "    </tr>\n",
       "    <tr>\n",
       "      <th>4</th>\n",
       "      <td>0</td>\n",
       "      <td>0</td>\n",
       "      <td>3.8</td>\n",
       "      <td>166</td>\n",
       "      <td>4</td>\n",
       "      <td>600</td>\n",
       "      <td>0</td>\n",
       "      <td>1.0</td>\n",
       "      <td>0.0</td>\n",
       "      <td>0.0</td>\n",
       "      <td>...</td>\n",
       "      <td>0.0</td>\n",
       "      <td>0.0</td>\n",
       "      <td>0.0</td>\n",
       "      <td>0.0</td>\n",
       "      <td>0.0</td>\n",
       "      <td>0.0</td>\n",
       "      <td>0.0</td>\n",
       "      <td>0.0</td>\n",
       "      <td>0.0</td>\n",
       "      <td>0.0</td>\n",
       "    </tr>\n",
       "    <tr>\n",
       "      <th>...</th>\n",
       "      <td>...</td>\n",
       "      <td>...</td>\n",
       "      <td>...</td>\n",
       "      <td>...</td>\n",
       "      <td>...</td>\n",
       "      <td>...</td>\n",
       "      <td>...</td>\n",
       "      <td>...</td>\n",
       "      <td>...</td>\n",
       "      <td>...</td>\n",
       "      <td>...</td>\n",
       "      <td>...</td>\n",
       "      <td>...</td>\n",
       "      <td>...</td>\n",
       "      <td>...</td>\n",
       "      <td>...</td>\n",
       "      <td>...</td>\n",
       "      <td>...</td>\n",
       "      <td>...</td>\n",
       "      <td>...</td>\n",
       "      <td>...</td>\n",
       "    </tr>\n",
       "    <tr>\n",
       "      <th>41258</th>\n",
       "      <td>0</td>\n",
       "      <td>0</td>\n",
       "      <td>3.7</td>\n",
       "      <td>34</td>\n",
       "      <td>88</td>\n",
       "      <td>661</td>\n",
       "      <td>6</td>\n",
       "      <td>1.0</td>\n",
       "      <td>0.0</td>\n",
       "      <td>0.0</td>\n",
       "      <td>...</td>\n",
       "      <td>0.0</td>\n",
       "      <td>0.0</td>\n",
       "      <td>0.0</td>\n",
       "      <td>0.0</td>\n",
       "      <td>0.0</td>\n",
       "      <td>0.0</td>\n",
       "      <td>0.0</td>\n",
       "      <td>0.0</td>\n",
       "      <td>0.0</td>\n",
       "      <td>0.0</td>\n",
       "    </tr>\n",
       "    <tr>\n",
       "      <th>41259</th>\n",
       "      <td>0</td>\n",
       "      <td>0</td>\n",
       "      <td>2.5</td>\n",
       "      <td>81</td>\n",
       "      <td>88</td>\n",
       "      <td>661</td>\n",
       "      <td>6</td>\n",
       "      <td>1.0</td>\n",
       "      <td>0.0</td>\n",
       "      <td>0.0</td>\n",
       "      <td>...</td>\n",
       "      <td>0.0</td>\n",
       "      <td>0.0</td>\n",
       "      <td>0.0</td>\n",
       "      <td>0.0</td>\n",
       "      <td>0.0</td>\n",
       "      <td>0.0</td>\n",
       "      <td>0.0</td>\n",
       "      <td>0.0</td>\n",
       "      <td>0.0</td>\n",
       "      <td>0.0</td>\n",
       "    </tr>\n",
       "    <tr>\n",
       "      <th>41260</th>\n",
       "      <td>0</td>\n",
       "      <td>0</td>\n",
       "      <td>3.6</td>\n",
       "      <td>27</td>\n",
       "      <td>88</td>\n",
       "      <td>661</td>\n",
       "      <td>6</td>\n",
       "      <td>0.0</td>\n",
       "      <td>0.0</td>\n",
       "      <td>0.0</td>\n",
       "      <td>...</td>\n",
       "      <td>0.0</td>\n",
       "      <td>0.0</td>\n",
       "      <td>0.0</td>\n",
       "      <td>0.0</td>\n",
       "      <td>0.0</td>\n",
       "      <td>0.0</td>\n",
       "      <td>0.0</td>\n",
       "      <td>0.0</td>\n",
       "      <td>0.0</td>\n",
       "      <td>0.0</td>\n",
       "    </tr>\n",
       "    <tr>\n",
       "      <th>41261</th>\n",
       "      <td>0</td>\n",
       "      <td>1</td>\n",
       "      <td>4.3</td>\n",
       "      <td>236</td>\n",
       "      <td>26</td>\n",
       "      <td>661</td>\n",
       "      <td>6</td>\n",
       "      <td>0.0</td>\n",
       "      <td>0.0</td>\n",
       "      <td>0.0</td>\n",
       "      <td>...</td>\n",
       "      <td>0.0</td>\n",
       "      <td>0.0</td>\n",
       "      <td>0.0</td>\n",
       "      <td>0.0</td>\n",
       "      <td>0.0</td>\n",
       "      <td>0.0</td>\n",
       "      <td>0.0</td>\n",
       "      <td>0.0</td>\n",
       "      <td>0.0</td>\n",
       "      <td>0.0</td>\n",
       "    </tr>\n",
       "    <tr>\n",
       "      <th>41262</th>\n",
       "      <td>0</td>\n",
       "      <td>0</td>\n",
       "      <td>3.4</td>\n",
       "      <td>13</td>\n",
       "      <td>26</td>\n",
       "      <td>661</td>\n",
       "      <td>6</td>\n",
       "      <td>1.0</td>\n",
       "      <td>0.0</td>\n",
       "      <td>0.0</td>\n",
       "      <td>...</td>\n",
       "      <td>0.0</td>\n",
       "      <td>0.0</td>\n",
       "      <td>0.0</td>\n",
       "      <td>0.0</td>\n",
       "      <td>0.0</td>\n",
       "      <td>0.0</td>\n",
       "      <td>0.0</td>\n",
       "      <td>0.0</td>\n",
       "      <td>0.0</td>\n",
       "      <td>0.0</td>\n",
       "    </tr>\n",
       "  </tbody>\n",
       "</table>\n",
       "<p>41263 rows × 134 columns</p>\n",
       "</div>"
      ],
      "text/plain": [
       "       online_order  book_table  rate  votes  location  cost  listed_in(type)  \\\n",
       "0                 1           1   4.1    775         1   661                0   \n",
       "1                 1           0   4.1    787         1   661                0   \n",
       "2                 1           0   3.8    918         1   661                0   \n",
       "3                 0           0   3.7     88         1   300                0   \n",
       "4                 0           0   3.8    166         4   600                0   \n",
       "...             ...         ...   ...    ...       ...   ...              ...   \n",
       "41258             0           0   3.7     34        88   661                6   \n",
       "41259             0           0   2.5     81        88   661                6   \n",
       "41260             0           0   3.6     27        88   661                6   \n",
       "41261             0           1   4.3    236        26   661                6   \n",
       "41262             0           0   3.4     13        26   661                6   \n",
       "\n",
       "       Casual Dining  Cafe  Quick Bites  ...  British  Paan  German  Russian  \\\n",
       "0                1.0   0.0          0.0  ...      0.0   0.0     0.0      0.0   \n",
       "1                1.0   0.0          0.0  ...      0.0   0.0     0.0      0.0   \n",
       "2                1.0   1.0          0.0  ...      0.0   0.0     0.0      0.0   \n",
       "3                0.0   0.0          1.0  ...      0.0   0.0     0.0      0.0   \n",
       "4                1.0   0.0          0.0  ...      0.0   0.0     0.0      0.0   \n",
       "...              ...   ...          ...  ...      ...   ...     ...      ...   \n",
       "41258            1.0   0.0          0.0  ...      0.0   0.0     0.0      0.0   \n",
       "41259            1.0   0.0          0.0  ...      0.0   0.0     0.0      0.0   \n",
       "41260            0.0   0.0          0.0  ...      0.0   0.0     0.0      0.0   \n",
       "41261            0.0   0.0          0.0  ...      0.0   0.0     0.0      0.0   \n",
       "41262            1.0   0.0          0.0  ...      0.0   0.0     0.0      0.0   \n",
       "\n",
       "       Drinks Only  Jewish  Vegan  Pan Asian  Raw Meats  Sindhi  \n",
       "0              0.0     0.0    0.0        0.0        0.0     0.0  \n",
       "1              0.0     0.0    0.0        0.0        0.0     0.0  \n",
       "2              0.0     0.0    0.0        0.0        0.0     0.0  \n",
       "3              0.0     0.0    0.0        0.0        0.0     0.0  \n",
       "4              0.0     0.0    0.0        0.0        0.0     0.0  \n",
       "...            ...     ...    ...        ...        ...     ...  \n",
       "41258          0.0     0.0    0.0        0.0        0.0     0.0  \n",
       "41259          0.0     0.0    0.0        0.0        0.0     0.0  \n",
       "41260          0.0     0.0    0.0        0.0        0.0     0.0  \n",
       "41261          0.0     0.0    0.0        0.0        0.0     0.0  \n",
       "41262          0.0     0.0    0.0        0.0        0.0     0.0  \n",
       "\n",
       "[41263 rows x 134 columns]"
      ]
     },
     "execution_count": 264,
     "metadata": {},
     "output_type": "execute_result"
    }
   ],
   "source": [
    "new_df6"
   ]
  },
  {
   "cell_type": "markdown",
   "metadata": {},
   "source": [
    "## Splitting the data into independent and dependent variable"
   ]
  },
  {
   "cell_type": "code",
   "execution_count": 265,
   "metadata": {
    "execution": {
     "iopub.execute_input": "2021-09-25T05:42:23.602402Z",
     "iopub.status.busy": "2021-09-25T05:42:23.602059Z",
     "iopub.status.idle": "2021-09-25T05:42:23.670595Z",
     "shell.execute_reply": "2021-09-25T05:42:23.669874Z",
     "shell.execute_reply.started": "2021-09-25T05:42:23.602361Z"
    }
   },
   "outputs": [],
   "source": [
    "X = new_df6.drop('rate',axis=1)\n",
    "y = new_df6.rate"
   ]
  },
  {
   "cell_type": "code",
   "execution_count": 266,
   "metadata": {
    "execution": {
     "iopub.execute_input": "2021-09-25T05:42:23.672137Z",
     "iopub.status.busy": "2021-09-25T05:42:23.671718Z",
     "iopub.status.idle": "2021-09-25T05:42:23.679992Z",
     "shell.execute_reply": "2021-09-25T05:42:23.679201Z",
     "shell.execute_reply.started": "2021-09-25T05:42:23.672107Z"
    }
   },
   "outputs": [
    {
     "data": {
      "text/html": [
       "<div>\n",
       "<style scoped>\n",
       "    .dataframe tbody tr th:only-of-type {\n",
       "        vertical-align: middle;\n",
       "    }\n",
       "\n",
       "    .dataframe tbody tr th {\n",
       "        vertical-align: top;\n",
       "    }\n",
       "\n",
       "    .dataframe thead th {\n",
       "        text-align: right;\n",
       "    }\n",
       "</style>\n",
       "<table border=\"1\" class=\"dataframe\">\n",
       "  <thead>\n",
       "    <tr style=\"text-align: right;\">\n",
       "      <th></th>\n",
       "      <th>online_order</th>\n",
       "      <th>book_table</th>\n",
       "      <th>votes</th>\n",
       "      <th>location</th>\n",
       "      <th>cost</th>\n",
       "      <th>listed_in(type)</th>\n",
       "      <th>Casual Dining</th>\n",
       "      <th>Cafe</th>\n",
       "      <th>Quick Bites</th>\n",
       "      <th>Delivery</th>\n",
       "      <th>...</th>\n",
       "      <th>British</th>\n",
       "      <th>Paan</th>\n",
       "      <th>German</th>\n",
       "      <th>Russian</th>\n",
       "      <th>Drinks Only</th>\n",
       "      <th>Jewish</th>\n",
       "      <th>Vegan</th>\n",
       "      <th>Pan Asian</th>\n",
       "      <th>Raw Meats</th>\n",
       "      <th>Sindhi</th>\n",
       "    </tr>\n",
       "  </thead>\n",
       "  <tbody>\n",
       "    <tr>\n",
       "      <th>0</th>\n",
       "      <td>1</td>\n",
       "      <td>1</td>\n",
       "      <td>775</td>\n",
       "      <td>1</td>\n",
       "      <td>661</td>\n",
       "      <td>0</td>\n",
       "      <td>1.0</td>\n",
       "      <td>0.0</td>\n",
       "      <td>0.0</td>\n",
       "      <td>0.0</td>\n",
       "      <td>...</td>\n",
       "      <td>0.0</td>\n",
       "      <td>0.0</td>\n",
       "      <td>0.0</td>\n",
       "      <td>0.0</td>\n",
       "      <td>0.0</td>\n",
       "      <td>0.0</td>\n",
       "      <td>0.0</td>\n",
       "      <td>0.0</td>\n",
       "      <td>0.0</td>\n",
       "      <td>0.0</td>\n",
       "    </tr>\n",
       "    <tr>\n",
       "      <th>1</th>\n",
       "      <td>1</td>\n",
       "      <td>0</td>\n",
       "      <td>787</td>\n",
       "      <td>1</td>\n",
       "      <td>661</td>\n",
       "      <td>0</td>\n",
       "      <td>1.0</td>\n",
       "      <td>0.0</td>\n",
       "      <td>0.0</td>\n",
       "      <td>0.0</td>\n",
       "      <td>...</td>\n",
       "      <td>0.0</td>\n",
       "      <td>0.0</td>\n",
       "      <td>0.0</td>\n",
       "      <td>0.0</td>\n",
       "      <td>0.0</td>\n",
       "      <td>0.0</td>\n",
       "      <td>0.0</td>\n",
       "      <td>0.0</td>\n",
       "      <td>0.0</td>\n",
       "      <td>0.0</td>\n",
       "    </tr>\n",
       "    <tr>\n",
       "      <th>2</th>\n",
       "      <td>1</td>\n",
       "      <td>0</td>\n",
       "      <td>918</td>\n",
       "      <td>1</td>\n",
       "      <td>661</td>\n",
       "      <td>0</td>\n",
       "      <td>1.0</td>\n",
       "      <td>1.0</td>\n",
       "      <td>0.0</td>\n",
       "      <td>0.0</td>\n",
       "      <td>...</td>\n",
       "      <td>0.0</td>\n",
       "      <td>0.0</td>\n",
       "      <td>0.0</td>\n",
       "      <td>0.0</td>\n",
       "      <td>0.0</td>\n",
       "      <td>0.0</td>\n",
       "      <td>0.0</td>\n",
       "      <td>0.0</td>\n",
       "      <td>0.0</td>\n",
       "      <td>0.0</td>\n",
       "    </tr>\n",
       "    <tr>\n",
       "      <th>3</th>\n",
       "      <td>0</td>\n",
       "      <td>0</td>\n",
       "      <td>88</td>\n",
       "      <td>1</td>\n",
       "      <td>300</td>\n",
       "      <td>0</td>\n",
       "      <td>0.0</td>\n",
       "      <td>0.0</td>\n",
       "      <td>1.0</td>\n",
       "      <td>0.0</td>\n",
       "      <td>...</td>\n",
       "      <td>0.0</td>\n",
       "      <td>0.0</td>\n",
       "      <td>0.0</td>\n",
       "      <td>0.0</td>\n",
       "      <td>0.0</td>\n",
       "      <td>0.0</td>\n",
       "      <td>0.0</td>\n",
       "      <td>0.0</td>\n",
       "      <td>0.0</td>\n",
       "      <td>0.0</td>\n",
       "    </tr>\n",
       "    <tr>\n",
       "      <th>4</th>\n",
       "      <td>0</td>\n",
       "      <td>0</td>\n",
       "      <td>166</td>\n",
       "      <td>4</td>\n",
       "      <td>600</td>\n",
       "      <td>0</td>\n",
       "      <td>1.0</td>\n",
       "      <td>0.0</td>\n",
       "      <td>0.0</td>\n",
       "      <td>0.0</td>\n",
       "      <td>...</td>\n",
       "      <td>0.0</td>\n",
       "      <td>0.0</td>\n",
       "      <td>0.0</td>\n",
       "      <td>0.0</td>\n",
       "      <td>0.0</td>\n",
       "      <td>0.0</td>\n",
       "      <td>0.0</td>\n",
       "      <td>0.0</td>\n",
       "      <td>0.0</td>\n",
       "      <td>0.0</td>\n",
       "    </tr>\n",
       "    <tr>\n",
       "      <th>...</th>\n",
       "      <td>...</td>\n",
       "      <td>...</td>\n",
       "      <td>...</td>\n",
       "      <td>...</td>\n",
       "      <td>...</td>\n",
       "      <td>...</td>\n",
       "      <td>...</td>\n",
       "      <td>...</td>\n",
       "      <td>...</td>\n",
       "      <td>...</td>\n",
       "      <td>...</td>\n",
       "      <td>...</td>\n",
       "      <td>...</td>\n",
       "      <td>...</td>\n",
       "      <td>...</td>\n",
       "      <td>...</td>\n",
       "      <td>...</td>\n",
       "      <td>...</td>\n",
       "      <td>...</td>\n",
       "      <td>...</td>\n",
       "      <td>...</td>\n",
       "    </tr>\n",
       "    <tr>\n",
       "      <th>41258</th>\n",
       "      <td>0</td>\n",
       "      <td>0</td>\n",
       "      <td>34</td>\n",
       "      <td>88</td>\n",
       "      <td>661</td>\n",
       "      <td>6</td>\n",
       "      <td>1.0</td>\n",
       "      <td>0.0</td>\n",
       "      <td>0.0</td>\n",
       "      <td>0.0</td>\n",
       "      <td>...</td>\n",
       "      <td>0.0</td>\n",
       "      <td>0.0</td>\n",
       "      <td>0.0</td>\n",
       "      <td>0.0</td>\n",
       "      <td>0.0</td>\n",
       "      <td>0.0</td>\n",
       "      <td>0.0</td>\n",
       "      <td>0.0</td>\n",
       "      <td>0.0</td>\n",
       "      <td>0.0</td>\n",
       "    </tr>\n",
       "    <tr>\n",
       "      <th>41259</th>\n",
       "      <td>0</td>\n",
       "      <td>0</td>\n",
       "      <td>81</td>\n",
       "      <td>88</td>\n",
       "      <td>661</td>\n",
       "      <td>6</td>\n",
       "      <td>1.0</td>\n",
       "      <td>0.0</td>\n",
       "      <td>0.0</td>\n",
       "      <td>0.0</td>\n",
       "      <td>...</td>\n",
       "      <td>0.0</td>\n",
       "      <td>0.0</td>\n",
       "      <td>0.0</td>\n",
       "      <td>0.0</td>\n",
       "      <td>0.0</td>\n",
       "      <td>0.0</td>\n",
       "      <td>0.0</td>\n",
       "      <td>0.0</td>\n",
       "      <td>0.0</td>\n",
       "      <td>0.0</td>\n",
       "    </tr>\n",
       "    <tr>\n",
       "      <th>41260</th>\n",
       "      <td>0</td>\n",
       "      <td>0</td>\n",
       "      <td>27</td>\n",
       "      <td>88</td>\n",
       "      <td>661</td>\n",
       "      <td>6</td>\n",
       "      <td>0.0</td>\n",
       "      <td>0.0</td>\n",
       "      <td>0.0</td>\n",
       "      <td>0.0</td>\n",
       "      <td>...</td>\n",
       "      <td>0.0</td>\n",
       "      <td>0.0</td>\n",
       "      <td>0.0</td>\n",
       "      <td>0.0</td>\n",
       "      <td>0.0</td>\n",
       "      <td>0.0</td>\n",
       "      <td>0.0</td>\n",
       "      <td>0.0</td>\n",
       "      <td>0.0</td>\n",
       "      <td>0.0</td>\n",
       "    </tr>\n",
       "    <tr>\n",
       "      <th>41261</th>\n",
       "      <td>0</td>\n",
       "      <td>1</td>\n",
       "      <td>236</td>\n",
       "      <td>26</td>\n",
       "      <td>661</td>\n",
       "      <td>6</td>\n",
       "      <td>0.0</td>\n",
       "      <td>0.0</td>\n",
       "      <td>0.0</td>\n",
       "      <td>0.0</td>\n",
       "      <td>...</td>\n",
       "      <td>0.0</td>\n",
       "      <td>0.0</td>\n",
       "      <td>0.0</td>\n",
       "      <td>0.0</td>\n",
       "      <td>0.0</td>\n",
       "      <td>0.0</td>\n",
       "      <td>0.0</td>\n",
       "      <td>0.0</td>\n",
       "      <td>0.0</td>\n",
       "      <td>0.0</td>\n",
       "    </tr>\n",
       "    <tr>\n",
       "      <th>41262</th>\n",
       "      <td>0</td>\n",
       "      <td>0</td>\n",
       "      <td>13</td>\n",
       "      <td>26</td>\n",
       "      <td>661</td>\n",
       "      <td>6</td>\n",
       "      <td>1.0</td>\n",
       "      <td>0.0</td>\n",
       "      <td>0.0</td>\n",
       "      <td>0.0</td>\n",
       "      <td>...</td>\n",
       "      <td>0.0</td>\n",
       "      <td>0.0</td>\n",
       "      <td>0.0</td>\n",
       "      <td>0.0</td>\n",
       "      <td>0.0</td>\n",
       "      <td>0.0</td>\n",
       "      <td>0.0</td>\n",
       "      <td>0.0</td>\n",
       "      <td>0.0</td>\n",
       "      <td>0.0</td>\n",
       "    </tr>\n",
       "  </tbody>\n",
       "</table>\n",
       "<p>41263 rows × 133 columns</p>\n",
       "</div>"
      ],
      "text/plain": [
       "       online_order  book_table  votes  location  cost  listed_in(type)  \\\n",
       "0                 1           1    775         1   661                0   \n",
       "1                 1           0    787         1   661                0   \n",
       "2                 1           0    918         1   661                0   \n",
       "3                 0           0     88         1   300                0   \n",
       "4                 0           0    166         4   600                0   \n",
       "...             ...         ...    ...       ...   ...              ...   \n",
       "41258             0           0     34        88   661                6   \n",
       "41259             0           0     81        88   661                6   \n",
       "41260             0           0     27        88   661                6   \n",
       "41261             0           1    236        26   661                6   \n",
       "41262             0           0     13        26   661                6   \n",
       "\n",
       "       Casual Dining  Cafe  Quick Bites  Delivery  ...  British  Paan  German  \\\n",
       "0                1.0   0.0          0.0       0.0  ...      0.0   0.0     0.0   \n",
       "1                1.0   0.0          0.0       0.0  ...      0.0   0.0     0.0   \n",
       "2                1.0   1.0          0.0       0.0  ...      0.0   0.0     0.0   \n",
       "3                0.0   0.0          1.0       0.0  ...      0.0   0.0     0.0   \n",
       "4                1.0   0.0          0.0       0.0  ...      0.0   0.0     0.0   \n",
       "...              ...   ...          ...       ...  ...      ...   ...     ...   \n",
       "41258            1.0   0.0          0.0       0.0  ...      0.0   0.0     0.0   \n",
       "41259            1.0   0.0          0.0       0.0  ...      0.0   0.0     0.0   \n",
       "41260            0.0   0.0          0.0       0.0  ...      0.0   0.0     0.0   \n",
       "41261            0.0   0.0          0.0       0.0  ...      0.0   0.0     0.0   \n",
       "41262            1.0   0.0          0.0       0.0  ...      0.0   0.0     0.0   \n",
       "\n",
       "       Russian  Drinks Only  Jewish  Vegan  Pan Asian  Raw Meats  Sindhi  \n",
       "0          0.0          0.0     0.0    0.0        0.0        0.0     0.0  \n",
       "1          0.0          0.0     0.0    0.0        0.0        0.0     0.0  \n",
       "2          0.0          0.0     0.0    0.0        0.0        0.0     0.0  \n",
       "3          0.0          0.0     0.0    0.0        0.0        0.0     0.0  \n",
       "4          0.0          0.0     0.0    0.0        0.0        0.0     0.0  \n",
       "...        ...          ...     ...    ...        ...        ...     ...  \n",
       "41258      0.0          0.0     0.0    0.0        0.0        0.0     0.0  \n",
       "41259      0.0          0.0     0.0    0.0        0.0        0.0     0.0  \n",
       "41260      0.0          0.0     0.0    0.0        0.0        0.0     0.0  \n",
       "41261      0.0          0.0     0.0    0.0        0.0        0.0     0.0  \n",
       "41262      0.0          0.0     0.0    0.0        0.0        0.0     0.0  \n",
       "\n",
       "[41263 rows x 133 columns]"
      ]
     },
     "execution_count": 266,
     "metadata": {},
     "output_type": "execute_result"
    }
   ],
   "source": [
    "X"
   ]
  },
  {
   "cell_type": "code",
   "execution_count": 268,
   "metadata": {},
   "outputs": [
    {
     "data": {
      "text/plain": [
       "0        4.1\n",
       "1        4.1\n",
       "2        3.8\n",
       "3        3.7\n",
       "4        3.8\n",
       "        ... \n",
       "41258    3.7\n",
       "41259    2.5\n",
       "41260    3.6\n",
       "41261    4.3\n",
       "41262    3.4\n",
       "Name: rate, Length: 41263, dtype: float64"
      ]
     },
     "execution_count": 268,
     "metadata": {},
     "output_type": "execute_result"
    }
   ],
   "source": [
    "y"
   ]
  },
  {
   "cell_type": "code",
   "execution_count": 269,
   "metadata": {
    "execution": {
     "iopub.execute_input": "2021-09-25T05:42:23.682543Z",
     "iopub.status.busy": "2021-09-25T05:42:23.681672Z",
     "iopub.status.idle": "2021-09-25T05:42:23.693896Z",
     "shell.execute_reply": "2021-09-25T05:42:23.693084Z",
     "shell.execute_reply.started": "2021-09-25T05:42:23.682496Z"
    }
   },
   "outputs": [],
   "source": [
    "## checking for correlation between independent attributes.\n",
    "def correl(dataset,thresh):\n",
    "    col_corr = set()\n",
    "    cor_matrix = X.corr()\n",
    "    for i in range(len(cor_matrix)):\n",
    "        for j in range(i):\n",
    "            if abs(cor_matrix.iloc[i,j])>thresh:\n",
    "                col_name=cor_matrix.columns[j]\n",
    "                col_corr.add(col_name)\n",
    "    return col_corr"
   ]
  },
  {
   "cell_type": "code",
   "execution_count": 270,
   "metadata": {
    "execution": {
     "iopub.execute_input": "2021-09-25T05:42:23.695400Z",
     "iopub.status.busy": "2021-09-25T05:42:23.695149Z",
     "iopub.status.idle": "2021-09-25T05:42:25.822196Z",
     "shell.execute_reply": "2021-09-25T05:42:25.821281Z",
     "shell.execute_reply.started": "2021-09-25T05:42:23.695371Z"
    }
   },
   "outputs": [
    {
     "data": {
      "text/plain": [
       "{'Jewish', 'Meat Shop'}"
      ]
     },
     "execution_count": 270,
     "metadata": {},
     "output_type": "execute_result"
    }
   ],
   "source": [
    "correl(new_df6,0.9)"
   ]
  },
  {
   "cell_type": "code",
   "execution_count": 271,
   "metadata": {},
   "outputs": [
    {
     "data": {
      "text/html": [
       "<div>\n",
       "<style scoped>\n",
       "    .dataframe tbody tr th:only-of-type {\n",
       "        vertical-align: middle;\n",
       "    }\n",
       "\n",
       "    .dataframe tbody tr th {\n",
       "        vertical-align: top;\n",
       "    }\n",
       "\n",
       "    .dataframe thead th {\n",
       "        text-align: right;\n",
       "    }\n",
       "</style>\n",
       "<table border=\"1\" class=\"dataframe\">\n",
       "  <thead>\n",
       "    <tr style=\"text-align: right;\">\n",
       "      <th></th>\n",
       "      <th>online_order</th>\n",
       "      <th>book_table</th>\n",
       "      <th>votes</th>\n",
       "      <th>location</th>\n",
       "      <th>cost</th>\n",
       "      <th>listed_in(type)</th>\n",
       "      <th>Casual Dining</th>\n",
       "      <th>Cafe</th>\n",
       "      <th>Quick Bites</th>\n",
       "      <th>Delivery</th>\n",
       "      <th>...</th>\n",
       "      <th>British</th>\n",
       "      <th>Paan</th>\n",
       "      <th>German</th>\n",
       "      <th>Russian</th>\n",
       "      <th>Drinks Only</th>\n",
       "      <th>Jewish</th>\n",
       "      <th>Vegan</th>\n",
       "      <th>Pan Asian</th>\n",
       "      <th>Raw Meats</th>\n",
       "      <th>Sindhi</th>\n",
       "    </tr>\n",
       "  </thead>\n",
       "  <tbody>\n",
       "    <tr>\n",
       "      <th>online_order</th>\n",
       "      <td>1.000000</td>\n",
       "      <td>-0.054843</td>\n",
       "      <td>-0.013357</td>\n",
       "      <td>-0.074620</td>\n",
       "      <td>-0.032527</td>\n",
       "      <td>-0.239428</td>\n",
       "      <td>0.007249</td>\n",
       "      <td>-0.003371</td>\n",
       "      <td>0.049696</td>\n",
       "      <td>0.081089</td>\n",
       "      <td>...</td>\n",
       "      <td>-0.002343</td>\n",
       "      <td>-0.009632</td>\n",
       "      <td>-0.018020</td>\n",
       "      <td>-0.016683</td>\n",
       "      <td>-0.013621</td>\n",
       "      <td>0.008717</td>\n",
       "      <td>0.008717</td>\n",
       "      <td>0.003559</td>\n",
       "      <td>-0.008437</td>\n",
       "      <td>0.007117</td>\n",
       "    </tr>\n",
       "    <tr>\n",
       "      <th>book_table</th>\n",
       "      <td>-0.054843</td>\n",
       "      <td>1.000000</td>\n",
       "      <td>0.393186</td>\n",
       "      <td>0.091683</td>\n",
       "      <td>0.461293</td>\n",
       "      <td>0.114361</td>\n",
       "      <td>0.365735</td>\n",
       "      <td>0.045994</td>\n",
       "      <td>-0.309512</td>\n",
       "      <td>-0.116700</td>\n",
       "      <td>...</td>\n",
       "      <td>0.030674</td>\n",
       "      <td>-0.002956</td>\n",
       "      <td>-0.005531</td>\n",
       "      <td>0.028399</td>\n",
       "      <td>-0.004181</td>\n",
       "      <td>-0.005121</td>\n",
       "      <td>-0.005121</td>\n",
       "      <td>-0.002091</td>\n",
       "      <td>-0.004181</td>\n",
       "      <td>0.023187</td>\n",
       "    </tr>\n",
       "    <tr>\n",
       "      <th>votes</th>\n",
       "      <td>-0.013357</td>\n",
       "      <td>0.393186</td>\n",
       "      <td>1.000000</td>\n",
       "      <td>0.048620</td>\n",
       "      <td>0.316635</td>\n",
       "      <td>0.070491</td>\n",
       "      <td>0.214668</td>\n",
       "      <td>0.099922</td>\n",
       "      <td>-0.211656</td>\n",
       "      <td>-0.077445</td>\n",
       "      <td>...</td>\n",
       "      <td>0.005241</td>\n",
       "      <td>-0.002730</td>\n",
       "      <td>0.024770</td>\n",
       "      <td>0.035064</td>\n",
       "      <td>-0.003872</td>\n",
       "      <td>-0.002201</td>\n",
       "      <td>-0.002201</td>\n",
       "      <td>-0.001891</td>\n",
       "      <td>-0.003532</td>\n",
       "      <td>-0.002073</td>\n",
       "    </tr>\n",
       "    <tr>\n",
       "      <th>location</th>\n",
       "      <td>-0.074620</td>\n",
       "      <td>0.091683</td>\n",
       "      <td>0.048620</td>\n",
       "      <td>1.000000</td>\n",
       "      <td>0.101542</td>\n",
       "      <td>0.049790</td>\n",
       "      <td>0.047944</td>\n",
       "      <td>0.010608</td>\n",
       "      <td>-0.075726</td>\n",
       "      <td>-0.012332</td>\n",
       "      <td>...</td>\n",
       "      <td>0.011204</td>\n",
       "      <td>-0.003616</td>\n",
       "      <td>0.003312</td>\n",
       "      <td>-0.003980</td>\n",
       "      <td>-0.000267</td>\n",
       "      <td>-0.006720</td>\n",
       "      <td>-0.006720</td>\n",
       "      <td>0.004155</td>\n",
       "      <td>-0.000267</td>\n",
       "      <td>0.006818</td>\n",
       "    </tr>\n",
       "    <tr>\n",
       "      <th>cost</th>\n",
       "      <td>-0.032527</td>\n",
       "      <td>0.461293</td>\n",
       "      <td>0.316635</td>\n",
       "      <td>0.101542</td>\n",
       "      <td>1.000000</td>\n",
       "      <td>0.087030</td>\n",
       "      <td>0.583026</td>\n",
       "      <td>0.210829</td>\n",
       "      <td>-0.564729</td>\n",
       "      <td>-0.054136</td>\n",
       "      <td>...</td>\n",
       "      <td>0.014802</td>\n",
       "      <td>-0.014229</td>\n",
       "      <td>0.014802</td>\n",
       "      <td>0.013704</td>\n",
       "      <td>-0.020124</td>\n",
       "      <td>0.013704</td>\n",
       "      <td>0.013704</td>\n",
       "      <td>-0.001690</td>\n",
       "      <td>-0.005472</td>\n",
       "      <td>0.011189</td>\n",
       "    </tr>\n",
       "    <tr>\n",
       "      <th>...</th>\n",
       "      <td>...</td>\n",
       "      <td>...</td>\n",
       "      <td>...</td>\n",
       "      <td>...</td>\n",
       "      <td>...</td>\n",
       "      <td>...</td>\n",
       "      <td>...</td>\n",
       "      <td>...</td>\n",
       "      <td>...</td>\n",
       "      <td>...</td>\n",
       "      <td>...</td>\n",
       "      <td>...</td>\n",
       "      <td>...</td>\n",
       "      <td>...</td>\n",
       "      <td>...</td>\n",
       "      <td>...</td>\n",
       "      <td>...</td>\n",
       "      <td>...</td>\n",
       "      <td>...</td>\n",
       "      <td>...</td>\n",
       "      <td>...</td>\n",
       "    </tr>\n",
       "    <tr>\n",
       "      <th>Jewish</th>\n",
       "      <td>0.008717</td>\n",
       "      <td>-0.005121</td>\n",
       "      <td>-0.002201</td>\n",
       "      <td>-0.006720</td>\n",
       "      <td>0.013704</td>\n",
       "      <td>-0.004880</td>\n",
       "      <td>-0.007808</td>\n",
       "      <td>0.033175</td>\n",
       "      <td>-0.009183</td>\n",
       "      <td>-0.003344</td>\n",
       "      <td>...</td>\n",
       "      <td>-0.000157</td>\n",
       "      <td>-0.000084</td>\n",
       "      <td>-0.000157</td>\n",
       "      <td>-0.000145</td>\n",
       "      <td>-0.000119</td>\n",
       "      <td>1.000000</td>\n",
       "      <td>1.000000</td>\n",
       "      <td>-0.000059</td>\n",
       "      <td>-0.000119</td>\n",
       "      <td>-0.000119</td>\n",
       "    </tr>\n",
       "    <tr>\n",
       "      <th>Vegan</th>\n",
       "      <td>0.008717</td>\n",
       "      <td>-0.005121</td>\n",
       "      <td>-0.002201</td>\n",
       "      <td>-0.006720</td>\n",
       "      <td>0.013704</td>\n",
       "      <td>-0.004880</td>\n",
       "      <td>-0.007808</td>\n",
       "      <td>0.033175</td>\n",
       "      <td>-0.009183</td>\n",
       "      <td>-0.003344</td>\n",
       "      <td>...</td>\n",
       "      <td>-0.000157</td>\n",
       "      <td>-0.000084</td>\n",
       "      <td>-0.000157</td>\n",
       "      <td>-0.000145</td>\n",
       "      <td>-0.000119</td>\n",
       "      <td>1.000000</td>\n",
       "      <td>1.000000</td>\n",
       "      <td>-0.000059</td>\n",
       "      <td>-0.000119</td>\n",
       "      <td>-0.000119</td>\n",
       "    </tr>\n",
       "    <tr>\n",
       "      <th>Pan Asian</th>\n",
       "      <td>0.003559</td>\n",
       "      <td>-0.002091</td>\n",
       "      <td>-0.001891</td>\n",
       "      <td>0.004155</td>\n",
       "      <td>-0.001690</td>\n",
       "      <td>-0.003394</td>\n",
       "      <td>0.007604</td>\n",
       "      <td>-0.001790</td>\n",
       "      <td>-0.003749</td>\n",
       "      <td>-0.001365</td>\n",
       "      <td>...</td>\n",
       "      <td>-0.000064</td>\n",
       "      <td>-0.000034</td>\n",
       "      <td>-0.000064</td>\n",
       "      <td>-0.000059</td>\n",
       "      <td>-0.000048</td>\n",
       "      <td>-0.000059</td>\n",
       "      <td>-0.000059</td>\n",
       "      <td>1.000000</td>\n",
       "      <td>-0.000048</td>\n",
       "      <td>-0.000048</td>\n",
       "    </tr>\n",
       "    <tr>\n",
       "      <th>Raw Meats</th>\n",
       "      <td>-0.008437</td>\n",
       "      <td>-0.004181</td>\n",
       "      <td>-0.003532</td>\n",
       "      <td>-0.000267</td>\n",
       "      <td>-0.005472</td>\n",
       "      <td>0.001624</td>\n",
       "      <td>-0.006375</td>\n",
       "      <td>-0.003579</td>\n",
       "      <td>0.012931</td>\n",
       "      <td>-0.002730</td>\n",
       "      <td>...</td>\n",
       "      <td>-0.000128</td>\n",
       "      <td>-0.000069</td>\n",
       "      <td>-0.000128</td>\n",
       "      <td>-0.000119</td>\n",
       "      <td>-0.000097</td>\n",
       "      <td>-0.000119</td>\n",
       "      <td>-0.000119</td>\n",
       "      <td>-0.000048</td>\n",
       "      <td>1.000000</td>\n",
       "      <td>-0.000097</td>\n",
       "    </tr>\n",
       "    <tr>\n",
       "      <th>Sindhi</th>\n",
       "      <td>0.007117</td>\n",
       "      <td>0.023187</td>\n",
       "      <td>-0.002073</td>\n",
       "      <td>0.006818</td>\n",
       "      <td>0.011189</td>\n",
       "      <td>0.001624</td>\n",
       "      <td>0.015208</td>\n",
       "      <td>-0.003579</td>\n",
       "      <td>-0.007497</td>\n",
       "      <td>-0.002730</td>\n",
       "      <td>...</td>\n",
       "      <td>-0.000128</td>\n",
       "      <td>-0.000069</td>\n",
       "      <td>-0.000128</td>\n",
       "      <td>-0.000119</td>\n",
       "      <td>-0.000097</td>\n",
       "      <td>-0.000119</td>\n",
       "      <td>-0.000119</td>\n",
       "      <td>-0.000048</td>\n",
       "      <td>-0.000097</td>\n",
       "      <td>1.000000</td>\n",
       "    </tr>\n",
       "  </tbody>\n",
       "</table>\n",
       "<p>133 rows × 133 columns</p>\n",
       "</div>"
      ],
      "text/plain": [
       "              online_order  book_table     votes  location      cost  \\\n",
       "online_order      1.000000   -0.054843 -0.013357 -0.074620 -0.032527   \n",
       "book_table       -0.054843    1.000000  0.393186  0.091683  0.461293   \n",
       "votes            -0.013357    0.393186  1.000000  0.048620  0.316635   \n",
       "location         -0.074620    0.091683  0.048620  1.000000  0.101542   \n",
       "cost             -0.032527    0.461293  0.316635  0.101542  1.000000   \n",
       "...                    ...         ...       ...       ...       ...   \n",
       "Jewish            0.008717   -0.005121 -0.002201 -0.006720  0.013704   \n",
       "Vegan             0.008717   -0.005121 -0.002201 -0.006720  0.013704   \n",
       "Pan Asian         0.003559   -0.002091 -0.001891  0.004155 -0.001690   \n",
       "Raw Meats        -0.008437   -0.004181 -0.003532 -0.000267 -0.005472   \n",
       "Sindhi            0.007117    0.023187 -0.002073  0.006818  0.011189   \n",
       "\n",
       "              listed_in(type)  Casual Dining      Cafe  Quick Bites  Delivery  \\\n",
       "online_order        -0.239428       0.007249 -0.003371     0.049696  0.081089   \n",
       "book_table           0.114361       0.365735  0.045994    -0.309512 -0.116700   \n",
       "votes                0.070491       0.214668  0.099922    -0.211656 -0.077445   \n",
       "location             0.049790       0.047944  0.010608    -0.075726 -0.012332   \n",
       "cost                 0.087030       0.583026  0.210829    -0.564729 -0.054136   \n",
       "...                       ...            ...       ...          ...       ...   \n",
       "Jewish              -0.004880      -0.007808  0.033175    -0.009183 -0.003344   \n",
       "Vegan               -0.004880      -0.007808  0.033175    -0.009183 -0.003344   \n",
       "Pan Asian           -0.003394       0.007604 -0.001790    -0.003749 -0.001365   \n",
       "Raw Meats            0.001624      -0.006375 -0.003579     0.012931 -0.002730   \n",
       "Sindhi               0.001624       0.015208 -0.003579    -0.007497 -0.002730   \n",
       "\n",
       "              ...   British      Paan    German   Russian  Drinks Only  \\\n",
       "online_order  ... -0.002343 -0.009632 -0.018020 -0.016683    -0.013621   \n",
       "book_table    ...  0.030674 -0.002956 -0.005531  0.028399    -0.004181   \n",
       "votes         ...  0.005241 -0.002730  0.024770  0.035064    -0.003872   \n",
       "location      ...  0.011204 -0.003616  0.003312 -0.003980    -0.000267   \n",
       "cost          ...  0.014802 -0.014229  0.014802  0.013704    -0.020124   \n",
       "...           ...       ...       ...       ...       ...          ...   \n",
       "Jewish        ... -0.000157 -0.000084 -0.000157 -0.000145    -0.000119   \n",
       "Vegan         ... -0.000157 -0.000084 -0.000157 -0.000145    -0.000119   \n",
       "Pan Asian     ... -0.000064 -0.000034 -0.000064 -0.000059    -0.000048   \n",
       "Raw Meats     ... -0.000128 -0.000069 -0.000128 -0.000119    -0.000097   \n",
       "Sindhi        ... -0.000128 -0.000069 -0.000128 -0.000119    -0.000097   \n",
       "\n",
       "                Jewish     Vegan  Pan Asian  Raw Meats    Sindhi  \n",
       "online_order  0.008717  0.008717   0.003559  -0.008437  0.007117  \n",
       "book_table   -0.005121 -0.005121  -0.002091  -0.004181  0.023187  \n",
       "votes        -0.002201 -0.002201  -0.001891  -0.003532 -0.002073  \n",
       "location     -0.006720 -0.006720   0.004155  -0.000267  0.006818  \n",
       "cost          0.013704  0.013704  -0.001690  -0.005472  0.011189  \n",
       "...                ...       ...        ...        ...       ...  \n",
       "Jewish        1.000000  1.000000  -0.000059  -0.000119 -0.000119  \n",
       "Vegan         1.000000  1.000000  -0.000059  -0.000119 -0.000119  \n",
       "Pan Asian    -0.000059 -0.000059   1.000000  -0.000048 -0.000048  \n",
       "Raw Meats    -0.000119 -0.000119  -0.000048   1.000000 -0.000097  \n",
       "Sindhi       -0.000119 -0.000119  -0.000048  -0.000097  1.000000  \n",
       "\n",
       "[133 rows x 133 columns]"
      ]
     },
     "execution_count": 271,
     "metadata": {},
     "output_type": "execute_result"
    }
   ],
   "source": [
    "X.corr()"
   ]
  },
  {
   "cell_type": "code",
   "execution_count": 272,
   "metadata": {
    "execution": {
     "iopub.execute_input": "2021-09-25T05:42:25.823882Z",
     "iopub.status.busy": "2021-09-25T05:42:25.823612Z",
     "iopub.status.idle": "2021-09-25T05:42:25.882646Z",
     "shell.execute_reply": "2021-09-25T05:42:25.882094Z",
     "shell.execute_reply.started": "2021-09-25T05:42:25.823851Z"
    }
   },
   "outputs": [
    {
     "data": {
      "text/html": [
       "<div>\n",
       "<style scoped>\n",
       "    .dataframe tbody tr th:only-of-type {\n",
       "        vertical-align: middle;\n",
       "    }\n",
       "\n",
       "    .dataframe tbody tr th {\n",
       "        vertical-align: top;\n",
       "    }\n",
       "\n",
       "    .dataframe thead th {\n",
       "        text-align: right;\n",
       "    }\n",
       "</style>\n",
       "<table border=\"1\" class=\"dataframe\">\n",
       "  <thead>\n",
       "    <tr style=\"text-align: right;\">\n",
       "      <th></th>\n",
       "      <th>online_order</th>\n",
       "      <th>book_table</th>\n",
       "      <th>votes</th>\n",
       "      <th>location</th>\n",
       "      <th>cost</th>\n",
       "      <th>listed_in(type)</th>\n",
       "      <th>Casual Dining</th>\n",
       "      <th>Cafe</th>\n",
       "      <th>Quick Bites</th>\n",
       "      <th>Delivery</th>\n",
       "      <th>...</th>\n",
       "      <th>Mongolian</th>\n",
       "      <th>British</th>\n",
       "      <th>Paan</th>\n",
       "      <th>German</th>\n",
       "      <th>Russian</th>\n",
       "      <th>Drinks Only</th>\n",
       "      <th>Vegan</th>\n",
       "      <th>Pan Asian</th>\n",
       "      <th>Raw Meats</th>\n",
       "      <th>Sindhi</th>\n",
       "    </tr>\n",
       "  </thead>\n",
       "  <tbody>\n",
       "    <tr>\n",
       "      <th>0</th>\n",
       "      <td>1</td>\n",
       "      <td>1</td>\n",
       "      <td>775</td>\n",
       "      <td>1</td>\n",
       "      <td>661</td>\n",
       "      <td>0</td>\n",
       "      <td>1.0</td>\n",
       "      <td>0.0</td>\n",
       "      <td>0.0</td>\n",
       "      <td>0.0</td>\n",
       "      <td>...</td>\n",
       "      <td>0.0</td>\n",
       "      <td>0.0</td>\n",
       "      <td>0.0</td>\n",
       "      <td>0.0</td>\n",
       "      <td>0.0</td>\n",
       "      <td>0.0</td>\n",
       "      <td>0.0</td>\n",
       "      <td>0.0</td>\n",
       "      <td>0.0</td>\n",
       "      <td>0.0</td>\n",
       "    </tr>\n",
       "    <tr>\n",
       "      <th>1</th>\n",
       "      <td>1</td>\n",
       "      <td>0</td>\n",
       "      <td>787</td>\n",
       "      <td>1</td>\n",
       "      <td>661</td>\n",
       "      <td>0</td>\n",
       "      <td>1.0</td>\n",
       "      <td>0.0</td>\n",
       "      <td>0.0</td>\n",
       "      <td>0.0</td>\n",
       "      <td>...</td>\n",
       "      <td>0.0</td>\n",
       "      <td>0.0</td>\n",
       "      <td>0.0</td>\n",
       "      <td>0.0</td>\n",
       "      <td>0.0</td>\n",
       "      <td>0.0</td>\n",
       "      <td>0.0</td>\n",
       "      <td>0.0</td>\n",
       "      <td>0.0</td>\n",
       "      <td>0.0</td>\n",
       "    </tr>\n",
       "    <tr>\n",
       "      <th>2</th>\n",
       "      <td>1</td>\n",
       "      <td>0</td>\n",
       "      <td>918</td>\n",
       "      <td>1</td>\n",
       "      <td>661</td>\n",
       "      <td>0</td>\n",
       "      <td>1.0</td>\n",
       "      <td>1.0</td>\n",
       "      <td>0.0</td>\n",
       "      <td>0.0</td>\n",
       "      <td>...</td>\n",
       "      <td>0.0</td>\n",
       "      <td>0.0</td>\n",
       "      <td>0.0</td>\n",
       "      <td>0.0</td>\n",
       "      <td>0.0</td>\n",
       "      <td>0.0</td>\n",
       "      <td>0.0</td>\n",
       "      <td>0.0</td>\n",
       "      <td>0.0</td>\n",
       "      <td>0.0</td>\n",
       "    </tr>\n",
       "    <tr>\n",
       "      <th>3</th>\n",
       "      <td>0</td>\n",
       "      <td>0</td>\n",
       "      <td>88</td>\n",
       "      <td>1</td>\n",
       "      <td>300</td>\n",
       "      <td>0</td>\n",
       "      <td>0.0</td>\n",
       "      <td>0.0</td>\n",
       "      <td>1.0</td>\n",
       "      <td>0.0</td>\n",
       "      <td>...</td>\n",
       "      <td>0.0</td>\n",
       "      <td>0.0</td>\n",
       "      <td>0.0</td>\n",
       "      <td>0.0</td>\n",
       "      <td>0.0</td>\n",
       "      <td>0.0</td>\n",
       "      <td>0.0</td>\n",
       "      <td>0.0</td>\n",
       "      <td>0.0</td>\n",
       "      <td>0.0</td>\n",
       "    </tr>\n",
       "    <tr>\n",
       "      <th>4</th>\n",
       "      <td>0</td>\n",
       "      <td>0</td>\n",
       "      <td>166</td>\n",
       "      <td>4</td>\n",
       "      <td>600</td>\n",
       "      <td>0</td>\n",
       "      <td>1.0</td>\n",
       "      <td>0.0</td>\n",
       "      <td>0.0</td>\n",
       "      <td>0.0</td>\n",
       "      <td>...</td>\n",
       "      <td>0.0</td>\n",
       "      <td>0.0</td>\n",
       "      <td>0.0</td>\n",
       "      <td>0.0</td>\n",
       "      <td>0.0</td>\n",
       "      <td>0.0</td>\n",
       "      <td>0.0</td>\n",
       "      <td>0.0</td>\n",
       "      <td>0.0</td>\n",
       "      <td>0.0</td>\n",
       "    </tr>\n",
       "    <tr>\n",
       "      <th>...</th>\n",
       "      <td>...</td>\n",
       "      <td>...</td>\n",
       "      <td>...</td>\n",
       "      <td>...</td>\n",
       "      <td>...</td>\n",
       "      <td>...</td>\n",
       "      <td>...</td>\n",
       "      <td>...</td>\n",
       "      <td>...</td>\n",
       "      <td>...</td>\n",
       "      <td>...</td>\n",
       "      <td>...</td>\n",
       "      <td>...</td>\n",
       "      <td>...</td>\n",
       "      <td>...</td>\n",
       "      <td>...</td>\n",
       "      <td>...</td>\n",
       "      <td>...</td>\n",
       "      <td>...</td>\n",
       "      <td>...</td>\n",
       "      <td>...</td>\n",
       "    </tr>\n",
       "    <tr>\n",
       "      <th>41258</th>\n",
       "      <td>0</td>\n",
       "      <td>0</td>\n",
       "      <td>34</td>\n",
       "      <td>88</td>\n",
       "      <td>661</td>\n",
       "      <td>6</td>\n",
       "      <td>1.0</td>\n",
       "      <td>0.0</td>\n",
       "      <td>0.0</td>\n",
       "      <td>0.0</td>\n",
       "      <td>...</td>\n",
       "      <td>0.0</td>\n",
       "      <td>0.0</td>\n",
       "      <td>0.0</td>\n",
       "      <td>0.0</td>\n",
       "      <td>0.0</td>\n",
       "      <td>0.0</td>\n",
       "      <td>0.0</td>\n",
       "      <td>0.0</td>\n",
       "      <td>0.0</td>\n",
       "      <td>0.0</td>\n",
       "    </tr>\n",
       "    <tr>\n",
       "      <th>41259</th>\n",
       "      <td>0</td>\n",
       "      <td>0</td>\n",
       "      <td>81</td>\n",
       "      <td>88</td>\n",
       "      <td>661</td>\n",
       "      <td>6</td>\n",
       "      <td>1.0</td>\n",
       "      <td>0.0</td>\n",
       "      <td>0.0</td>\n",
       "      <td>0.0</td>\n",
       "      <td>...</td>\n",
       "      <td>0.0</td>\n",
       "      <td>0.0</td>\n",
       "      <td>0.0</td>\n",
       "      <td>0.0</td>\n",
       "      <td>0.0</td>\n",
       "      <td>0.0</td>\n",
       "      <td>0.0</td>\n",
       "      <td>0.0</td>\n",
       "      <td>0.0</td>\n",
       "      <td>0.0</td>\n",
       "    </tr>\n",
       "    <tr>\n",
       "      <th>41260</th>\n",
       "      <td>0</td>\n",
       "      <td>0</td>\n",
       "      <td>27</td>\n",
       "      <td>88</td>\n",
       "      <td>661</td>\n",
       "      <td>6</td>\n",
       "      <td>0.0</td>\n",
       "      <td>0.0</td>\n",
       "      <td>0.0</td>\n",
       "      <td>0.0</td>\n",
       "      <td>...</td>\n",
       "      <td>0.0</td>\n",
       "      <td>0.0</td>\n",
       "      <td>0.0</td>\n",
       "      <td>0.0</td>\n",
       "      <td>0.0</td>\n",
       "      <td>0.0</td>\n",
       "      <td>0.0</td>\n",
       "      <td>0.0</td>\n",
       "      <td>0.0</td>\n",
       "      <td>0.0</td>\n",
       "    </tr>\n",
       "    <tr>\n",
       "      <th>41261</th>\n",
       "      <td>0</td>\n",
       "      <td>1</td>\n",
       "      <td>236</td>\n",
       "      <td>26</td>\n",
       "      <td>661</td>\n",
       "      <td>6</td>\n",
       "      <td>0.0</td>\n",
       "      <td>0.0</td>\n",
       "      <td>0.0</td>\n",
       "      <td>0.0</td>\n",
       "      <td>...</td>\n",
       "      <td>0.0</td>\n",
       "      <td>0.0</td>\n",
       "      <td>0.0</td>\n",
       "      <td>0.0</td>\n",
       "      <td>0.0</td>\n",
       "      <td>0.0</td>\n",
       "      <td>0.0</td>\n",
       "      <td>0.0</td>\n",
       "      <td>0.0</td>\n",
       "      <td>0.0</td>\n",
       "    </tr>\n",
       "    <tr>\n",
       "      <th>41262</th>\n",
       "      <td>0</td>\n",
       "      <td>0</td>\n",
       "      <td>13</td>\n",
       "      <td>26</td>\n",
       "      <td>661</td>\n",
       "      <td>6</td>\n",
       "      <td>1.0</td>\n",
       "      <td>0.0</td>\n",
       "      <td>0.0</td>\n",
       "      <td>0.0</td>\n",
       "      <td>...</td>\n",
       "      <td>0.0</td>\n",
       "      <td>0.0</td>\n",
       "      <td>0.0</td>\n",
       "      <td>0.0</td>\n",
       "      <td>0.0</td>\n",
       "      <td>0.0</td>\n",
       "      <td>0.0</td>\n",
       "      <td>0.0</td>\n",
       "      <td>0.0</td>\n",
       "      <td>0.0</td>\n",
       "    </tr>\n",
       "  </tbody>\n",
       "</table>\n",
       "<p>41263 rows × 131 columns</p>\n",
       "</div>"
      ],
      "text/plain": [
       "       online_order  book_table  votes  location  cost  listed_in(type)  \\\n",
       "0                 1           1    775         1   661                0   \n",
       "1                 1           0    787         1   661                0   \n",
       "2                 1           0    918         1   661                0   \n",
       "3                 0           0     88         1   300                0   \n",
       "4                 0           0    166         4   600                0   \n",
       "...             ...         ...    ...       ...   ...              ...   \n",
       "41258             0           0     34        88   661                6   \n",
       "41259             0           0     81        88   661                6   \n",
       "41260             0           0     27        88   661                6   \n",
       "41261             0           1    236        26   661                6   \n",
       "41262             0           0     13        26   661                6   \n",
       "\n",
       "       Casual Dining  Cafe  Quick Bites  Delivery  ...  Mongolian  British  \\\n",
       "0                1.0   0.0          0.0       0.0  ...        0.0      0.0   \n",
       "1                1.0   0.0          0.0       0.0  ...        0.0      0.0   \n",
       "2                1.0   1.0          0.0       0.0  ...        0.0      0.0   \n",
       "3                0.0   0.0          1.0       0.0  ...        0.0      0.0   \n",
       "4                1.0   0.0          0.0       0.0  ...        0.0      0.0   \n",
       "...              ...   ...          ...       ...  ...        ...      ...   \n",
       "41258            1.0   0.0          0.0       0.0  ...        0.0      0.0   \n",
       "41259            1.0   0.0          0.0       0.0  ...        0.0      0.0   \n",
       "41260            0.0   0.0          0.0       0.0  ...        0.0      0.0   \n",
       "41261            0.0   0.0          0.0       0.0  ...        0.0      0.0   \n",
       "41262            1.0   0.0          0.0       0.0  ...        0.0      0.0   \n",
       "\n",
       "       Paan  German  Russian  Drinks Only  Vegan  Pan Asian  Raw Meats  Sindhi  \n",
       "0       0.0     0.0      0.0          0.0    0.0        0.0        0.0     0.0  \n",
       "1       0.0     0.0      0.0          0.0    0.0        0.0        0.0     0.0  \n",
       "2       0.0     0.0      0.0          0.0    0.0        0.0        0.0     0.0  \n",
       "3       0.0     0.0      0.0          0.0    0.0        0.0        0.0     0.0  \n",
       "4       0.0     0.0      0.0          0.0    0.0        0.0        0.0     0.0  \n",
       "...     ...     ...      ...          ...    ...        ...        ...     ...  \n",
       "41258   0.0     0.0      0.0          0.0    0.0        0.0        0.0     0.0  \n",
       "41259   0.0     0.0      0.0          0.0    0.0        0.0        0.0     0.0  \n",
       "41260   0.0     0.0      0.0          0.0    0.0        0.0        0.0     0.0  \n",
       "41261   0.0     0.0      0.0          0.0    0.0        0.0        0.0     0.0  \n",
       "41262   0.0     0.0      0.0          0.0    0.0        0.0        0.0     0.0  \n",
       "\n",
       "[41263 rows x 131 columns]"
      ]
     },
     "execution_count": 272,
     "metadata": {},
     "output_type": "execute_result"
    }
   ],
   "source": [
    "## drop the columns which are highly correlated.\n",
    "X.drop(['Jewish', 'Meat Shop'],axis=1)"
   ]
  },
  {
   "cell_type": "code",
   "execution_count": 273,
   "metadata": {
    "execution": {
     "iopub.execute_input": "2021-09-25T05:42:25.884203Z",
     "iopub.status.busy": "2021-09-25T05:42:25.883800Z",
     "iopub.status.idle": "2021-09-25T05:42:25.936710Z",
     "shell.execute_reply": "2021-09-25T05:42:25.935864Z",
     "shell.execute_reply.started": "2021-09-25T05:42:25.884166Z"
    }
   },
   "outputs": [],
   "source": [
    "from sklearn.model_selection import train_test_split"
   ]
  },
  {
   "cell_type": "code",
   "execution_count": 274,
   "metadata": {
    "execution": {
     "iopub.execute_input": "2021-09-25T05:42:25.938186Z",
     "iopub.status.busy": "2021-09-25T05:42:25.937933Z",
     "iopub.status.idle": "2021-09-25T05:42:25.993300Z",
     "shell.execute_reply": "2021-09-25T05:42:25.992269Z",
     "shell.execute_reply.started": "2021-09-25T05:42:25.938158Z"
    }
   },
   "outputs": [],
   "source": [
    "## splitting the data into train and test"
   ]
  },
  {
   "cell_type": "code",
   "execution_count": 275,
   "metadata": {},
   "outputs": [],
   "source": [
    "X_train, X_test, y_train, y_test = train_test_split(X, y, test_size=0.33, random_state=0)"
   ]
  },
  {
   "cell_type": "code",
   "execution_count": 276,
   "metadata": {},
   "outputs": [
    {
     "name": "stdout",
     "output_type": "stream",
     "text": [
      "Shape of x_train dataset:  (27646, 133)\n",
      "Shape of y_train dataset:  (27646,)\n",
      "Shape of X_test dataset:  (13617, 133)\n",
      "Shape of y_test dataset:  (13617,)\n"
     ]
    }
   ],
   "source": [
    "print(\"Shape of x_train dataset: \", X_train.shape)\n",
    "print(\"Shape of y_train dataset: \", y_train.shape)\n",
    "print(\"Shape of X_test dataset: \", X_test.shape)\n",
    "print(\"Shape of y_test dataset: \", y_test.shape)"
   ]
  },
  {
   "cell_type": "code",
   "execution_count": null,
   "metadata": {},
   "outputs": [],
   "source": []
  },
  {
   "cell_type": "code",
   "execution_count": 277,
   "metadata": {},
   "outputs": [],
   "source": [
    "## MINMAX scaler -STANDARDISATION\n",
    "from sklearn.preprocessing import MinMaxScaler\n",
    "scaler = MinMaxScaler().fit(X_train)\n",
    "\n",
    "scaled_train_array=scaler.transform(X_train)\n",
    "scaled_train=pd.DataFrame(data=scaled_train_array,columns=X_train.columns) #standardised independant variables/training set\n",
    "\n",
    "scaled_test_array=scaler.transform(X_test)\n",
    "scaled_test=pd.DataFrame(data=scaled_test_array,columns=X_test.columns)   #standardised independant variables/ test set"
   ]
  },
  {
   "cell_type": "markdown",
   "metadata": {},
   "source": [
    "# MODEL BUILDING"
   ]
  },
  {
   "cell_type": "code",
   "execution_count": 278,
   "metadata": {
    "execution": {
     "iopub.execute_input": "2021-09-25T05:42:25.994887Z",
     "iopub.status.busy": "2021-09-25T05:42:25.994626Z",
     "iopub.status.idle": "2021-09-25T05:42:26.203816Z",
     "shell.execute_reply": "2021-09-25T05:42:26.203220Z",
     "shell.execute_reply.started": "2021-09-25T05:42:25.994859Z"
    }
   },
   "outputs": [],
   "source": [
    "from sklearn.model_selection import RandomizedSearchCV\n",
    "from sklearn.ensemble import RandomForestRegressor\n",
    "\n",
    "model = RandomForestRegressor()"
   ]
  },
  {
   "cell_type": "code",
   "execution_count": 279,
   "metadata": {
    "execution": {
     "iopub.execute_input": "2021-09-25T05:42:26.205647Z",
     "iopub.status.busy": "2021-09-25T05:42:26.204848Z",
     "iopub.status.idle": "2021-09-25T05:42:26.211459Z",
     "shell.execute_reply": "2021-09-25T05:42:26.210669Z",
     "shell.execute_reply.started": "2021-09-25T05:42:26.205590Z"
    }
   },
   "outputs": [],
   "source": [
    "# para_dict = {\n",
    "#    'n_estimators' : [100,200,400,500,800,1000],\n",
    "#   'max_depth' : [5,10,15,20,25,30],\n",
    "#    'max_features' : ['auto','sqrt','log2'],\n",
    "#    'min_samples_leaf' : [1,2,3,4]\n",
    "#}"
   ]
  },
  {
   "cell_type": "code",
   "execution_count": 196,
   "metadata": {
    "execution": {
     "iopub.execute_input": "2021-09-25T05:42:26.213234Z",
     "iopub.status.busy": "2021-09-25T05:42:26.212751Z",
     "iopub.status.idle": "2021-09-25T05:42:26.225846Z",
     "shell.execute_reply": "2021-09-25T05:42:26.224993Z",
     "shell.execute_reply.started": "2021-09-25T05:42:26.213192Z"
    }
   },
   "outputs": [],
   "source": [
    "# search = RandomizedSearchCV(model,para_dict,n_iter=20)"
   ]
  },
  {
   "cell_type": "code",
   "execution_count": 198,
   "metadata": {
    "execution": {
     "iopub.execute_input": "2021-09-25T05:42:26.227779Z",
     "iopub.status.busy": "2021-09-25T05:42:26.227470Z",
     "iopub.status.idle": "2021-09-25T05:42:26.236692Z",
     "shell.execute_reply": "2021-09-25T05:42:26.236122Z",
     "shell.execute_reply.started": "2021-09-25T05:42:26.227741Z"
    }
   },
   "outputs": [],
   "source": [
    "# search.fit(X_train,y_train)"
   ]
  },
  {
   "cell_type": "code",
   "execution_count": 67,
   "metadata": {
    "execution": {
     "iopub.execute_input": "2021-09-25T05:42:26.238797Z",
     "iopub.status.busy": "2021-09-25T05:42:26.237830Z",
     "iopub.status.idle": "2021-09-25T05:42:26.249045Z",
     "shell.execute_reply": "2021-09-25T05:42:26.248289Z",
     "shell.execute_reply.started": "2021-09-25T05:42:26.238752Z"
    }
   },
   "outputs": [],
   "source": [
    "# search.best_estimator_"
   ]
  },
  {
   "cell_type": "code",
   "execution_count": 68,
   "metadata": {
    "execution": {
     "iopub.execute_input": "2021-09-25T05:42:26.250602Z",
     "iopub.status.busy": "2021-09-25T05:42:26.250305Z",
     "iopub.status.idle": "2021-09-25T05:42:26.262609Z",
     "shell.execute_reply": "2021-09-25T05:42:26.261729Z",
     "shell.execute_reply.started": "2021-09-25T05:42:26.250563Z"
    }
   },
   "outputs": [],
   "source": [
    "#For n_iter = 20\n",
    "#RandomForestRegressor(max_depth=30, n_estimators=400)\n",
    "\n",
    "#For n_iter = 10\n",
    "#RandomForestRegressor(max_depth=25, min_samples_leaf=2, n_estimators=800)"
   ]
  },
  {
   "cell_type": "code",
   "execution_count": 280,
   "metadata": {
    "execution": {
     "iopub.execute_input": "2021-09-25T05:42:26.264487Z",
     "iopub.status.busy": "2021-09-25T05:42:26.264152Z",
     "iopub.status.idle": "2021-09-25T05:42:26.280310Z",
     "shell.execute_reply": "2021-09-25T05:42:26.279480Z",
     "shell.execute_reply.started": "2021-09-25T05:42:26.264446Z"
    }
   },
   "outputs": [],
   "source": [
    "tree = RandomForestRegressor(max_depth=30, n_estimators=400)"
   ]
  },
  {
   "cell_type": "code",
   "execution_count": 281,
   "metadata": {
    "execution": {
     "iopub.execute_input": "2021-09-25T05:42:26.282690Z",
     "iopub.status.busy": "2021-09-25T05:42:26.281715Z",
     "iopub.status.idle": "2021-09-25T05:43:47.546393Z",
     "shell.execute_reply": "2021-09-25T05:43:47.545465Z",
     "shell.execute_reply.started": "2021-09-25T05:42:26.282636Z"
    }
   },
   "outputs": [
    {
     "data": {
      "text/plain": [
       "RandomForestRegressor(max_depth=30, n_estimators=400)"
      ]
     },
     "execution_count": 281,
     "metadata": {},
     "output_type": "execute_result"
    }
   ],
   "source": [
    "tree.fit(scaled_train,y_train)"
   ]
  },
  {
   "cell_type": "code",
   "execution_count": 282,
   "metadata": {
    "execution": {
     "iopub.execute_input": "2021-09-25T05:43:47.548168Z",
     "iopub.status.busy": "2021-09-25T05:43:47.547815Z",
     "iopub.status.idle": "2021-09-25T05:43:49.044520Z",
     "shell.execute_reply": "2021-09-25T05:43:49.043826Z",
     "shell.execute_reply.started": "2021-09-25T05:43:47.548126Z"
    }
   },
   "outputs": [],
   "source": [
    "train_pred=tree.predict(scaled_train)\n",
    "test_pred = tree.predict(scaled_test)"
   ]
  },
  {
   "cell_type": "code",
   "execution_count": 283,
   "metadata": {
    "execution": {
     "iopub.execute_input": "2021-09-25T05:43:49.046451Z",
     "iopub.status.busy": "2021-09-25T05:43:49.045663Z",
     "iopub.status.idle": "2021-09-25T05:43:52.119132Z",
     "shell.execute_reply": "2021-09-25T05:43:52.118267Z",
     "shell.execute_reply.started": "2021-09-25T05:43:49.046408Z"
    }
   },
   "outputs": [
    {
     "data": {
      "text/plain": [
       "0.987253240960988"
      ]
     },
     "execution_count": 283,
     "metadata": {},
     "output_type": "execute_result"
    }
   ],
   "source": [
    "tree.score(scaled_train,y_train)"
   ]
  },
  {
   "cell_type": "code",
   "execution_count": 284,
   "metadata": {
    "execution": {
     "iopub.execute_input": "2021-09-25T05:43:52.121197Z",
     "iopub.status.busy": "2021-09-25T05:43:52.120821Z",
     "iopub.status.idle": "2021-09-25T05:43:53.719475Z",
     "shell.execute_reply": "2021-09-25T05:43:53.718623Z",
     "shell.execute_reply.started": "2021-09-25T05:43:52.121150Z"
    }
   },
   "outputs": [
    {
     "data": {
      "text/plain": [
       "0.9162158899715753"
      ]
     },
     "execution_count": 284,
     "metadata": {},
     "output_type": "execute_result"
    }
   ],
   "source": [
    "tree.score(scaled_test,y_test)"
   ]
  },
  {
   "cell_type": "code",
   "execution_count": 285,
   "metadata": {},
   "outputs": [],
   "source": [
    "from sklearn.metrics import mean_squared_error\n",
    "from sklearn.metrics import mean_absolute_error\n",
    "from sklearn.metrics import r2_score"
   ]
  },
  {
   "cell_type": "code",
   "execution_count": 286,
   "metadata": {},
   "outputs": [],
   "source": [
    "def eval_metrics_exp(actual_train,actual_test,pred_train,pred_test):\n",
    "    #for Training data\n",
    "    MAE_train=mean_absolute_error(actual_train,pred_train)\n",
    "    RMSE_train=np.sqrt(mean_squared_error(actual_train,pred_train))\n",
    "    R_2_train = r2_score(actual_train,pred_train)\n",
    "    #for Test data\n",
    "    MAE_test=mean_absolute_error(actual_test,pred_test)\n",
    "    RMSE_test=np.sqrt(mean_squared_error(actual_test,pred_test))\n",
    "    R_2_trest = r2_score(actual_test,pred_test)\n",
    "    eva_df=pd.DataFrame({'Training set':[MAE_train,RMSE_train,R_2_train],\n",
    "                    'Testing set':[MAE_test,RMSE_test,R_2_trest]},\n",
    "                    index =['MAE','RMSE','R2 SCORE'])\n",
    "    return eva_df"
   ]
  },
  {
   "cell_type": "code",
   "execution_count": 287,
   "metadata": {},
   "outputs": [
    {
     "data": {
      "text/html": [
       "<div>\n",
       "<style scoped>\n",
       "    .dataframe tbody tr th:only-of-type {\n",
       "        vertical-align: middle;\n",
       "    }\n",
       "\n",
       "    .dataframe tbody tr th {\n",
       "        vertical-align: top;\n",
       "    }\n",
       "\n",
       "    .dataframe thead th {\n",
       "        text-align: right;\n",
       "    }\n",
       "</style>\n",
       "<table border=\"1\" class=\"dataframe\">\n",
       "  <thead>\n",
       "    <tr style=\"text-align: right;\">\n",
       "      <th></th>\n",
       "      <th>Training set</th>\n",
       "      <th>Testing set</th>\n",
       "    </tr>\n",
       "  </thead>\n",
       "  <tbody>\n",
       "    <tr>\n",
       "      <th>MAE</th>\n",
       "      <td>0.024220</td>\n",
       "      <td>0.060134</td>\n",
       "    </tr>\n",
       "    <tr>\n",
       "      <th>RMSE</th>\n",
       "      <td>0.049735</td>\n",
       "      <td>0.127032</td>\n",
       "    </tr>\n",
       "    <tr>\n",
       "      <th>R2 SCORE</th>\n",
       "      <td>0.987253</td>\n",
       "      <td>0.916216</td>\n",
       "    </tr>\n",
       "  </tbody>\n",
       "</table>\n",
       "</div>"
      ],
      "text/plain": [
       "          Training set  Testing set\n",
       "MAE           0.024220     0.060134\n",
       "RMSE          0.049735     0.127032\n",
       "R2 SCORE      0.987253     0.916216"
      ]
     },
     "execution_count": 287,
     "metadata": {},
     "output_type": "execute_result"
    }
   ],
   "source": [
    "rf_metrics=eval_metrics_exp(y_train,y_test,train_pred,test_pred)\n",
    "rf_metrics"
   ]
  },
  {
   "cell_type": "markdown",
   "metadata": {},
   "source": [
    "The performance is much better with random forest but we will also try fitting other model to check if they perform better than random forest."
   ]
  },
  {
   "cell_type": "code",
   "execution_count": 304,
   "metadata": {},
   "outputs": [],
   "source": [
    "Importance=pd.DataFrame(data = tree.feature_importances_,index=X.columns\n",
    "             ,columns=['Feature Importance']).sort_values('Feature Importance', ascending=False)"
   ]
  },
  {
   "cell_type": "code",
   "execution_count": 305,
   "metadata": {},
   "outputs": [
    {
     "data": {
      "text/html": [
       "<div>\n",
       "<style scoped>\n",
       "    .dataframe tbody tr th:only-of-type {\n",
       "        vertical-align: middle;\n",
       "    }\n",
       "\n",
       "    .dataframe tbody tr th {\n",
       "        vertical-align: top;\n",
       "    }\n",
       "\n",
       "    .dataframe thead th {\n",
       "        text-align: right;\n",
       "    }\n",
       "</style>\n",
       "<table border=\"1\" class=\"dataframe\">\n",
       "  <thead>\n",
       "    <tr style=\"text-align: right;\">\n",
       "      <th></th>\n",
       "      <th>Feature Importance</th>\n",
       "    </tr>\n",
       "  </thead>\n",
       "  <tbody>\n",
       "    <tr>\n",
       "      <th>votes</th>\n",
       "      <td>5.266547e-01</td>\n",
       "    </tr>\n",
       "    <tr>\n",
       "      <th>location</th>\n",
       "      <td>9.956923e-02</td>\n",
       "    </tr>\n",
       "    <tr>\n",
       "      <th>cost</th>\n",
       "      <td>5.863446e-02</td>\n",
       "    </tr>\n",
       "    <tr>\n",
       "      <th>Chinese</th>\n",
       "      <td>2.661936e-02</td>\n",
       "    </tr>\n",
       "    <tr>\n",
       "      <th>North Indian</th>\n",
       "      <td>2.128963e-02</td>\n",
       "    </tr>\n",
       "    <tr>\n",
       "      <th>...</th>\n",
       "      <td>...</td>\n",
       "    </tr>\n",
       "    <tr>\n",
       "      <th>German</th>\n",
       "      <td>1.345879e-06</td>\n",
       "    </tr>\n",
       "    <tr>\n",
       "      <th>Irani Cafee</th>\n",
       "      <td>1.030043e-06</td>\n",
       "    </tr>\n",
       "    <tr>\n",
       "      <th>Drinks Only</th>\n",
       "      <td>7.607352e-07</td>\n",
       "    </tr>\n",
       "    <tr>\n",
       "      <th>Bhojanalya</th>\n",
       "      <td>6.040543e-07</td>\n",
       "    </tr>\n",
       "    <tr>\n",
       "      <th>Paan</th>\n",
       "      <td>5.060582e-07</td>\n",
       "    </tr>\n",
       "  </tbody>\n",
       "</table>\n",
       "<p>133 rows × 1 columns</p>\n",
       "</div>"
      ],
      "text/plain": [
       "              Feature Importance\n",
       "votes               5.266547e-01\n",
       "location            9.956923e-02\n",
       "cost                5.863446e-02\n",
       "Chinese             2.661936e-02\n",
       "North Indian        2.128963e-02\n",
       "...                          ...\n",
       "German              1.345879e-06\n",
       "Irani Cafee         1.030043e-06\n",
       "Drinks Only         7.607352e-07\n",
       "Bhojanalya          6.040543e-07\n",
       "Paan                5.060582e-07\n",
       "\n",
       "[133 rows x 1 columns]"
      ]
     },
     "execution_count": 305,
     "metadata": {},
     "output_type": "execute_result"
    }
   ],
   "source": [
    "Importance"
   ]
  },
  {
   "cell_type": "markdown",
   "metadata": {},
   "source": [
    "# Support vector machine"
   ]
  },
  {
   "cell_type": "code",
   "execution_count": 289,
   "metadata": {},
   "outputs": [
    {
     "data": {
      "text/plain": [
       "SVR()"
      ]
     },
     "execution_count": 289,
     "metadata": {},
     "output_type": "execute_result"
    }
   ],
   "source": [
    "from sklearn.svm import SVR\n",
    "svm=SVR()\n",
    "svm.fit(scaled_train,y_train)"
   ]
  },
  {
   "cell_type": "code",
   "execution_count": 293,
   "metadata": {},
   "outputs": [],
   "source": [
    "pred_train_svm=svm.predict(scaled_train) \n",
    "pred_test_svm=svm.predict(scaled_test)"
   ]
  },
  {
   "cell_type": "code",
   "execution_count": 306,
   "metadata": {},
   "outputs": [
    {
     "data": {
      "text/html": [
       "<div>\n",
       "<style scoped>\n",
       "    .dataframe tbody tr th:only-of-type {\n",
       "        vertical-align: middle;\n",
       "    }\n",
       "\n",
       "    .dataframe tbody tr th {\n",
       "        vertical-align: top;\n",
       "    }\n",
       "\n",
       "    .dataframe thead th {\n",
       "        text-align: right;\n",
       "    }\n",
       "</style>\n",
       "<table border=\"1\" class=\"dataframe\">\n",
       "  <thead>\n",
       "    <tr style=\"text-align: right;\">\n",
       "      <th></th>\n",
       "      <th>Training set</th>\n",
       "      <th>Testing set</th>\n",
       "    </tr>\n",
       "  </thead>\n",
       "  <tbody>\n",
       "    <tr>\n",
       "      <th>MAE</th>\n",
       "      <td>0.189928</td>\n",
       "      <td>0.204030</td>\n",
       "    </tr>\n",
       "    <tr>\n",
       "      <th>RMSE</th>\n",
       "      <td>0.272023</td>\n",
       "      <td>0.287748</td>\n",
       "    </tr>\n",
       "    <tr>\n",
       "      <th>R2 SCORE</th>\n",
       "      <td>0.618676</td>\n",
       "      <td>0.570111</td>\n",
       "    </tr>\n",
       "  </tbody>\n",
       "</table>\n",
       "</div>"
      ],
      "text/plain": [
       "          Training set  Testing set\n",
       "MAE           0.189928     0.204030\n",
       "RMSE          0.272023     0.287748\n",
       "R2 SCORE      0.618676     0.570111"
      ]
     },
     "execution_count": 306,
     "metadata": {},
     "output_type": "execute_result"
    }
   ],
   "source": [
    "svm_metrics=eval_metrics_exp(y_train,y_test,pred_train_svm, pred_test_svm)\n",
    "svm_metrics"
   ]
  },
  {
   "cell_type": "code",
   "execution_count": 234,
   "metadata": {},
   "outputs": [
    {
     "name": "stdout",
     "output_type": "stream",
     "text": [
      "RMSE of train is : 0.348531 and RMSE of test is : 0.350400 when kernel is linear\n",
      "RMSE of train is : 0.265257 and RMSE of test is : 0.280047 when kernel is rbf\n",
      "RMSE of train is : 0.267743 and RMSE of test is : 0.282646 when kernel is poly\n",
      "RMSE of train is : 88.866251 and RMSE of test is : 88.862627 when kernel is sigmoid\n"
     ]
    }
   ],
   "source": [
    "#Checking the performance of all four kernels\n",
    "kernel=['linear','rbf','poly','sigmoid']\n",
    "for i in kernel:\n",
    "    svm_model=SVR(kernel=i).fit(scaled_train,y_train)\n",
    "    pred_train_svm=svm_model.predict(scaled_train)\n",
    "    pred_test_svm=svm_model.predict(scaled_test)\n",
    "    RMSE_train=np.sqrt(mean_squared_error(y_train,pred_train_svm))\n",
    "    RMSE_test=np.sqrt(mean_squared_error(y_test,pred_test_svm))\n",
    "    print('RMSE of train is : %f and RMSE of test is : %f when kernel is %s' %(RMSE_train,RMSE_test,i))"
   ]
  },
  {
   "cell_type": "markdown",
   "metadata": {},
   "source": [
    "# XGBOOST REGRESSOR"
   ]
  },
  {
   "cell_type": "code",
   "execution_count": 307,
   "metadata": {},
   "outputs": [
    {
     "data": {
      "text/plain": [
       "XGBRegressor(base_score=0.5, booster='gbtree', colsample_bylevel=1,\n",
       "             colsample_bynode=1, colsample_bytree=1, gamma=0, gpu_id=-1,\n",
       "             importance_type='gain', interaction_constraints='',\n",
       "             learning_rate=0.300000012, max_delta_step=0, max_depth=6,\n",
       "             min_child_weight=1, missing=nan, monotone_constraints='()',\n",
       "             n_estimators=100, n_jobs=4, num_parallel_tree=1, random_state=0,\n",
       "             reg_alpha=0, reg_lambda=1, scale_pos_weight=1, subsample=1,\n",
       "             tree_method='exact', validate_parameters=1, verbosity=None)"
      ]
     },
     "execution_count": 307,
     "metadata": {},
     "output_type": "execute_result"
    }
   ],
   "source": [
    "from xgboost import XGBRegressor\n",
    "xgb_model=XGBRegressor()\n",
    "xgb_model.fit(X_train, y_train)"
   ]
  },
  {
   "cell_type": "code",
   "execution_count": 308,
   "metadata": {},
   "outputs": [],
   "source": [
    "#prediction\n",
    "pred_train_xgb=xgb_model.predict(X_train)\n",
    "pred_test_xgb=xgb_model.predict(X_test)"
   ]
  },
  {
   "cell_type": "code",
   "execution_count": 309,
   "metadata": {},
   "outputs": [
    {
     "data": {
      "text/html": [
       "<div>\n",
       "<style scoped>\n",
       "    .dataframe tbody tr th:only-of-type {\n",
       "        vertical-align: middle;\n",
       "    }\n",
       "\n",
       "    .dataframe tbody tr th {\n",
       "        vertical-align: top;\n",
       "    }\n",
       "\n",
       "    .dataframe thead th {\n",
       "        text-align: right;\n",
       "    }\n",
       "</style>\n",
       "<table border=\"1\" class=\"dataframe\">\n",
       "  <thead>\n",
       "    <tr style=\"text-align: right;\">\n",
       "      <th></th>\n",
       "      <th>Training set</th>\n",
       "      <th>Testing set</th>\n",
       "    </tr>\n",
       "  </thead>\n",
       "  <tbody>\n",
       "    <tr>\n",
       "      <th>MAE</th>\n",
       "      <td>0.151190</td>\n",
       "      <td>0.166088</td>\n",
       "    </tr>\n",
       "    <tr>\n",
       "      <th>RMSE</th>\n",
       "      <td>0.216564</td>\n",
       "      <td>0.237783</td>\n",
       "    </tr>\n",
       "    <tr>\n",
       "      <th>R2 SCORE</th>\n",
       "      <td>0.758311</td>\n",
       "      <td>0.706441</td>\n",
       "    </tr>\n",
       "  </tbody>\n",
       "</table>\n",
       "</div>"
      ],
      "text/plain": [
       "          Training set  Testing set\n",
       "MAE           0.151190     0.166088\n",
       "RMSE          0.216564     0.237783\n",
       "R2 SCORE      0.758311     0.706441"
      ]
     },
     "execution_count": 309,
     "metadata": {},
     "output_type": "execute_result"
    }
   ],
   "source": [
    "#Performance metrics\n",
    "xgb_model_metrics=eval_metrics_exp(y_train,y_test,pred_train_xgb, pred_test_xgb)\n",
    "xgb_model_metrics"
   ]
  },
  {
   "cell_type": "markdown",
   "metadata": {},
   "source": [
    "SVM and Random forest have performed  well. But Random forest performed better compared to other models.So we choose RandomForest regressor as our final model for this Bangalore Zomato Restaurant dataset."
   ]
  },
  {
   "cell_type": "code",
   "execution_count": null,
   "metadata": {},
   "outputs": [],
   "source": []
  }
 ],
 "metadata": {
  "kernelspec": {
   "display_name": "Python 3",
   "language": "python",
   "name": "python3"
  },
  "language_info": {
   "codemirror_mode": {
    "name": "ipython",
    "version": 3
   },
   "file_extension": ".py",
   "mimetype": "text/x-python",
   "name": "python",
   "nbconvert_exporter": "python",
   "pygments_lexer": "ipython3",
   "version": "3.8.8"
  },
  "varInspector": {
   "cols": {
    "lenName": 16,
    "lenType": 16,
    "lenVar": 40
   },
   "kernels_config": {
    "python": {
     "delete_cmd_postfix": "",
     "delete_cmd_prefix": "del ",
     "library": "var_list.py",
     "varRefreshCmd": "print(var_dic_list())"
    },
    "r": {
     "delete_cmd_postfix": ") ",
     "delete_cmd_prefix": "rm(",
     "library": "var_list.r",
     "varRefreshCmd": "cat(var_dic_list()) "
    }
   },
   "types_to_exclude": [
    "module",
    "function",
    "builtin_function_or_method",
    "instance",
    "_Feature"
   ],
   "window_display": false
  }
 },
 "nbformat": 4,
 "nbformat_minor": 4
}
