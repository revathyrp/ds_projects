{
 "cells": [
  {
   "cell_type": "code",
   "execution_count": 1,
   "metadata": {},
   "outputs": [],
   "source": [
    "import pandas as pd\n",
    "import numpy as np\n",
    "import matplotlib.pyplot as plt\n",
    "import seaborn as sns \n",
    "from sklearn.cluster import KMeans\n",
    "from sklearn.neighbors import NearestNeighbors"
   ]
  },
  {
   "cell_type": "code",
   "execution_count": 2,
   "metadata": {},
   "outputs": [],
   "source": [
    "# import easygui\n",
    "# easygui.fileopenbox()"
   ]
  },
  {
   "cell_type": "code",
   "execution_count": 3,
   "metadata": {},
   "outputs": [],
   "source": [
    "df = pd.read_csv(\"D:\\\\PROJECT\\\\spotify.xls\",index_col=[0])"
   ]
  },
  {
   "cell_type": "code",
   "execution_count": 4,
   "metadata": {},
   "outputs": [
    {
     "data": {
      "text/html": [
       "<div>\n",
       "<style scoped>\n",
       "    .dataframe tbody tr th:only-of-type {\n",
       "        vertical-align: middle;\n",
       "    }\n",
       "\n",
       "    .dataframe tbody tr th {\n",
       "        vertical-align: top;\n",
       "    }\n",
       "\n",
       "    .dataframe thead th {\n",
       "        text-align: right;\n",
       "    }\n",
       "</style>\n",
       "<table border=\"1\" class=\"dataframe\">\n",
       "  <thead>\n",
       "    <tr style=\"text-align: right;\">\n",
       "      <th></th>\n",
       "      <th>song_1</th>\n",
       "      <th>song_2</th>\n",
       "      <th>song_3</th>\n",
       "      <th>song_4</th>\n",
       "      <th>song_5</th>\n",
       "      <th>song_6</th>\n",
       "      <th>song_7</th>\n",
       "      <th>song_8</th>\n",
       "      <th>song_9</th>\n",
       "      <th>song_10</th>\n",
       "      <th>...</th>\n",
       "      <th>song_4991</th>\n",
       "      <th>song_4992</th>\n",
       "      <th>song_4993</th>\n",
       "      <th>song_4994</th>\n",
       "      <th>song_4995</th>\n",
       "      <th>song_4996</th>\n",
       "      <th>song_4997</th>\n",
       "      <th>song_4998</th>\n",
       "      <th>song_4999</th>\n",
       "      <th>song_5000</th>\n",
       "    </tr>\n",
       "  </thead>\n",
       "  <tbody>\n",
       "    <tr>\n",
       "      <th>user_1</th>\n",
       "      <td>2</td>\n",
       "      <td>2</td>\n",
       "      <td>8</td>\n",
       "      <td>8</td>\n",
       "      <td>13</td>\n",
       "      <td>1</td>\n",
       "      <td>4</td>\n",
       "      <td>9</td>\n",
       "      <td>1</td>\n",
       "      <td>2</td>\n",
       "      <td>...</td>\n",
       "      <td>14</td>\n",
       "      <td>2</td>\n",
       "      <td>14</td>\n",
       "      <td>1</td>\n",
       "      <td>9</td>\n",
       "      <td>0</td>\n",
       "      <td>11</td>\n",
       "      <td>6</td>\n",
       "      <td>14</td>\n",
       "      <td>7</td>\n",
       "    </tr>\n",
       "    <tr>\n",
       "      <th>user_2</th>\n",
       "      <td>13</td>\n",
       "      <td>5</td>\n",
       "      <td>5</td>\n",
       "      <td>5</td>\n",
       "      <td>12</td>\n",
       "      <td>8</td>\n",
       "      <td>10</td>\n",
       "      <td>10</td>\n",
       "      <td>2</td>\n",
       "      <td>2</td>\n",
       "      <td>...</td>\n",
       "      <td>10</td>\n",
       "      <td>6</td>\n",
       "      <td>11</td>\n",
       "      <td>1</td>\n",
       "      <td>1</td>\n",
       "      <td>5</td>\n",
       "      <td>12</td>\n",
       "      <td>8</td>\n",
       "      <td>3</td>\n",
       "      <td>0</td>\n",
       "    </tr>\n",
       "    <tr>\n",
       "      <th>user_3</th>\n",
       "      <td>3</td>\n",
       "      <td>9</td>\n",
       "      <td>2</td>\n",
       "      <td>8</td>\n",
       "      <td>0</td>\n",
       "      <td>1</td>\n",
       "      <td>11</td>\n",
       "      <td>7</td>\n",
       "      <td>3</td>\n",
       "      <td>7</td>\n",
       "      <td>...</td>\n",
       "      <td>9</td>\n",
       "      <td>5</td>\n",
       "      <td>7</td>\n",
       "      <td>15</td>\n",
       "      <td>12</td>\n",
       "      <td>13</td>\n",
       "      <td>14</td>\n",
       "      <td>5</td>\n",
       "      <td>0</td>\n",
       "      <td>14</td>\n",
       "    </tr>\n",
       "    <tr>\n",
       "      <th>user_4</th>\n",
       "      <td>2</td>\n",
       "      <td>6</td>\n",
       "      <td>7</td>\n",
       "      <td>8</td>\n",
       "      <td>14</td>\n",
       "      <td>0</td>\n",
       "      <td>12</td>\n",
       "      <td>7</td>\n",
       "      <td>8</td>\n",
       "      <td>1</td>\n",
       "      <td>...</td>\n",
       "      <td>9</td>\n",
       "      <td>15</td>\n",
       "      <td>9</td>\n",
       "      <td>14</td>\n",
       "      <td>10</td>\n",
       "      <td>6</td>\n",
       "      <td>11</td>\n",
       "      <td>13</td>\n",
       "      <td>6</td>\n",
       "      <td>0</td>\n",
       "    </tr>\n",
       "    <tr>\n",
       "      <th>user_5</th>\n",
       "      <td>11</td>\n",
       "      <td>12</td>\n",
       "      <td>8</td>\n",
       "      <td>6</td>\n",
       "      <td>13</td>\n",
       "      <td>7</td>\n",
       "      <td>0</td>\n",
       "      <td>7</td>\n",
       "      <td>3</td>\n",
       "      <td>13</td>\n",
       "      <td>...</td>\n",
       "      <td>12</td>\n",
       "      <td>14</td>\n",
       "      <td>11</td>\n",
       "      <td>11</td>\n",
       "      <td>11</td>\n",
       "      <td>7</td>\n",
       "      <td>3</td>\n",
       "      <td>6</td>\n",
       "      <td>11</td>\n",
       "      <td>7</td>\n",
       "    </tr>\n",
       "    <tr>\n",
       "      <th>user_6</th>\n",
       "      <td>4</td>\n",
       "      <td>13</td>\n",
       "      <td>10</td>\n",
       "      <td>6</td>\n",
       "      <td>4</td>\n",
       "      <td>4</td>\n",
       "      <td>8</td>\n",
       "      <td>12</td>\n",
       "      <td>4</td>\n",
       "      <td>14</td>\n",
       "      <td>...</td>\n",
       "      <td>12</td>\n",
       "      <td>4</td>\n",
       "      <td>0</td>\n",
       "      <td>2</td>\n",
       "      <td>10</td>\n",
       "      <td>2</td>\n",
       "      <td>13</td>\n",
       "      <td>11</td>\n",
       "      <td>5</td>\n",
       "      <td>11</td>\n",
       "    </tr>\n",
       "    <tr>\n",
       "      <th>user_7</th>\n",
       "      <td>11</td>\n",
       "      <td>8</td>\n",
       "      <td>10</td>\n",
       "      <td>13</td>\n",
       "      <td>14</td>\n",
       "      <td>2</td>\n",
       "      <td>11</td>\n",
       "      <td>3</td>\n",
       "      <td>10</td>\n",
       "      <td>1</td>\n",
       "      <td>...</td>\n",
       "      <td>13</td>\n",
       "      <td>11</td>\n",
       "      <td>8</td>\n",
       "      <td>11</td>\n",
       "      <td>13</td>\n",
       "      <td>4</td>\n",
       "      <td>2</td>\n",
       "      <td>2</td>\n",
       "      <td>5</td>\n",
       "      <td>3</td>\n",
       "    </tr>\n",
       "    <tr>\n",
       "      <th>user_8</th>\n",
       "      <td>5</td>\n",
       "      <td>14</td>\n",
       "      <td>3</td>\n",
       "      <td>0</td>\n",
       "      <td>1</td>\n",
       "      <td>9</td>\n",
       "      <td>0</td>\n",
       "      <td>14</td>\n",
       "      <td>7</td>\n",
       "      <td>6</td>\n",
       "      <td>...</td>\n",
       "      <td>3</td>\n",
       "      <td>8</td>\n",
       "      <td>0</td>\n",
       "      <td>6</td>\n",
       "      <td>15</td>\n",
       "      <td>3</td>\n",
       "      <td>4</td>\n",
       "      <td>10</td>\n",
       "      <td>2</td>\n",
       "      <td>0</td>\n",
       "    </tr>\n",
       "    <tr>\n",
       "      <th>user_9</th>\n",
       "      <td>3</td>\n",
       "      <td>11</td>\n",
       "      <td>9</td>\n",
       "      <td>12</td>\n",
       "      <td>14</td>\n",
       "      <td>11</td>\n",
       "      <td>2</td>\n",
       "      <td>6</td>\n",
       "      <td>8</td>\n",
       "      <td>5</td>\n",
       "      <td>...</td>\n",
       "      <td>0</td>\n",
       "      <td>7</td>\n",
       "      <td>11</td>\n",
       "      <td>4</td>\n",
       "      <td>6</td>\n",
       "      <td>4</td>\n",
       "      <td>2</td>\n",
       "      <td>13</td>\n",
       "      <td>12</td>\n",
       "      <td>9</td>\n",
       "    </tr>\n",
       "    <tr>\n",
       "      <th>user_10</th>\n",
       "      <td>12</td>\n",
       "      <td>3</td>\n",
       "      <td>10</td>\n",
       "      <td>4</td>\n",
       "      <td>0</td>\n",
       "      <td>1</td>\n",
       "      <td>12</td>\n",
       "      <td>10</td>\n",
       "      <td>7</td>\n",
       "      <td>5</td>\n",
       "      <td>...</td>\n",
       "      <td>14</td>\n",
       "      <td>10</td>\n",
       "      <td>1</td>\n",
       "      <td>15</td>\n",
       "      <td>1</td>\n",
       "      <td>7</td>\n",
       "      <td>5</td>\n",
       "      <td>10</td>\n",
       "      <td>13</td>\n",
       "      <td>14</td>\n",
       "    </tr>\n",
       "  </tbody>\n",
       "</table>\n",
       "<p>10 rows × 5000 columns</p>\n",
       "</div>"
      ],
      "text/plain": [
       "         song_1  song_2  song_3  song_4  song_5  song_6  song_7  song_8  \\\n",
       "user_1        2       2       8       8      13       1       4       9   \n",
       "user_2       13       5       5       5      12       8      10      10   \n",
       "user_3        3       9       2       8       0       1      11       7   \n",
       "user_4        2       6       7       8      14       0      12       7   \n",
       "user_5       11      12       8       6      13       7       0       7   \n",
       "user_6        4      13      10       6       4       4       8      12   \n",
       "user_7       11       8      10      13      14       2      11       3   \n",
       "user_8        5      14       3       0       1       9       0      14   \n",
       "user_9        3      11       9      12      14      11       2       6   \n",
       "user_10      12       3      10       4       0       1      12      10   \n",
       "\n",
       "         song_9  song_10  ...  song_4991  song_4992  song_4993  song_4994  \\\n",
       "user_1        1        2  ...         14          2         14          1   \n",
       "user_2        2        2  ...         10          6         11          1   \n",
       "user_3        3        7  ...          9          5          7         15   \n",
       "user_4        8        1  ...          9         15          9         14   \n",
       "user_5        3       13  ...         12         14         11         11   \n",
       "user_6        4       14  ...         12          4          0          2   \n",
       "user_7       10        1  ...         13         11          8         11   \n",
       "user_8        7        6  ...          3          8          0          6   \n",
       "user_9        8        5  ...          0          7         11          4   \n",
       "user_10       7        5  ...         14         10          1         15   \n",
       "\n",
       "         song_4995  song_4996  song_4997  song_4998  song_4999  song_5000  \n",
       "user_1           9          0         11          6         14          7  \n",
       "user_2           1          5         12          8          3          0  \n",
       "user_3          12         13         14          5          0         14  \n",
       "user_4          10          6         11         13          6          0  \n",
       "user_5          11          7          3          6         11          7  \n",
       "user_6          10          2         13         11          5         11  \n",
       "user_7          13          4          2          2          5          3  \n",
       "user_8          15          3          4         10          2          0  \n",
       "user_9           6          4          2         13         12          9  \n",
       "user_10          1          7          5         10         13         14  \n",
       "\n",
       "[10 rows x 5000 columns]"
      ]
     },
     "execution_count": 4,
     "metadata": {},
     "output_type": "execute_result"
    }
   ],
   "source": [
    "df.head(10)"
   ]
  },
  {
   "cell_type": "code",
   "execution_count": 5,
   "metadata": {},
   "outputs": [
    {
     "data": {
      "text/plain": [
       "Index(['song_1', 'song_2', 'song_3', 'song_4', 'song_5', 'song_6', 'song_7',\n",
       "       'song_8', 'song_9', 'song_10',\n",
       "       ...\n",
       "       'song_4991', 'song_4992', 'song_4993', 'song_4994', 'song_4995',\n",
       "       'song_4996', 'song_4997', 'song_4998', 'song_4999', 'song_5000'],\n",
       "      dtype='object', length=5000)"
      ]
     },
     "execution_count": 5,
     "metadata": {},
     "output_type": "execute_result"
    }
   ],
   "source": [
    "df.columns"
   ]
  },
  {
   "cell_type": "code",
   "execution_count": 6,
   "metadata": {},
   "outputs": [],
   "source": [
    "pd.set_option('display.max_rows',100)"
   ]
  },
  {
   "cell_type": "markdown",
   "metadata": {},
   "source": [
    "# Checking for missing values"
   ]
  },
  {
   "cell_type": "code",
   "execution_count": 7,
   "metadata": {},
   "outputs": [
    {
     "data": {
      "text/plain": [
       "song_1       0\n",
       "song_2       0\n",
       "song_3       0\n",
       "song_4       0\n",
       "song_5       0\n",
       "            ..\n",
       "song_4996    0\n",
       "song_4997    0\n",
       "song_4998    0\n",
       "song_4999    0\n",
       "song_5000    0\n",
       "Length: 5000, dtype: int64"
      ]
     },
     "execution_count": 7,
     "metadata": {},
     "output_type": "execute_result"
    }
   ],
   "source": [
    "df.isna().sum()"
   ]
  },
  {
   "cell_type": "code",
   "execution_count": 8,
   "metadata": {},
   "outputs": [
    {
     "data": {
      "text/plain": [
       "0"
      ]
     },
     "execution_count": 8,
     "metadata": {},
     "output_type": "execute_result"
    }
   ],
   "source": [
    "missing_values=df.isna().sum()\n",
    "missing_values.isna().sum()"
   ]
  },
  {
   "cell_type": "markdown",
   "metadata": {},
   "source": [
    "# Checking for outliers"
   ]
  },
  {
   "cell_type": "code",
   "execution_count": 9,
   "metadata": {},
   "outputs": [],
   "source": [
    "def outlier(x):\n",
    "    out = []\n",
    "    q1 = x.quantile(0.25)\n",
    "    q3 = x.quantile(0.75)\n",
    "    iqr = q3-q1\n",
    "    outfence = q3+(1.5*iqr)\n",
    "    infence = q1-(1.5*iqr)\n",
    "    for i,j in enumerate(x):\n",
    "        if (j>outfence) | (j<infence):\n",
    "            out.append(i)\n",
    "    return out"
   ]
  },
  {
   "cell_type": "code",
   "execution_count": 10,
   "metadata": {},
   "outputs": [
    {
     "data": {
      "text/plain": [
       "[]"
      ]
     },
     "execution_count": 10,
     "metadata": {},
     "output_type": "execute_result"
    }
   ],
   "source": [
    "outlier(df.song_1)"
   ]
  },
  {
   "cell_type": "code",
   "execution_count": 11,
   "metadata": {},
   "outputs": [
    {
     "data": {
      "text/plain": [
       "[]"
      ]
     },
     "execution_count": 11,
     "metadata": {},
     "output_type": "execute_result"
    }
   ],
   "source": [
    "outlier(df.song_2500)"
   ]
  },
  {
   "cell_type": "code",
   "execution_count": 12,
   "metadata": {},
   "outputs": [
    {
     "data": {
      "text/plain": [
       "[]"
      ]
     },
     "execution_count": 12,
     "metadata": {},
     "output_type": "execute_result"
    }
   ],
   "source": [
    "outlier(df.song_3000)"
   ]
  },
  {
   "cell_type": "code",
   "execution_count": 13,
   "metadata": {},
   "outputs": [
    {
     "data": {
      "text/plain": [
       "[]"
      ]
     },
     "execution_count": 13,
     "metadata": {},
     "output_type": "execute_result"
    }
   ],
   "source": [
    "outlier(df.song_5000)"
   ]
  },
  {
   "cell_type": "code",
   "execution_count": 14,
   "metadata": {},
   "outputs": [],
   "source": [
    "def outliers_iqr(x):\n",
    "    quartile_1, quartile_3 = np.percentile(df, [25, 75])\n",
    "    iqr = quartile_3 - quartile_1\n",
    "    lower_bound = quartile_1 - (iqr * 1.5)\n",
    "    upper_bound = quartile_3 + (iqr * 1.5)\n",
    "    return np.where((df > upper_bound) | (df < lower_bound))"
   ]
  },
  {
   "cell_type": "code",
   "execution_count": 15,
   "metadata": {},
   "outputs": [
    {
     "data": {
      "text/plain": [
       "(array([], dtype=int64), array([], dtype=int64))"
      ]
     },
     "execution_count": 15,
     "metadata": {},
     "output_type": "execute_result"
    }
   ],
   "source": [
    "outliers_iqr(df)"
   ]
  },
  {
   "cell_type": "code",
   "execution_count": 16,
   "metadata": {},
   "outputs": [
    {
     "data": {
      "text/plain": [
       "<AxesSubplot:xlabel='song_766'>"
      ]
     },
     "execution_count": 16,
     "metadata": {},
     "output_type": "execute_result"
    },
    {
     "data": {
      "image/png": "[encoded data removed]",
      "text/plain": [
       "<Figure size 432x288 with 1 Axes>"
      ]
     },
     "metadata": {
      "needs_background": "light"
     },
     "output_type": "display_data"
    }
   ],
   "source": [
    "sns.boxplot(x=df['song_766'])"
   ]
  },
  {
   "cell_type": "code",
   "execution_count": 17,
   "metadata": {},
   "outputs": [
    {
     "data": {
      "text/plain": [
       "<AxesSubplot:xlabel='song_1058'>"
      ]
     },
     "execution_count": 17,
     "metadata": {},
     "output_type": "execute_result"
    },
    {
     "data": {
      "image/png": "[encoded data removed]",
      "text/plain": [
       "<Figure size 432x288 with 1 Axes>"
      ]
     },
     "metadata": {
      "needs_background": "light"
     },
     "output_type": "display_data"
    }
   ],
   "source": [
    "sns.boxplot(x=df['song_1058'])"
   ]
  },
  {
   "cell_type": "code",
   "execution_count": 18,
   "metadata": {},
   "outputs": [
    {
     "data": {
      "text/plain": [
       "<AxesSubplot:xlabel='song_4101'>"
      ]
     },
     "execution_count": 18,
     "metadata": {},
     "output_type": "execute_result"
    },
    {
     "data": {
      "image/png": "[encoded data removed]",
      "text/plain": [
       "<Figure size 432x288 with 1 Axes>"
      ]
     },
     "metadata": {
      "needs_background": "light"
     },
     "output_type": "display_data"
    }
   ],
   "source": [
    "sns.boxplot(x=df['song_4101'])"
   ]
  },
  {
   "cell_type": "code",
   "execution_count": 19,
   "metadata": {},
   "outputs": [
    {
     "data": {
      "text/plain": [
       "<AxesSubplot:xlabel='song_4801'>"
      ]
     },
     "execution_count": 19,
     "metadata": {},
     "output_type": "execute_result"
    },
    {
     "data": {
      "image/png": "[encoded data removed]",
      "text/plain": [
       "<Figure size 432x288 with 1 Axes>"
      ]
     },
     "metadata": {
      "needs_background": "light"
     },
     "output_type": "display_data"
    }
   ],
   "source": [
    "sns.boxplot(x=df['song_4801'])"
   ]
  },
  {
   "cell_type": "code",
   "execution_count": 20,
   "metadata": {},
   "outputs": [
    {
     "data": {
      "text/plain": [
       "<AxesSubplot:xlabel='song_4999'>"
      ]
     },
     "execution_count": 20,
     "metadata": {},
     "output_type": "execute_result"
    },
    {
     "data": {
      "image/png": "[encoded data removed]",
      "text/plain": [
       "<Figure size 432x288 with 1 Axes>"
      ]
     },
     "metadata": {
      "needs_background": "light"
     },
     "output_type": "display_data"
    }
   ],
   "source": [
    "sns.boxplot(x=df['song_4999'])"
   ]
  },
  {
   "cell_type": "code",
   "execution_count": 21,
   "metadata": {},
   "outputs": [
    {
     "data": {
      "text/plain": [
       "(1000, 5000)"
      ]
     },
     "execution_count": 21,
     "metadata": {},
     "output_type": "execute_result"
    }
   ],
   "source": [
    "# dimension of the dataset\n",
    "df.shape"
   ]
  },
  {
   "cell_type": "code",
   "execution_count": 22,
   "metadata": {},
   "outputs": [],
   "source": [
    "sum_songs=df.sum(axis=0,skipna=True)"
   ]
  },
  {
   "cell_type": "code",
   "execution_count": 23,
   "metadata": {},
   "outputs": [
    {
     "data": {
      "text/html": [
       "<div>\n",
       "<style scoped>\n",
       "    .dataframe tbody tr th:only-of-type {\n",
       "        vertical-align: middle;\n",
       "    }\n",
       "\n",
       "    .dataframe tbody tr th {\n",
       "        vertical-align: top;\n",
       "    }\n",
       "\n",
       "    .dataframe thead th {\n",
       "        text-align: right;\n",
       "    }\n",
       "</style>\n",
       "<table border=\"1\" class=\"dataframe\">\n",
       "  <thead>\n",
       "    <tr style=\"text-align: right;\">\n",
       "      <th></th>\n",
       "      <th>Num_of_times_heard</th>\n",
       "      <th>song_num</th>\n",
       "    </tr>\n",
       "  </thead>\n",
       "  <tbody>\n",
       "    <tr>\n",
       "      <th>song_1</th>\n",
       "      <td>7584</td>\n",
       "      <td>1</td>\n",
       "    </tr>\n",
       "    <tr>\n",
       "      <th>song_2</th>\n",
       "      <td>7635</td>\n",
       "      <td>2</td>\n",
       "    </tr>\n",
       "    <tr>\n",
       "      <th>song_3</th>\n",
       "      <td>7748</td>\n",
       "      <td>3</td>\n",
       "    </tr>\n",
       "    <tr>\n",
       "      <th>song_4</th>\n",
       "      <td>7748</td>\n",
       "      <td>4</td>\n",
       "    </tr>\n",
       "    <tr>\n",
       "      <th>song_5</th>\n",
       "      <td>7693</td>\n",
       "      <td>5</td>\n",
       "    </tr>\n",
       "    <tr>\n",
       "      <th>...</th>\n",
       "      <td>...</td>\n",
       "      <td>...</td>\n",
       "    </tr>\n",
       "    <tr>\n",
       "      <th>song_4996</th>\n",
       "      <td>7749</td>\n",
       "      <td>4996</td>\n",
       "    </tr>\n",
       "    <tr>\n",
       "      <th>song_4997</th>\n",
       "      <td>7808</td>\n",
       "      <td>4997</td>\n",
       "    </tr>\n",
       "    <tr>\n",
       "      <th>song_4998</th>\n",
       "      <td>7406</td>\n",
       "      <td>4998</td>\n",
       "    </tr>\n",
       "    <tr>\n",
       "      <th>song_4999</th>\n",
       "      <td>7471</td>\n",
       "      <td>4999</td>\n",
       "    </tr>\n",
       "    <tr>\n",
       "      <th>song_5000</th>\n",
       "      <td>7673</td>\n",
       "      <td>5000</td>\n",
       "    </tr>\n",
       "  </tbody>\n",
       "</table>\n",
       "<p>5000 rows × 2 columns</p>\n",
       "</div>"
      ],
      "text/plain": [
       "           Num_of_times_heard  song_num\n",
       "song_1                   7584         1\n",
       "song_2                   7635         2\n",
       "song_3                   7748         3\n",
       "song_4                   7748         4\n",
       "song_5                   7693         5\n",
       "...                       ...       ...\n",
       "song_4996                7749      4996\n",
       "song_4997                7808      4997\n",
       "song_4998                7406      4998\n",
       "song_4999                7471      4999\n",
       "song_5000                7673      5000\n",
       "\n",
       "[5000 rows x 2 columns]"
      ]
     },
     "execution_count": 23,
     "metadata": {},
     "output_type": "execute_result"
    }
   ],
   "source": [
    "df1=pd.DataFrame(data=sum_songs,columns=['Num_of_times_heard'])\n",
    "df1['song_num']=range(1,5001)\n",
    "df1"
   ]
  },
  {
   "cell_type": "code",
   "execution_count": 24,
   "metadata": {},
   "outputs": [
    {
     "data": {
      "text/html": [
       "<div>\n",
       "<style scoped>\n",
       "    .dataframe tbody tr th:only-of-type {\n",
       "        vertical-align: middle;\n",
       "    }\n",
       "\n",
       "    .dataframe tbody tr th {\n",
       "        vertical-align: top;\n",
       "    }\n",
       "\n",
       "    .dataframe thead th {\n",
       "        text-align: right;\n",
       "    }\n",
       "</style>\n",
       "<table border=\"1\" class=\"dataframe\">\n",
       "  <thead>\n",
       "    <tr style=\"text-align: right;\">\n",
       "      <th></th>\n",
       "      <th>Num_of_times_heard</th>\n",
       "      <th>song_num</th>\n",
       "      <th>bins</th>\n",
       "    </tr>\n",
       "  </thead>\n",
       "  <tbody>\n",
       "    <tr>\n",
       "      <th>song_1</th>\n",
       "      <td>7584</td>\n",
       "      <td>1</td>\n",
       "      <td>Moderately Heard</td>\n",
       "    </tr>\n",
       "    <tr>\n",
       "      <th>song_2</th>\n",
       "      <td>7635</td>\n",
       "      <td>2</td>\n",
       "      <td>Moderately Heard</td>\n",
       "    </tr>\n",
       "    <tr>\n",
       "      <th>song_3</th>\n",
       "      <td>7748</td>\n",
       "      <td>3</td>\n",
       "      <td>Most heard</td>\n",
       "    </tr>\n",
       "    <tr>\n",
       "      <th>song_4</th>\n",
       "      <td>7748</td>\n",
       "      <td>4</td>\n",
       "      <td>Most heard</td>\n",
       "    </tr>\n",
       "    <tr>\n",
       "      <th>song_5</th>\n",
       "      <td>7693</td>\n",
       "      <td>5</td>\n",
       "      <td>Most heard</td>\n",
       "    </tr>\n",
       "    <tr>\n",
       "      <th>...</th>\n",
       "      <td>...</td>\n",
       "      <td>...</td>\n",
       "      <td>...</td>\n",
       "    </tr>\n",
       "    <tr>\n",
       "      <th>song_4996</th>\n",
       "      <td>7749</td>\n",
       "      <td>4996</td>\n",
       "      <td>Most heard</td>\n",
       "    </tr>\n",
       "    <tr>\n",
       "      <th>song_4997</th>\n",
       "      <td>7808</td>\n",
       "      <td>4997</td>\n",
       "      <td>Most heard</td>\n",
       "    </tr>\n",
       "    <tr>\n",
       "      <th>song_4998</th>\n",
       "      <td>7406</td>\n",
       "      <td>4998</td>\n",
       "      <td>Moderately Heard</td>\n",
       "    </tr>\n",
       "    <tr>\n",
       "      <th>song_4999</th>\n",
       "      <td>7471</td>\n",
       "      <td>4999</td>\n",
       "      <td>Moderately Heard</td>\n",
       "    </tr>\n",
       "    <tr>\n",
       "      <th>song_5000</th>\n",
       "      <td>7673</td>\n",
       "      <td>5000</td>\n",
       "      <td>Most heard</td>\n",
       "    </tr>\n",
       "  </tbody>\n",
       "</table>\n",
       "<p>5000 rows × 3 columns</p>\n",
       "</div>"
      ],
      "text/plain": [
       "           Num_of_times_heard  song_num              bins\n",
       "song_1                   7584         1  Moderately Heard\n",
       "song_2                   7635         2  Moderately Heard\n",
       "song_3                   7748         3        Most heard\n",
       "song_4                   7748         4        Most heard\n",
       "song_5                   7693         5        Most heard\n",
       "...                       ...       ...               ...\n",
       "song_4996                7749      4996        Most heard\n",
       "song_4997                7808      4997        Most heard\n",
       "song_4998                7406      4998  Moderately Heard\n",
       "song_4999                7471      4999  Moderately Heard\n",
       "song_5000                7673      5000        Most heard\n",
       "\n",
       "[5000 rows x 3 columns]"
      ]
     },
     "execution_count": 24,
     "metadata": {},
     "output_type": "execute_result"
    }
   ],
   "source": [
    "df1['bins']=pd.cut(x=df1['Num_of_times_heard'],bins=3,labels=['Least Heard','Moderately Heard','Most heard'])\n",
    "df1"
   ]
  },
  {
   "cell_type": "code",
   "execution_count": 25,
   "metadata": {},
   "outputs": [
    {
     "data": {
      "image/png": "[encoded data removed]",
      "text/plain": [
       "<Figure size 288x288 with 1 Axes>"
      ]
     },
     "metadata": {
      "needs_background": "light"
     },
     "output_type": "display_data"
    },
    {
     "data": {
      "text/plain": [
       "Moderately Heard    3602\n",
       "Most heard           787\n",
       "Least Heard          611\n",
       "Name: bins, dtype: int64"
      ]
     },
     "execution_count": 25,
     "metadata": {},
     "output_type": "execute_result"
    }
   ],
   "source": [
    "import seaborn as sns\n",
    "%matplotlib inline \n",
    "fig,ax=plt.subplots(figsize=(4,4))\n",
    "sns.countplot(x='bins',data=df1,palette='flare')\n",
    "plt.show()\n",
    "df1['bins'].value_counts()"
   ]
  },
  {
   "cell_type": "code",
   "execution_count": 26,
   "metadata": {},
   "outputs": [
    {
     "data": {
      "text/plain": [
       "<AxesSubplot:xlabel='Num_of_times_heard', ylabel='song_num'>"
      ]
     },
     "execution_count": 26,
     "metadata": {},
     "output_type": "execute_result"
    },
    {
     "data": {
      "image/png": "[encoded data removed]",
      "text/plain": [
       "<Figure size 432x288 with 1 Axes>"
      ]
     },
     "metadata": {
      "needs_background": "light"
     },
     "output_type": "display_data"
    }
   ],
   "source": [
    "sns.scatterplot(x='Num_of_times_heard',y='song_num',data=df1,hue='bins',palette='Set1')"
   ]
  },
  {
   "cell_type": "code",
   "execution_count": 27,
   "metadata": {},
   "outputs": [
    {
     "data": {
      "text/plain": [
       "Moderately Heard    3602\n",
       "Most heard           787\n",
       "Least Heard          611\n",
       "Name: bins, dtype: int64"
      ]
     },
     "execution_count": 27,
     "metadata": {},
     "output_type": "execute_result"
    }
   ],
   "source": [
    "df1['bins'].value_counts()"
   ]
  },
  {
   "cell_type": "code",
   "execution_count": 28,
   "metadata": {
    "scrolled": true
   },
   "outputs": [
    {
     "name": "stderr",
     "output_type": "stream",
     "text": [
      "C:\\Users\\SONY\\anaconda3\\lib\\site-packages\\seaborn\\distributions.py:2557: FutureWarning: `distplot` is a deprecated function and will be removed in a future version. Please adapt your code to use either `displot` (a figure-level function with similar flexibility) or `histplot` (an axes-level function for histograms).\n",
      "  warnings.warn(msg, FutureWarning)\n"
     ]
    },
    {
     "data": {
      "image/png": "[encoded data removed]",
      "text/plain": [
       "<Figure size 432x288 with 1 Axes>"
      ]
     },
     "metadata": {
      "needs_background": "light"
     },
     "output_type": "display_data"
    }
   ],
   "source": [
    "%matplotlib inline\n",
    "ax = sns.distplot(df1['Num_of_times_heard'])"
   ]
  },
  {
   "cell_type": "code",
   "execution_count": 29,
   "metadata": {},
   "outputs": [],
   "source": [
    "sum_songs=df.sum(axis=0,skipna=True)"
   ]
  },
  {
   "cell_type": "code",
   "execution_count": 30,
   "metadata": {},
   "outputs": [
    {
     "data": {
      "text/plain": [
       "song_1       7584\n",
       "song_2       7635\n",
       "song_3       7748\n",
       "song_4       7748\n",
       "song_5       7693\n",
       "             ... \n",
       "song_4996    7749\n",
       "song_4997    7808\n",
       "song_4998    7406\n",
       "song_4999    7471\n",
       "song_5000    7673\n",
       "Length: 5000, dtype: int64"
      ]
     },
     "execution_count": 30,
     "metadata": {},
     "output_type": "execute_result"
    }
   ],
   "source": [
    "sum_songs"
   ]
  },
  {
   "cell_type": "code",
   "execution_count": 31,
   "metadata": {},
   "outputs": [
    {
     "data": {
      "text/plain": [
       "7006"
      ]
     },
     "execution_count": 31,
     "metadata": {},
     "output_type": "execute_result"
    }
   ],
   "source": [
    "min(sum_songs)"
   ]
  },
  {
   "cell_type": "code",
   "execution_count": 32,
   "metadata": {},
   "outputs": [
    {
     "data": {
      "text/plain": [
       "(array([2713], dtype=int64),)"
      ]
     },
     "execution_count": 32,
     "metadata": {},
     "output_type": "execute_result"
    }
   ],
   "source": [
    "np.where(sum_songs==7006)"
   ]
  },
  {
   "cell_type": "code",
   "execution_count": 33,
   "metadata": {},
   "outputs": [
    {
     "data": {
      "text/plain": [
       "7972"
      ]
     },
     "execution_count": 33,
     "metadata": {},
     "output_type": "execute_result"
    }
   ],
   "source": [
    "max(sum_songs)"
   ]
  },
  {
   "cell_type": "code",
   "execution_count": 34,
   "metadata": {},
   "outputs": [
    {
     "data": {
      "text/plain": [
       "(array([3687], dtype=int64),)"
      ]
     },
     "execution_count": 34,
     "metadata": {},
     "output_type": "execute_result"
    }
   ],
   "source": [
    "np.where(sum_songs==7972)"
   ]
  },
  {
   "cell_type": "code",
   "execution_count": 35,
   "metadata": {},
   "outputs": [],
   "source": [
    "# song_3688    (7972) is the most listened song by the users."
   ]
  },
  {
   "cell_type": "code",
   "execution_count": 36,
   "metadata": {},
   "outputs": [],
   "source": [
    "user_sum=df.sum(axis=1,skipna=True)"
   ]
  },
  {
   "cell_type": "code",
   "execution_count": 37,
   "metadata": {},
   "outputs": [
    {
     "data": {
      "text/html": [
       "<div>\n",
       "<style scoped>\n",
       "    .dataframe tbody tr th:only-of-type {\n",
       "        vertical-align: middle;\n",
       "    }\n",
       "\n",
       "    .dataframe tbody tr th {\n",
       "        vertical-align: top;\n",
       "    }\n",
       "\n",
       "    .dataframe thead th {\n",
       "        text-align: right;\n",
       "    }\n",
       "</style>\n",
       "<table border=\"1\" class=\"dataframe\">\n",
       "  <thead>\n",
       "    <tr style=\"text-align: right;\">\n",
       "      <th></th>\n",
       "      <th>Frequency_of_users</th>\n",
       "      <th>user_num</th>\n",
       "    </tr>\n",
       "  </thead>\n",
       "  <tbody>\n",
       "    <tr>\n",
       "      <th>user_1</th>\n",
       "      <td>37330</td>\n",
       "      <td>1</td>\n",
       "    </tr>\n",
       "    <tr>\n",
       "      <th>user_2</th>\n",
       "      <td>37203</td>\n",
       "      <td>2</td>\n",
       "    </tr>\n",
       "    <tr>\n",
       "      <th>user_3</th>\n",
       "      <td>37304</td>\n",
       "      <td>3</td>\n",
       "    </tr>\n",
       "    <tr>\n",
       "      <th>user_4</th>\n",
       "      <td>37756</td>\n",
       "      <td>4</td>\n",
       "    </tr>\n",
       "    <tr>\n",
       "      <th>user_5</th>\n",
       "      <td>37172</td>\n",
       "      <td>5</td>\n",
       "    </tr>\n",
       "    <tr>\n",
       "      <th>...</th>\n",
       "      <td>...</td>\n",
       "      <td>...</td>\n",
       "    </tr>\n",
       "    <tr>\n",
       "      <th>user_996</th>\n",
       "      <td>37647</td>\n",
       "      <td>996</td>\n",
       "    </tr>\n",
       "    <tr>\n",
       "      <th>user_997</th>\n",
       "      <td>37336</td>\n",
       "      <td>997</td>\n",
       "    </tr>\n",
       "    <tr>\n",
       "      <th>user_998</th>\n",
       "      <td>37085</td>\n",
       "      <td>998</td>\n",
       "    </tr>\n",
       "    <tr>\n",
       "      <th>user_999</th>\n",
       "      <td>38041</td>\n",
       "      <td>999</td>\n",
       "    </tr>\n",
       "    <tr>\n",
       "      <th>user_1000</th>\n",
       "      <td>37472</td>\n",
       "      <td>1000</td>\n",
       "    </tr>\n",
       "  </tbody>\n",
       "</table>\n",
       "<p>1000 rows × 2 columns</p>\n",
       "</div>"
      ],
      "text/plain": [
       "           Frequency_of_users  user_num\n",
       "user_1                  37330         1\n",
       "user_2                  37203         2\n",
       "user_3                  37304         3\n",
       "user_4                  37756         4\n",
       "user_5                  37172         5\n",
       "...                       ...       ...\n",
       "user_996                37647       996\n",
       "user_997                37336       997\n",
       "user_998                37085       998\n",
       "user_999                38041       999\n",
       "user_1000               37472      1000\n",
       "\n",
       "[1000 rows x 2 columns]"
      ]
     },
     "execution_count": 37,
     "metadata": {},
     "output_type": "execute_result"
    }
   ],
   "source": [
    "df2=pd.DataFrame(data=user_sum,columns=['Frequency_of_users'])\n",
    "df2['user_num']=range(1,1001)\n",
    "df2"
   ]
  },
  {
   "cell_type": "code",
   "execution_count": 38,
   "metadata": {},
   "outputs": [
    {
     "data": {
      "text/html": [
       "<div>\n",
       "<style scoped>\n",
       "    .dataframe tbody tr th:only-of-type {\n",
       "        vertical-align: middle;\n",
       "    }\n",
       "\n",
       "    .dataframe tbody tr th {\n",
       "        vertical-align: top;\n",
       "    }\n",
       "\n",
       "    .dataframe thead th {\n",
       "        text-align: right;\n",
       "    }\n",
       "</style>\n",
       "<table border=\"1\" class=\"dataframe\">\n",
       "  <thead>\n",
       "    <tr style=\"text-align: right;\">\n",
       "      <th></th>\n",
       "      <th>Frequency_of_users</th>\n",
       "      <th>user_num</th>\n",
       "      <th>bins</th>\n",
       "    </tr>\n",
       "  </thead>\n",
       "  <tbody>\n",
       "    <tr>\n",
       "      <th>user_1</th>\n",
       "      <td>37330</td>\n",
       "      <td>1</td>\n",
       "      <td>Moderate User</td>\n",
       "    </tr>\n",
       "    <tr>\n",
       "      <th>user_2</th>\n",
       "      <td>37203</td>\n",
       "      <td>2</td>\n",
       "      <td>Moderate User</td>\n",
       "    </tr>\n",
       "    <tr>\n",
       "      <th>user_3</th>\n",
       "      <td>37304</td>\n",
       "      <td>3</td>\n",
       "      <td>Moderate User</td>\n",
       "    </tr>\n",
       "    <tr>\n",
       "      <th>user_4</th>\n",
       "      <td>37756</td>\n",
       "      <td>4</td>\n",
       "      <td>Moderate User</td>\n",
       "    </tr>\n",
       "    <tr>\n",
       "      <th>user_5</th>\n",
       "      <td>37172</td>\n",
       "      <td>5</td>\n",
       "      <td>Moderate User</td>\n",
       "    </tr>\n",
       "    <tr>\n",
       "      <th>...</th>\n",
       "      <td>...</td>\n",
       "      <td>...</td>\n",
       "      <td>...</td>\n",
       "    </tr>\n",
       "    <tr>\n",
       "      <th>user_996</th>\n",
       "      <td>37647</td>\n",
       "      <td>996</td>\n",
       "      <td>Moderate User</td>\n",
       "    </tr>\n",
       "    <tr>\n",
       "      <th>user_997</th>\n",
       "      <td>37336</td>\n",
       "      <td>997</td>\n",
       "      <td>Moderate User</td>\n",
       "    </tr>\n",
       "    <tr>\n",
       "      <th>user_998</th>\n",
       "      <td>37085</td>\n",
       "      <td>998</td>\n",
       "      <td>Least Active user</td>\n",
       "    </tr>\n",
       "    <tr>\n",
       "      <th>user_999</th>\n",
       "      <td>38041</td>\n",
       "      <td>999</td>\n",
       "      <td>Active user</td>\n",
       "    </tr>\n",
       "    <tr>\n",
       "      <th>user_1000</th>\n",
       "      <td>37472</td>\n",
       "      <td>1000</td>\n",
       "      <td>Moderate User</td>\n",
       "    </tr>\n",
       "  </tbody>\n",
       "</table>\n",
       "<p>1000 rows × 3 columns</p>\n",
       "</div>"
      ],
      "text/plain": [
       "           Frequency_of_users  user_num               bins\n",
       "user_1                  37330         1      Moderate User\n",
       "user_2                  37203         2      Moderate User\n",
       "user_3                  37304         3      Moderate User\n",
       "user_4                  37756         4      Moderate User\n",
       "user_5                  37172         5      Moderate User\n",
       "...                       ...       ...                ...\n",
       "user_996                37647       996      Moderate User\n",
       "user_997                37336       997      Moderate User\n",
       "user_998                37085       998  Least Active user\n",
       "user_999                38041       999        Active user\n",
       "user_1000               37472      1000      Moderate User\n",
       "\n",
       "[1000 rows x 3 columns]"
      ]
     },
     "execution_count": 38,
     "metadata": {},
     "output_type": "execute_result"
    }
   ],
   "source": [
    "df2['bins']=pd.cut(x=df2['Frequency_of_users'],bins=3,labels=['Least Active user','Moderate User','Active user'])\n",
    "df2"
   ]
  },
  {
   "cell_type": "code",
   "execution_count": 39,
   "metadata": {},
   "outputs": [
    {
     "data": {
      "text/plain": [
       "<AxesSubplot:xlabel='bins', ylabel='count'>"
      ]
     },
     "execution_count": 39,
     "metadata": {},
     "output_type": "execute_result"
    },
    {
     "data": {
      "image/png": "[encoded data removed]",
      "text/plain": [
       "<Figure size 432x288 with 1 Axes>"
      ]
     },
     "metadata": {
      "needs_background": "light"
     },
     "output_type": "display_data"
    }
   ],
   "source": [
    "sns.countplot(x='bins',data=df2,palette='Set1')"
   ]
  },
  {
   "cell_type": "code",
   "execution_count": 40,
   "metadata": {},
   "outputs": [
    {
     "data": {
      "text/plain": [
       "<AxesSubplot:xlabel='Frequency_of_users', ylabel='user_num'>"
      ]
     },
     "execution_count": 40,
     "metadata": {},
     "output_type": "execute_result"
    },
    {
     "data": {
      "image/png": "[encoded data removed]",
      "text/plain": [
       "<Figure size 432x288 with 1 Axes>"
      ]
     },
     "metadata": {
      "needs_background": "light"
     },
     "output_type": "display_data"
    }
   ],
   "source": [
    "%matplotlib inline \n",
    "sns.scatterplot(x='Frequency_of_users',y='user_num',data=df2,hue='bins',palette='colorblind')"
   ]
  },
  {
   "cell_type": "code",
   "execution_count": 41,
   "metadata": {},
   "outputs": [],
   "source": [
    "user_sum=df.sum(axis=1,skipna=True)"
   ]
  },
  {
   "cell_type": "code",
   "execution_count": 42,
   "metadata": {},
   "outputs": [
    {
     "data": {
      "text/plain": [
       "user_1       37330\n",
       "user_2       37203\n",
       "user_3       37304\n",
       "user_4       37756\n",
       "user_5       37172\n",
       "             ...  \n",
       "user_996     37647\n",
       "user_997     37336\n",
       "user_998     37085\n",
       "user_999     38041\n",
       "user_1000    37472\n",
       "Length: 1000, dtype: int64"
      ]
     },
     "execution_count": 42,
     "metadata": {},
     "output_type": "execute_result"
    }
   ],
   "source": [
    "user_sum"
   ]
  },
  {
   "cell_type": "code",
   "execution_count": 43,
   "metadata": {},
   "outputs": [
    {
     "data": {
      "text/plain": [
       "36406"
      ]
     },
     "execution_count": 43,
     "metadata": {},
     "output_type": "execute_result"
    }
   ],
   "source": [
    "min(user_sum)"
   ]
  },
  {
   "cell_type": "code",
   "execution_count": 44,
   "metadata": {},
   "outputs": [
    {
     "data": {
      "text/plain": [
       "(array([655], dtype=int64),)"
      ]
     },
     "execution_count": 44,
     "metadata": {},
     "output_type": "execute_result"
    }
   ],
   "source": [
    "np.where(user_sum==36406)"
   ]
  },
  {
   "cell_type": "code",
   "execution_count": 45,
   "metadata": {},
   "outputs": [
    {
     "data": {
      "text/plain": [
       "38537"
      ]
     },
     "execution_count": 45,
     "metadata": {},
     "output_type": "execute_result"
    }
   ],
   "source": [
    "max(user_sum)"
   ]
  },
  {
   "cell_type": "code",
   "execution_count": 46,
   "metadata": {},
   "outputs": [
    {
     "data": {
      "text/plain": [
       "(array([884], dtype=int64),)"
      ]
     },
     "execution_count": 46,
     "metadata": {},
     "output_type": "execute_result"
    }
   ],
   "source": [
    "np.where(user_sum==38537)"
   ]
  },
  {
   "cell_type": "code",
   "execution_count": 47,
   "metadata": {},
   "outputs": [],
   "source": [
    "# user_656 (36406) is the least active user since he/she has listened to least no. of songs."
   ]
  },
  {
   "cell_type": "code",
   "execution_count": 48,
   "metadata": {},
   "outputs": [],
   "source": [
    "# user_885 (38537) is the most active user since he/she has listened to most number of songs."
   ]
  },
  {
   "cell_type": "code",
   "execution_count": 49,
   "metadata": {},
   "outputs": [],
   "source": [
    "X = df.values #converted data points into a sparse matrix"
   ]
  },
  {
   "cell_type": "code",
   "execution_count": 50,
   "metadata": {},
   "outputs": [
    {
     "data": {
      "text/plain": [
       "array([[ 2,  2,  8, ...,  6, 14,  7],\n",
       "       [13,  5,  5, ...,  8,  3,  0],\n",
       "       [ 3,  9,  2, ...,  5,  0, 14],\n",
       "       ...,\n",
       "       [ 6,  2,  1, ..., 13,  6, 13],\n",
       "       [ 7,  0,  8, ..., 11,  9, 12],\n",
       "       [ 6, 15,  0, ..., 15,  4,  5]], dtype=int64)"
      ]
     },
     "execution_count": 50,
     "metadata": {},
     "output_type": "execute_result"
    }
   ],
   "source": [
    "X "
   ]
  },
  {
   "cell_type": "code",
   "execution_count": 51,
   "metadata": {},
   "outputs": [],
   "source": [
    "from sklearn.decomposition import NMF # Non-negative matrix factorisation"
   ]
  },
  {
   "cell_type": "code",
   "execution_count": 52,
   "metadata": {},
   "outputs": [],
   "source": [
    "nmf = NMF(n_components=100,max_iter=1000,random_state=200)\n",
    "# Matrix 1 = 1000 x 100\n",
    "# Matrix 2 = 100 x 5000"
   ]
  },
  {
   "cell_type": "code",
   "execution_count": 53,
   "metadata": {},
   "outputs": [
    {
     "name": "stderr",
     "output_type": "stream",
     "text": [
      "C:\\Users\\SONY\\anaconda3\\lib\\site-packages\\sklearn\\decomposition\\_nmf.py:312: FutureWarning: The 'init' value, when 'init=None' and n_components is less than n_samples and n_features, will be changed from 'nndsvd' to 'nndsvda' in 1.1 (renaming of 0.26).\n",
      "  warnings.warn((\"The 'init' value, when 'init=None' and \"\n",
      "C:\\Users\\SONY\\anaconda3\\lib\\site-packages\\sklearn\\decomposition\\_nmf.py:1090: ConvergenceWarning: Maximum number of iterations 1000 reached. Increase it to improve convergence.\n",
      "  warnings.warn(\"Maximum number of iterations %d reached. Increase it to\"\n"
     ]
    },
    {
     "data": {
      "text/plain": [
       "NMF(max_iter=1000, n_components=100, random_state=200)"
      ]
     },
     "execution_count": 53,
     "metadata": {},
     "output_type": "execute_result"
    }
   ],
   "source": [
    "nmf.fit(X)"
   ]
  },
  {
   "cell_type": "code",
   "execution_count": 68,
   "metadata": {},
   "outputs": [],
   "source": [
    "user_matrix = nmf.transform(X)"
   ]
  },
  {
   "cell_type": "code",
   "execution_count": 69,
   "metadata": {},
   "outputs": [
    {
     "data": {
      "text/plain": [
       "(1000, 100)"
      ]
     },
     "execution_count": 69,
     "metadata": {},
     "output_type": "execute_result"
    }
   ],
   "source": [
    "user_matrix.shape"
   ]
  },
  {
   "cell_type": "code",
   "execution_count": 70,
   "metadata": {},
   "outputs": [],
   "source": [
    "song_matrix = nmf.components_.T"
   ]
  },
  {
   "cell_type": "code",
   "execution_count": 71,
   "metadata": {},
   "outputs": [
    {
     "data": {
      "text/plain": [
       "(5000, 100)"
      ]
     },
     "execution_count": 71,
     "metadata": {},
     "output_type": "execute_result"
    }
   ],
   "source": [
    "song_matrix.shape"
   ]
  },
  {
   "cell_type": "code",
   "execution_count": 72,
   "metadata": {},
   "outputs": [
    {
     "data": {
      "text/plain": [
       "array([[0.03041152, 0.        , 6.03735754, ..., 0.        , 0.        ,\n",
       "        0.        ],\n",
       "       [0.        , 0.10450949, 0.        , ..., 0.        , 1.51397869,\n",
       "        0.        ],\n",
       "       [0.        , 3.09227919, 0.        , ..., 0.62299824, 0.        ,\n",
       "        0.        ],\n",
       "       ...,\n",
       "       [0.        , 1.26239448, 0.        , ..., 0.        , 0.        ,\n",
       "        0.        ],\n",
       "       [1.11442141, 3.90306648, 0.5963574 , ..., 0.        , 0.51928477,\n",
       "        0.        ],\n",
       "       [0.        , 0.        , 0.        , ..., 1.32054707, 0.        ,\n",
       "        0.        ]])"
      ]
     },
     "execution_count": 72,
     "metadata": {},
     "output_type": "execute_result"
    }
   ],
   "source": [
    "user_matrix"
   ]
  },
  {
   "cell_type": "code",
   "execution_count": 73,
   "metadata": {},
   "outputs": [
    {
     "data": {
      "text/plain": [
       "array([[0.29227977, 0.29155378, 0.23095434, ..., 0.02158349, 0.        ,\n",
       "        0.042259  ],\n",
       "       [0.2201218 , 0.        , 0.        , ..., 0.        , 0.52120311,\n",
       "        0.16391248],\n",
       "       [0.        , 0.16101005, 0.        , ..., 0.22639116, 0.26109955,\n",
       "        0.14051861],\n",
       "       ...,\n",
       "       [0.        , 0.29521502, 0.02888085, ..., 0.31876971, 0.2938576 ,\n",
       "        0.2803698 ],\n",
       "       [0.21569302, 0.10762248, 0.04239307, ..., 0.17080385, 0.03336278,\n",
       "        0.28784931],\n",
       "       [0.10459146, 0.24942716, 0.12342307, ..., 0.31145263, 0.17757793,\n",
       "        0.22799469]])"
      ]
     },
     "execution_count": 73,
     "metadata": {},
     "output_type": "execute_result"
    }
   ],
   "source": [
    "song_matrix"
   ]
  },
  {
   "cell_type": "markdown",
   "metadata": {},
   "source": [
    "Steps in building a recomendation system:\n",
    "1. Consider recommending songs to user 1. (row loaction:0)\n",
    "2. Find the Euclidean distance/direct distance between the user1 and all the other users(999).\n",
    "3. Find out the top 10 songs heard by the closest 5 users.\n",
    "4. Recommend the songs to user 1.\n",
    "\n",
    "\n",
    "\n"
   ]
  },
  {
   "cell_type": "code",
   "execution_count": 74,
   "metadata": {},
   "outputs": [],
   "source": [
    "# Calculating direct distance or Euclidean distance\n",
    "\n",
    "def caldist(u1,u2):\n",
    "    return pow(sum([pow(u1[x]-u2[x],2)for x in range(len(u1))]),0.5)\n"
   ]
  },
  {
   "cell_type": "code",
   "execution_count": 75,
   "metadata": {},
   "outputs": [
    {
     "data": {
      "text/plain": [
       "16.40023520065024"
      ]
     },
     "execution_count": 75,
     "metadata": {},
     "output_type": "execute_result"
    }
   ],
   "source": [
    "caldist(user_matrix[0],user_matrix[1])"
   ]
  },
  {
   "cell_type": "code",
   "execution_count": 76,
   "metadata": {},
   "outputs": [],
   "source": [
    "# Calculating distance between base user and all other users\n",
    "\n",
    "def distfromuser(wuser,user_matrix):\n",
    "    import sys\n",
    "    distance = []\n",
    "    for i in range(len(user_matrix)):\n",
    "        if wuser != i:\n",
    "            distance.append(caldist(user_matrix[wuser],user_matrix[i]))\n",
    "        else:\n",
    "            pass\n",
    "    return distance"
   ]
  },
  {
   "cell_type": "code",
   "execution_count": 77,
   "metadata": {},
   "outputs": [],
   "source": [
    "distuser1 = distfromuser(0,user_matrix)"
   ]
  },
  {
   "cell_type": "code",
   "execution_count": 78,
   "metadata": {},
   "outputs": [
    {
     "data": {
      "text/plain": [
       "[16.40023520065024,\n",
       " 15.537635020047693,\n",
       " 14.639473650814088,\n",
       " 14.0075449026196,\n",
       " 13.97132082206515,\n",
       " 14.458815383880411,\n",
       " 15.439919100567543,\n",
       " 15.365881759523125,\n",
       " 14.750585290301343,\n",
       " 13.757119243334687,\n",
       " 13.436281556754842,\n",
       " 14.234045963314404,\n",
       " 14.67378142682232,\n",
       " 15.645889217453554,\n",
       " 15.713779804418829,\n",
       " 14.174156010385069,\n",
       " 14.151881524606878,\n",
       " 14.127183453263887,\n",
       " 14.872031632601221,\n",
       " 14.4235067339759,\n",
       " 15.565049449750601,\n",
       " 14.662728068253776,\n",
       " 13.844900902124724,\n",
       " 15.712321900752354,\n",
       " 15.466713621061137,\n",
       " 15.824884352607882,\n",
       " 15.20834665509057,\n",
       " 15.042134139529876,\n",
       " 14.897609730670602,\n",
       " 14.087798476439112,\n",
       " 14.53888022406624,\n",
       " 14.770670733227355,\n",
       " 14.949431884044818,\n",
       " 13.64115483405422,\n",
       " 14.249887985875976,\n",
       " 14.697785817103476,\n",
       " 16.971159500649897,\n",
       " 14.722157373139831,\n",
       " 14.574156282604575,\n",
       " 12.134159028374098,\n",
       " 15.540593520458394,\n",
       " 15.92746537282368,\n",
       " 13.992981665387411,\n",
       " 13.674354874184305,\n",
       " 15.547516231790901,\n",
       " 14.24059747125117,\n",
       " 14.120008692073155,\n",
       " 15.419734522822491,\n",
       " 13.895892573507464,\n",
       " 16.008422476182325,\n",
       " 14.22691508134051,\n",
       " 15.362525621541767,\n",
       " 12.72792765782915,\n",
       " 16.794847007938845,\n",
       " 15.256627451621691,\n",
       " 15.798440807406392,\n",
       " 17.521682549463364,\n",
       " 15.15492965548163,\n",
       " 14.476173387342051,\n",
       " 14.245296889023138,\n",
       " 15.376956754091667,\n",
       " 15.42364528758978,\n",
       " 14.915300352069156,\n",
       " 15.324675534295224,\n",
       " 14.266263719251281,\n",
       " 13.978249261944137,\n",
       " 16.064109274038874,\n",
       " 14.282384453674224,\n",
       " 14.887714970312016,\n",
       " 14.525378930565331,\n",
       " 16.011836485231246,\n",
       " 12.226036510031088,\n",
       " 15.221355067406986,\n",
       " 15.047862786762876,\n",
       " 14.669970089588961,\n",
       " 13.39188268636297,\n",
       " 14.949115596517899,\n",
       " 13.818446312183394,\n",
       " 14.974763035353051,\n",
       " 13.075558117094676,\n",
       " 15.904210153665653,\n",
       " 13.886081643957443,\n",
       " 13.445235622588635,\n",
       " 15.249616516404664,\n",
       " 16.020517140639804,\n",
       " 14.883256265576135,\n",
       " 14.323745623035189,\n",
       " 13.949246207096037,\n",
       " 15.509888090685667,\n",
       " 16.15107635111628,\n",
       " 15.307450035500594,\n",
       " 13.955764155983916,\n",
       " 16.320131457550673,\n",
       " 14.191730377928133,\n",
       " 14.839635874381845,\n",
       " 14.51579705218679,\n",
       " 15.453959608781547,\n",
       " 14.589000173031174,\n",
       " 14.22571614388479,\n",
       " 15.937596011496755,\n",
       " 15.571962343820438,\n",
       " 14.072659321439216,\n",
       " 13.720535689136666,\n",
       " 14.075907783704286,\n",
       " 14.763878305654458,\n",
       " 13.234690956059024,\n",
       " 15.372290007430163,\n",
       " 15.524901401974619,\n",
       " 15.345046720659399,\n",
       " 16.794060011626765,\n",
       " 13.656481572279564,\n",
       " 17.53331910884647,\n",
       " 14.637147562274503,\n",
       " 15.294816260344245,\n",
       " 14.20989116838451,\n",
       " 14.38498937246312,\n",
       " 13.887770283740974,\n",
       " 14.214149235307518,\n",
       " 15.664382338508188,\n",
       " 14.519220388076128,\n",
       " 14.189983162527257,\n",
       " 12.52426029852973,\n",
       " 14.740454286914888,\n",
       " 11.827027847844612,\n",
       " 14.459247547628204,\n",
       " 13.840026364609177,\n",
       " 14.83696659377953,\n",
       " 14.211099221961781,\n",
       " 14.138878317949619,\n",
       " 13.984613184844052,\n",
       " 12.98355953976382,\n",
       " 15.150312255120266,\n",
       " 15.475456613844706,\n",
       " 16.47763678281631,\n",
       " 15.989520632655664,\n",
       " 15.410870795243879,\n",
       " 14.232527013067328,\n",
       " 13.45931595530543,\n",
       " 12.577452658541343,\n",
       " 14.720756067266375,\n",
       " 15.037466762560507,\n",
       " 14.256285604205397,\n",
       " 14.212934584267034,\n",
       " 16.60767405217415,\n",
       " 15.586752215494332,\n",
       " 13.942090706432888,\n",
       " 14.6568801525359,\n",
       " 13.923129359502198,\n",
       " 15.632971327748269,\n",
       " 12.325812830608909,\n",
       " 13.194470685869847,\n",
       " 16.145668381659338,\n",
       " 13.842128923711712,\n",
       " 15.16900243176016,\n",
       " 14.221087145650989,\n",
       " 14.199222208564807,\n",
       " 14.962594012450614,\n",
       " 15.513369195611094,\n",
       " 15.08989320392689,\n",
       " 13.972772892716744,\n",
       " 15.209756435604303,\n",
       " 15.578170750967438,\n",
       " 17.199065610113546,\n",
       " 15.098321333924169,\n",
       " 14.241460845564,\n",
       " 15.674935224849689,\n",
       " 12.743259379721808,\n",
       " 15.553695320102372,\n",
       " 14.460576023602574,\n",
       " 14.896811109867862,\n",
       " 14.662065091211902,\n",
       " 13.0595301710125,\n",
       " 14.853097086779155,\n",
       " 11.499877460459661,\n",
       " 13.922560275676059,\n",
       " 14.671852299036708,\n",
       " 14.780826866511553,\n",
       " 15.522183700968675,\n",
       " 13.215992879623213,\n",
       " 13.699914325158007,\n",
       " 14.664257528755067,\n",
       " 15.330012579091912,\n",
       " 14.001292174879596,\n",
       " 13.801596057179353,\n",
       " 15.175982559997651,\n",
       " 13.398898514971313,\n",
       " 14.24003472091742,\n",
       " 14.831035972615975,\n",
       " 15.27383271704267,\n",
       " 14.56003325589327,\n",
       " 16.20569135107165,\n",
       " 16.036501119932446,\n",
       " 13.992764046489379,\n",
       " 15.169043519407655,\n",
       " 14.490829376895553,\n",
       " 13.12079833458184,\n",
       " 14.329547312375245,\n",
       " 13.781991436266829,\n",
       " 15.688352851930448,\n",
       " 15.39014869446056,\n",
       " 13.914974415668986,\n",
       " 15.675341750427094,\n",
       " 14.50804268856528,\n",
       " 14.157690972825918,\n",
       " 16.648577281974728,\n",
       " 13.72025438586794,\n",
       " 15.6828584646018,\n",
       " 13.639887778240759,\n",
       " 14.174363991140542,\n",
       " 15.156684521949046,\n",
       " 16.1115782823553,\n",
       " 14.768418426323933,\n",
       " 15.311789290376838,\n",
       " 16.541583766579308,\n",
       " 12.757134240717072,\n",
       " 15.07125483368518,\n",
       " 14.296674603048725,\n",
       " 14.107371574189884,\n",
       " 13.329558296048713,\n",
       " 15.351953893989862,\n",
       " 16.007765701035886,\n",
       " 15.195291719109308,\n",
       " 15.011955264101358,\n",
       " 15.999240640092905,\n",
       " 15.923119587924687,\n",
       " 14.539778328032929,\n",
       " 14.207903233374843,\n",
       " 13.719888092672667,\n",
       " 15.062682441294825,\n",
       " 14.3220303911691,\n",
       " 15.374014785812133,\n",
       " 15.923299065536785,\n",
       " 14.981233244800192,\n",
       " 13.184835025940965,\n",
       " 13.991498137323553,\n",
       " 15.274888862521957,\n",
       " 13.442009566683705,\n",
       " 16.89094909580854,\n",
       " 14.848983534583144,\n",
       " 13.752985147235405,\n",
       " 14.63338934451936,\n",
       " 14.0181585394905,\n",
       " 11.946050658167703,\n",
       " 14.312431250862124,\n",
       " 14.192707258326852,\n",
       " 13.85616514943279,\n",
       " 13.427897144268263,\n",
       " 14.861015684207617,\n",
       " 13.675681190123033,\n",
       " 13.152973814069338,\n",
       " 14.618786614109561,\n",
       " 14.739020776624091,\n",
       " 16.222405044040855,\n",
       " 14.404582292835464,\n",
       " 14.346206463502932,\n",
       " 13.449893758191747,\n",
       " 13.02491474888923,\n",
       " 14.42348228418063,\n",
       " 14.494153259775281,\n",
       " 14.889890923677232,\n",
       " 15.290113697853517,\n",
       " 14.917672718954401,\n",
       " 15.094130659864101,\n",
       " 13.788680734303687,\n",
       " 14.316555066658356,\n",
       " 14.80152376199459,\n",
       " 14.752090977855332,\n",
       " 13.851172768202401,\n",
       " 13.854978887658648,\n",
       " 14.89185418696443,\n",
       " 14.05157424170702,\n",
       " 15.072505775336664,\n",
       " 15.79192038153118,\n",
       " 16.92227742253868,\n",
       " 13.946308611523978,\n",
       " 15.056074099329662,\n",
       " 15.213985552261432,\n",
       " 14.347971241740957,\n",
       " 14.810738356328718,\n",
       " 14.996189664081548,\n",
       " 14.553018227311304,\n",
       " 15.275978417586831,\n",
       " 14.996027667735822,\n",
       " 13.344552261709092,\n",
       " 14.04122207684856,\n",
       " 13.532557242874722,\n",
       " 15.225563908108274,\n",
       " 14.220408160567636,\n",
       " 14.500154418916852,\n",
       " 15.654059040538634,\n",
       " 14.88064123561879,\n",
       " 13.667022529748108,\n",
       " 14.693293852852031,\n",
       " 13.90229867842438,\n",
       " 13.204962705044714,\n",
       " 11.780086067337505,\n",
       " 13.595798195849964,\n",
       " 15.63311934484821,\n",
       " 15.134940164526906,\n",
       " 14.86989521972906,\n",
       " 15.606312786538812,\n",
       " 15.3823315530128,\n",
       " 14.419200448470445,\n",
       " 15.591778145910899,\n",
       " 16.22677692329644,\n",
       " 14.483420035498781,\n",
       " 13.802047220704907,\n",
       " 14.304882231964076,\n",
       " 14.174054576003071,\n",
       " 14.089288745847796,\n",
       " 13.355392254563448,\n",
       " 15.663123792157599,\n",
       " 10.351383751946475,\n",
       " 14.036111009518018,\n",
       " 13.4177624817067,\n",
       " 14.407950343430388,\n",
       " 15.251808240488677,\n",
       " 12.889837244889398,\n",
       " 15.700268595276919,\n",
       " 15.84897813827951,\n",
       " 13.609597373628313,\n",
       " 14.377792188451252,\n",
       " 14.681923170055159,\n",
       " 14.373585297149232,\n",
       " 15.208473053612936,\n",
       " 13.381399817973055,\n",
       " 14.313706714120913,\n",
       " 14.703972884298096,\n",
       " 14.703681823432738,\n",
       " 14.66668245185146,\n",
       " 13.147132917655172,\n",
       " 14.402634233154737,\n",
       " 15.047990141821977,\n",
       " 15.117692644159384,\n",
       " 14.967127445240047,\n",
       " 13.256899637921922,\n",
       " 15.317589660280662,\n",
       " 13.248288456275805,\n",
       " 15.683065745163244,\n",
       " 13.77447752701312,\n",
       " 14.634829279224784,\n",
       " 14.316753255666532,\n",
       " 14.046158350205705,\n",
       " 14.001236897407217,\n",
       " 15.112141008490203,\n",
       " 15.511303950637004,\n",
       " 14.643582322398636,\n",
       " 13.384305216498445,\n",
       " 16.509092708004633,\n",
       " 14.120632774239878,\n",
       " 15.172521759464939,\n",
       " 14.984518038270208,\n",
       " 14.114485615000834,\n",
       " 12.716597207351686,\n",
       " 15.740418818048369,\n",
       " 15.701001764397349,\n",
       " 14.209027378725269,\n",
       " 14.647494755649635,\n",
       " 14.783938580514148,\n",
       " 15.15886682598437,\n",
       " 15.482529615023312,\n",
       " 16.060233067953572,\n",
       " 14.843480118166974,\n",
       " 16.554086410920707,\n",
       " 14.819364245012075,\n",
       " 14.685388894507442,\n",
       " 15.046318146163198,\n",
       " 15.041735206672454,\n",
       " 13.778458008284721,\n",
       " 14.71469111408514,\n",
       " 15.089539163671903,\n",
       " 13.347795312791533,\n",
       " 15.5389253452455,\n",
       " 14.625216963429517,\n",
       " 16.451419903376497,\n",
       " 14.810550915354176,\n",
       " 13.956349536208787,\n",
       " 14.86405898788949,\n",
       " 11.432098233222845,\n",
       " 14.08100883005565,\n",
       " 16.086489806664623,\n",
       " 14.314122085494308,\n",
       " 15.327669361974364,\n",
       " 13.413862892670812,\n",
       " 13.79523038978633,\n",
       " 13.894199368496661,\n",
       " 14.697892791683866,\n",
       " 16.24929245688619,\n",
       " 15.33133068694673,\n",
       " 14.706417576787855,\n",
       " 14.09635637117999,\n",
       " 14.100709319028486,\n",
       " 12.40755690295198,\n",
       " 15.839545476852171,\n",
       " 14.200244580096141,\n",
       " 15.412975995468523,\n",
       " 14.821969335196025,\n",
       " 14.545515622133344,\n",
       " 12.943022053782176,\n",
       " 15.39985737375017,\n",
       " 15.182300218343903,\n",
       " 14.668785732859986,\n",
       " 14.32965051725887,\n",
       " 15.788383010847701,\n",
       " 14.824478750109634,\n",
       " 15.236510263799742,\n",
       " 15.339797174692618,\n",
       " 14.826709934964745,\n",
       " 15.049238144614046,\n",
       " 15.01479279892192,\n",
       " 14.465116623587738,\n",
       " 15.048709907289924,\n",
       " 14.565032956644954,\n",
       " 16.055204157162457,\n",
       " 14.381729150350345,\n",
       " 15.605004923757212,\n",
       " 13.532072177409512,\n",
       " 15.660477273427862,\n",
       " 13.086432515251051,\n",
       " 12.566066407737651,\n",
       " 15.141601688178277,\n",
       " 12.734417503291898,\n",
       " 13.899356072651289,\n",
       " 15.341990630957406,\n",
       " 15.28852037666609,\n",
       " 15.446305740046764,\n",
       " 15.47528466663881,\n",
       " 15.090491403591395,\n",
       " 15.260255480991088,\n",
       " 15.24512508113508,\n",
       " 14.556592740701474,\n",
       " 14.07394799435991,\n",
       " 14.620036409484644,\n",
       " 15.908856164200714,\n",
       " 15.489845701871914,\n",
       " 14.879236731310307,\n",
       " 14.837785583138919,\n",
       " 15.481133926631324,\n",
       " 14.918660081954897,\n",
       " 13.825387049870393,\n",
       " 15.693046438368874,\n",
       " 15.44548739532697,\n",
       " 13.626339832568512,\n",
       " 14.80687722623709,\n",
       " 13.862167265347843,\n",
       " 14.630616801795574,\n",
       " 13.301127714043814,\n",
       " 14.740952150431983,\n",
       " 15.019902395121578,\n",
       " 13.867166003962504,\n",
       " 14.375976174752685,\n",
       " 15.263694396637828,\n",
       " 15.119991303560997,\n",
       " 15.5796335051928,\n",
       " 15.395594120265107,\n",
       " 14.518693209414394,\n",
       " 14.384376903156388,\n",
       " 14.086699160703615,\n",
       " 14.328733056096247,\n",
       " 16.16608615400506,\n",
       " 13.546806240283075,\n",
       " 14.830217220648096,\n",
       " 12.79610297783071,\n",
       " 14.25138027802702,\n",
       " 14.905099088882292,\n",
       " 15.557334225494461,\n",
       " 15.377290090524571,\n",
       " 12.65467330062902,\n",
       " 14.348690713326965,\n",
       " 14.46078539429166,\n",
       " 13.75435900950222,\n",
       " 15.210677484192605,\n",
       " 15.381281368227878,\n",
       " 15.706023466183723,\n",
       " 13.760549343074825,\n",
       " 13.598045454472008,\n",
       " 15.894526795240681,\n",
       " 13.867949458044192,\n",
       " 13.763171196357003,\n",
       " 14.881739164373363,\n",
       " 14.192763772379834,\n",
       " 14.883011628747237,\n",
       " 13.81572834220188,\n",
       " 12.959491381052231,\n",
       " 13.20672118566277,\n",
       " 14.846062540912092,\n",
       " 14.56918548584691,\n",
       " 15.175147627067584,\n",
       " 14.91852591849528,\n",
       " 15.169014142383812,\n",
       " 15.761846986622855,\n",
       " 15.512540417364416,\n",
       " 15.320451352891041,\n",
       " 13.868590331929042,\n",
       " 14.916417723092056,\n",
       " 13.63208396803696,\n",
       " 12.137569096274264,\n",
       " 14.522103488209593,\n",
       " 15.435197851462176,\n",
       " 14.815291543792263,\n",
       " 13.3257152845571,\n",
       " 13.389785468590325,\n",
       " 14.805795995370136,\n",
       " 12.474435097206406,\n",
       " 14.085963562440503,\n",
       " 15.199792533309196,\n",
       " 13.354123491575937,\n",
       " 15.804768030786782,\n",
       " 18.450001494458984,\n",
       " 13.455085129608364,\n",
       " 13.688023488304987,\n",
       " 16.72540961932102,\n",
       " 13.978166671541878,\n",
       " 14.163689072183868,\n",
       " 15.201287106079219,\n",
       " 17.557955186054944,\n",
       " 14.231180993009287,\n",
       " 15.37034076557573,\n",
       " 14.758156181479551,\n",
       " 14.698440348181768,\n",
       " 12.962736622378225,\n",
       " 17.176071949465914,\n",
       " 15.142784032391706,\n",
       " 12.637169773990172,\n",
       " 13.885493498446921,\n",
       " 15.149817429381587,\n",
       " 14.633290134206353,\n",
       " 12.568906760968847,\n",
       " 15.161533332272834,\n",
       " 14.768793317150429,\n",
       " 14.621966138429029,\n",
       " 14.116211580422867,\n",
       " 14.713231873824897,\n",
       " 13.206075103530635,\n",
       " 14.642766859693678,\n",
       " 15.078516868743728,\n",
       " 15.31606622492122,\n",
       " 15.084764753841503,\n",
       " 14.94695764758835,\n",
       " 14.599984342971409,\n",
       " 12.088697655487815,\n",
       " 15.921025154780171,\n",
       " 15.512593794475405,\n",
       " 14.40821538279529,\n",
       " 15.342517782714635,\n",
       " 15.315475119368271,\n",
       " 15.105366781885637,\n",
       " 14.940011843785744,\n",
       " 14.648769042737253,\n",
       " 16.896009527864944,\n",
       " 15.192755827040102,\n",
       " 13.389056958809254,\n",
       " 13.625160125027579,\n",
       " 15.327542660540496,\n",
       " 14.34866814051389,\n",
       " 15.50736421956877,\n",
       " 15.136276518346426,\n",
       " 13.15992475790069,\n",
       " 14.472331559077281,\n",
       " 14.657697009872816,\n",
       " 15.474116909502376,\n",
       " 14.21345883188292,\n",
       " 14.371502645238785,\n",
       " 14.285667504529261,\n",
       " 15.41611412939135,\n",
       " 14.580662831915006,\n",
       " 16.137264303763118,\n",
       " 16.657720259818856,\n",
       " 14.385136053854541,\n",
       " 14.782411819068733,\n",
       " 15.482427083272194,\n",
       " 17.280915406040833,\n",
       " 13.860466917879688,\n",
       " 14.721604284064739,\n",
       " 15.744927637258298,\n",
       " 16.57030527883476,\n",
       " 15.223069557014007,\n",
       " 14.186328794799296,\n",
       " 13.799449746334371,\n",
       " 13.346542217562057,\n",
       " 15.613226028083643,\n",
       " 12.99725677181688,\n",
       " 15.295640685535101,\n",
       " 14.35223669274336,\n",
       " 14.50682730885494,\n",
       " 16.11246944162373,\n",
       " 14.277588649770609,\n",
       " 15.414697089318782,\n",
       " 15.744390729937429,\n",
       " 15.114026378513147,\n",
       " 16.705556866006305,\n",
       " 14.563875109342247,\n",
       " 15.676255438803633,\n",
       " 13.30489669055976,\n",
       " 15.797725991633676,\n",
       " 13.854874385864566,\n",
       " 16.609776462055923,\n",
       " 15.466472888462237,\n",
       " 14.95521306016522,\n",
       " 15.835651944844244,\n",
       " 13.762830921556422,\n",
       " 16.691475972467273,\n",
       " 14.86499099918339,\n",
       " 15.66852598243655,\n",
       " 12.484447598319369,\n",
       " 15.370290812295087,\n",
       " 15.606138096029136,\n",
       " 15.212251521043296,\n",
       " 14.07564552876979,\n",
       " 15.419389246182542,\n",
       " 14.115864051176429,\n",
       " 13.6765375576077,\n",
       " 16.108373697541737,\n",
       " 16.340888839025688,\n",
       " 15.061891772269886,\n",
       " 15.846258518384687,\n",
       " 15.615364548542301,\n",
       " 14.791748890817377,\n",
       " 14.48296917113671,\n",
       " 15.324247910922908,\n",
       " 15.014648948665277,\n",
       " 15.502157888290606,\n",
       " 14.14463505979186,\n",
       " 15.258554696863873,\n",
       " 15.181354279878802,\n",
       " 13.600758136549652,\n",
       " 13.914806939653209,\n",
       " 14.314287327922024,\n",
       " 13.531991165636951,\n",
       " 12.288866936567835,\n",
       " 15.406402012360767,\n",
       " 15.893812964385717,\n",
       " 15.693200164083319,\n",
       " 14.575210131986546,\n",
       " 14.088824869739973,\n",
       " 15.800251602455658,\n",
       " 16.286399362181808,\n",
       " 13.723911202492136,\n",
       " 12.945245070363336,\n",
       " 16.176056898216117,\n",
       " 14.812778008828664,\n",
       " 14.900719192239766,\n",
       " 13.361069872785787,\n",
       " 13.60100304224782,\n",
       " 15.374357183835041,\n",
       " 15.630046960290851,\n",
       " 17.57803409049136,\n",
       " 14.29770917561158,\n",
       " 14.689461905734012,\n",
       " 13.90798183523376,\n",
       " 14.24228863862605,\n",
       " 16.047790529700357,\n",
       " 13.470786226837745,\n",
       " 15.31109274039749,\n",
       " 15.044424531559075,\n",
       " 14.330682098362354,\n",
       " 16.18540702606041,\n",
       " 15.590204011882623,\n",
       " 15.019796906385915,\n",
       " 15.374524382949467,\n",
       " 15.337242345955497,\n",
       " 13.192441288896909,\n",
       " 14.820127184662258,\n",
       " 14.698041496222492,\n",
       " 14.270336462163764,\n",
       " 13.916130081575385,\n",
       " 14.534013652625653,\n",
       " 13.364543473623012,\n",
       " 14.480756143114117,\n",
       " 13.450549582934595,\n",
       " 16.253978617400733,\n",
       " 14.862881550996201,\n",
       " 15.283443362214767,\n",
       " 15.46887440985318,\n",
       " 13.968047745637682,\n",
       " 14.775171552473486,\n",
       " 15.519593848345854,\n",
       " 13.23287815160047,\n",
       " 15.059131820468401,\n",
       " 16.18022953924967,\n",
       " 14.581757413967443,\n",
       " 14.38137965079769,\n",
       " 14.275384764149834,\n",
       " 16.394813635308534,\n",
       " 14.599926770499831,\n",
       " 15.170088133375886,\n",
       " 11.725292933146768,\n",
       " 13.930450358645045,\n",
       " 13.940790058782207,\n",
       " 14.817571972527745,\n",
       " 15.101920407728576,\n",
       " 13.328798760292424,\n",
       " 15.149390728040208,\n",
       " 15.475535171506797,\n",
       " 14.404226322325794,\n",
       " 14.193458468144946,\n",
       " 16.01725203928556,\n",
       " 15.303536963059043,\n",
       " 15.523573808923153,\n",
       " 13.925527230870065,\n",
       " 14.508317867613764,\n",
       " 13.840348424394186,\n",
       " 14.407326720869476,\n",
       " 13.344638536109555,\n",
       " 15.041969122787789,\n",
       " 15.699025644952025,\n",
       " 15.504932081902918,\n",
       " 14.843334943820803,\n",
       " 14.50604847988466,\n",
       " 14.059547069473947,\n",
       " 15.364070366120803,\n",
       " 13.226822640224523,\n",
       " 16.208530032883843,\n",
       " 14.929242989599487,\n",
       " 15.353574878838169,\n",
       " 14.784800477910627,\n",
       " 14.269655544928733,\n",
       " 15.44120779779302,\n",
       " 14.665734126711683,\n",
       " 14.758474300134743,\n",
       " 12.575520118290035,\n",
       " 15.39476290905246,\n",
       " 13.008336222922566,\n",
       " 15.038869607166516,\n",
       " 13.734931881119385,\n",
       " 15.533499159150205,\n",
       " 14.385293261055077,\n",
       " 15.31792625324328,\n",
       " 15.21112107557544,\n",
       " 13.60259005760917,\n",
       " 14.076455757536632,\n",
       " 13.026456632042132,\n",
       " 13.528374205720446,\n",
       " 14.659387704058767,\n",
       " 14.178069798579635,\n",
       " 15.623332381315219,\n",
       " 12.219598989036731,\n",
       " 12.276008450575986,\n",
       " 14.27254098344241,\n",
       " 15.87260109989234,\n",
       " 14.65766908301928,\n",
       " 14.730910390699279,\n",
       " 14.717250016419946,\n",
       " 12.60413466453753,\n",
       " 15.909101055439368,\n",
       " 15.629228460090314,\n",
       " 13.817156507773241,\n",
       " 14.727558422070398,\n",
       " 14.183866993855816,\n",
       " 13.06758109127605,\n",
       " 15.857333608729576,\n",
       " 13.588535042853001,\n",
       " 14.628718468466303,\n",
       " 14.302751040912511,\n",
       " 14.04874408369066,\n",
       " 12.500661615302864,\n",
       " 16.40674363016664,\n",
       " 14.226607305016264,\n",
       " 13.672626722235698,\n",
       " 12.3941935969958,\n",
       " 14.668714112345802,\n",
       " 12.844273162847779,\n",
       " 15.414335323561602,\n",
       " 14.45247444408399,\n",
       " 14.699564134170737,\n",
       " 13.076581605950889,\n",
       " 14.344575655713347,\n",
       " 14.040987801734943,\n",
       " 15.12702378590842,\n",
       " 13.41305399006498,\n",
       " 14.697135439197714,\n",
       " 13.857181447961407,\n",
       " 13.499463569735633,\n",
       " 12.52834843847339,\n",
       " 15.765816863983092,\n",
       " 12.855399703399865,\n",
       " 13.739753534083135,\n",
       " 14.56285660613163,\n",
       " 14.196738517234916,\n",
       " 13.30495967320858,\n",
       " 14.630893124843476,\n",
       " 14.452129175590438,\n",
       " 13.649364238668944,\n",
       " 14.358405910549527,\n",
       " 14.929354828845428,\n",
       " 14.712045273558966,\n",
       " 14.506473521124295,\n",
       " 12.450974618458229,\n",
       " 13.185177823469633,\n",
       " 15.096992015827107,\n",
       " 14.577248777812844,\n",
       " 14.16107322661526,\n",
       " 14.176489979187627,\n",
       " 13.923541630343513,\n",
       " 14.27996650627311,\n",
       " 12.888160873781999,\n",
       " 13.65257693957609,\n",
       " 16.92605789833278,\n",
       " 15.72866777252112,\n",
       " 14.189554974580423,\n",
       " 16.368178271192352,\n",
       " 13.319593507575448,\n",
       " 14.801502123774052,\n",
       " 14.0056594322653,\n",
       " 16.495883005313637,\n",
       " 13.301967395206116,\n",
       " 15.0766903754152,\n",
       " 16.015420574025377,\n",
       " 15.181622536941832,\n",
       " 14.983549752613644,\n",
       " 15.561626197854233,\n",
       " 15.677635875444963,\n",
       " 15.71187614528418,\n",
       " 16.809012424794933,\n",
       " 14.76301594286003,\n",
       " 14.409064314590694,\n",
       " 13.365525861566487,\n",
       " 14.83790780876222,\n",
       " 14.790447381505091,\n",
       " 15.396534656302403,\n",
       " 13.560124200869152,\n",
       " 16.10925755531008,\n",
       " 14.596875232751275,\n",
       " 14.737977337204624,\n",
       " 13.787048498772357,\n",
       " 15.363295126768747,\n",
       " 15.692115055195153,\n",
       " 15.185513134442878,\n",
       " 15.69799110754462,\n",
       " 13.347208774868744,\n",
       " 15.173712822336617,\n",
       " 13.315903728891012,\n",
       " 16.113145490643593,\n",
       " 14.777281063145754,\n",
       " 13.464437881342914,\n",
       " 14.563162317699128,\n",
       " 14.37702740624779,\n",
       " 15.265115312402736,\n",
       " 13.082946011135434,\n",
       " 14.583882952143057,\n",
       " 14.157998991376276,\n",
       " 15.810607835403722,\n",
       " 13.573634283395593,\n",
       " 14.445602959534584,\n",
       " 17.10360136571789,\n",
       " 15.571589239721307,\n",
       " 15.647675262494742,\n",
       " 15.40754038434052,\n",
       " 15.746177116893195,\n",
       " 15.189430830162301,\n",
       " 14.949487615705364,\n",
       " 15.799118337517672,\n",
       " 14.9318386674352,\n",
       " 14.437097552972649,\n",
       " 13.999336756532093,\n",
       " 15.082212455493565,\n",
       " 14.42631167771944,\n",
       " 14.643752549344983,\n",
       " 15.352989598510183,\n",
       " 14.318909565693607,\n",
       " 14.632639722579004,\n",
       " 15.267350619328512,\n",
       " 15.056256899154294,\n",
       " 14.360878046196147,\n",
       " 15.549894026817872,\n",
       " 13.48065649227266,\n",
       " 16.185875578180266,\n",
       " 16.46207830276693,\n",
       " 16.362700372024673,\n",
       " 14.031665135575189,\n",
       " 14.463731721453389,\n",
       " 14.31774829642205,\n",
       " 14.553189873572256,\n",
       " 16.453288925852927,\n",
       " 15.585226121172328,\n",
       " 15.684038713795672,\n",
       " 15.680830915034036,\n",
       " 14.47622561602204,\n",
       " 14.460637436537432,\n",
       " 13.986676140312035,\n",
       " 14.745396110207187,\n",
       " 11.509977425666088,\n",
       " 13.406102394306123,\n",
       " 15.590254439637013,\n",
       " 14.851279484304248,\n",
       " 14.668603836502585,\n",
       " 15.825420972257623,\n",
       " 14.595702538728172,\n",
       " 13.72477962999931,\n",
       " 14.610983063789284,\n",
       " 13.78780965522541,\n",
       " 14.796018059191852,\n",
       " 14.479800158070313,\n",
       " 14.345009023305453,\n",
       " 13.077297327540267,\n",
       " 15.161904472464954,\n",
       " 14.556994031330664,\n",
       " 13.312127212692086,\n",
       " 15.451540841458453,\n",
       " 14.153319297429412,\n",
       " 14.700327758888598,\n",
       " 15.21953234006722,\n",
       " 12.552380040670643,\n",
       " 14.482953948187424,\n",
       " 14.555835118576722,\n",
       " 15.128867199997096,\n",
       " 14.054479659262745,\n",
       " 14.006996053945908,\n",
       " 13.431492166050447,\n",
       " 15.009486887086364,\n",
       " 16.52755402330347,\n",
       " 14.172810643869278,\n",
       " 15.398279249730411,\n",
       " 13.385615363813447,\n",
       " 14.828236279096043,\n",
       " 14.289880558198323,\n",
       " 15.107800855866648,\n",
       " 15.42459764535594,\n",
       " 15.122084454273043,\n",
       " 15.638032730820319,\n",
       " 13.705428762163132,\n",
       " 14.607187667107798,\n",
       " 12.806653323735143,\n",
       " 14.57586033727091,\n",
       " 12.728641396277279,\n",
       " 14.061541556080778,\n",
       " 14.705868115196207,\n",
       " 14.841944661561019,\n",
       " 13.699669906986948,\n",
       " 15.061209329867525,\n",
       " 15.936621281209103,\n",
       " 14.478656524756154,\n",
       " 15.049728113382717,\n",
       " 13.845801137731577,\n",
       " 15.392512965552914,\n",
       " 14.861062183869851,\n",
       " 16.323630550790405,\n",
       " 13.12417881679192,\n",
       " 15.312011747037383,\n",
       " 16.27561836327845,\n",
       " 14.964171945175062,\n",
       " 15.960494693493674,\n",
       " 15.854173526339803,\n",
       " 14.599092232225058,\n",
       " 14.61103822879998,\n",
       " 16.025961437267867,\n",
       " 16.313890734204424,\n",
       " 13.986148672947794,\n",
       " 17.704892952455094,\n",
       " 13.910408937227333,\n",
       " 15.072918369436612,\n",
       " 15.592173230157192,\n",
       " 15.46033604691264,\n",
       " 14.76819591988763,\n",
       " 15.48276558791935,\n",
       " 14.217968421391253,\n",
       " 13.729321123242435,\n",
       " 13.185954532687557,\n",
       " 15.663401004961635,\n",
       " 14.086893012698562,\n",
       " 14.941064922339049,\n",
       " 11.998861982883847,\n",
       " 16.69892966292012,\n",
       " 14.936402563955768,\n",
       " 13.810987820012517,\n",
       " 14.734368755068012,\n",
       " 15.499343395896078,\n",
       " 13.410333688901975,\n",
       " 12.956130600930786,\n",
       " 14.93522068157677,\n",
       " 13.257043640591087,\n",
       " 14.822992480487523,\n",
       " 14.496127374847548,\n",
       " 14.081438109185637,\n",
       " 14.391725117508923,\n",
       " 14.443616019236133,\n",
       " 14.1383601343265,\n",
       " 13.682124474591143,\n",
       " 13.67182899194593,\n",
       " 14.26441834317868,\n",
       " 14.006110271796354,\n",
       " 13.374410044103268,\n",
       " 14.22346614486547,\n",
       " 14.670217821102963,\n",
       " 15.225886449046143,\n",
       " 13.013009999583561,\n",
       " 13.620815642555094,\n",
       " 13.827530808081072,\n",
       " 15.572941544146751,\n",
       " 15.239892149835484,\n",
       " 11.740882526927557,\n",
       " 15.756194325977013,\n",
       " 14.834532448591842,\n",
       " 15.95270413424661,\n",
       " 13.443826048203903,\n",
       " 16.416827678085294,\n",
       " 15.134464810247712,\n",
       " 15.995223346970898,\n",
       " 15.098547713494886]"
      ]
     },
     "execution_count": 78,
     "metadata": {},
     "output_type": "execute_result"
    }
   ],
   "source": [
    "distuser1"
   ]
  },
  {
   "cell_type": "code",
   "execution_count": 79,
   "metadata": {},
   "outputs": [],
   "source": [
    "user_index = np.argsort(distuser1)[0:5] #sorts into ascending order and converts into an array"
   ]
  },
  {
   "cell_type": "code",
   "execution_count": 80,
   "metadata": {},
   "outputs": [
    {
     "data": {
      "text/plain": [
       "array([312, 378, 173, 881, 686], dtype=int64)"
      ]
     },
     "execution_count": 80,
     "metadata": {},
     "output_type": "execute_result"
    }
   ],
   "source": [
    "user_index"
   ]
  },
  {
   "cell_type": "code",
   "execution_count": 81,
   "metadata": {},
   "outputs": [
    {
     "name": "stdout",
     "output_type": "stream",
     "text": [
      "Songs Heard by the user in index  312  are:\n",
      "Index(['song_1', 'song_2', 'song_4', 'song_5', 'song_6', 'song_7', 'song_8',\n",
      "       'song_9', 'song_11', 'song_12',\n",
      "       ...\n",
      "       'song_4990', 'song_4991', 'song_4992', 'song_4993', 'song_4994',\n",
      "       'song_4996', 'song_4997', 'song_4998', 'song_4999', 'song_5000'],\n",
      "      dtype='object', length=4699)\n",
      "Songs Heard by the user in index  378  are:\n",
      "Index(['song_1', 'song_2', 'song_3', 'song_4', 'song_5', 'song_6', 'song_7',\n",
      "       'song_8', 'song_10', 'song_12',\n",
      "       ...\n",
      "       'song_4989', 'song_4990', 'song_4992', 'song_4993', 'song_4995',\n",
      "       'song_4996', 'song_4997', 'song_4998', 'song_4999', 'song_5000'],\n",
      "      dtype='object', length=4676)\n",
      "Songs Heard by the user in index  173  are:\n",
      "Index(['song_1', 'song_2', 'song_3', 'song_5', 'song_6', 'song_7', 'song_8',\n",
      "       'song_9', 'song_10', 'song_12',\n",
      "       ...\n",
      "       'song_4987', 'song_4988', 'song_4989', 'song_4992', 'song_4994',\n",
      "       'song_4995', 'song_4996', 'song_4997', 'song_4999', 'song_5000'],\n",
      "      dtype='object', length=4659)\n",
      "Songs Heard by the user in index  881  are:\n",
      "Index(['song_1', 'song_2', 'song_4', 'song_5', 'song_6', 'song_7', 'song_8',\n",
      "       'song_9', 'song_10', 'song_11',\n",
      "       ...\n",
      "       'song_4990', 'song_4991', 'song_4992', 'song_4993', 'song_4995',\n",
      "       'song_4996', 'song_4997', 'song_4998', 'song_4999', 'song_5000'],\n",
      "      dtype='object', length=4690)\n",
      "Songs Heard by the user in index  686  are:\n",
      "Index(['song_1', 'song_2', 'song_3', 'song_4', 'song_5', 'song_7', 'song_8',\n",
      "       'song_9', 'song_10', 'song_11',\n",
      "       ...\n",
      "       'song_4989', 'song_4990', 'song_4991', 'song_4992', 'song_4993',\n",
      "       'song_4994', 'song_4995', 'song_4998', 'song_4999', 'song_5000'],\n",
      "      dtype='object', length=4676)\n"
     ]
    }
   ],
   "source": [
    "# finding songs heard by closest users\n",
    "\n",
    "for i in user_index:\n",
    "    print(\"Songs Heard by the user in index \",i,\" are:\")\n",
    "    temp = pd.DataFrame(df.iloc[i])\n",
    "    print(temp[temp.values != 0].index)"
   ]
  },
  {
   "cell_type": "code",
   "execution_count": 82,
   "metadata": {},
   "outputs": [],
   "source": [
    "# Recommending Top 5 songs\n",
    "\n",
    "def Top5songs(user_index,df):\n",
    "    temp_df = df.iloc[user_index] # contains all the values coming from user_index\n",
    "    dict1 = temp_df.max().to_dict() # it gives the songs which are heard the maximum times\n",
    "    sorted_dictionary = sorted(dict1.items(),key=lambda keyvalue :(keyvalue[1],keyvalue[0]),reverse=True)[0:5]\n",
    "    return [x[0] for x in sorted_dictionary]"
   ]
  },
  {
   "cell_type": "code",
   "execution_count": 83,
   "metadata": {},
   "outputs": [
    {
     "data": {
      "text/plain": [
       "['song_998', 'song_995', 'song_99', 'song_984', 'song_979']"
      ]
     },
     "execution_count": 83,
     "metadata": {},
     "output_type": "execute_result"
    }
   ],
   "source": [
    "Top5songs(user_index,df)"
   ]
  },
  {
   "cell_type": "code",
   "execution_count": 84,
   "metadata": {},
   "outputs": [],
   "source": [
    "# Using K-Means for clustering"
   ]
  },
  {
   "cell_type": "code",
   "execution_count": 85,
   "metadata": {},
   "outputs": [],
   "source": [
    "from sklearn.cluster import KMeans"
   ]
  },
  {
   "cell_type": "code",
   "execution_count": 86,
   "metadata": {},
   "outputs": [],
   "source": [
    "withincluster_meansquareerror = {}\n",
    "for k in range(1,50):\n",
    "    kmeans = KMeans(n_clusters=k,max_iter=1000).fit(song_matrix)\n",
    "    withincluster_meansquareerror[k] = kmeans.inertia_"
   ]
  },
  {
   "cell_type": "code",
   "execution_count": 87,
   "metadata": {},
   "outputs": [
    {
     "data": {
      "image/png": "[encoded data removed]",
      "text/plain": [
       "<Figure size 432x288 with 1 Axes>"
      ]
     },
     "metadata": {
      "needs_background": "light"
     },
     "output_type": "display_data"
    }
   ],
   "source": [
    "plt.figure()\n",
    "plt.plot(list(withincluster_meansquareerror.keys()),list(withincluster_meansquareerror.values()))\n",
    "plt.xlabel(\"No.of clusters\")\n",
    "plt.ylabel(\"Mean Square Error\")\n",
    "plt.title(\"Finding the best value of K\")\n",
    "plt.show()"
   ]
  },
  {
   "cell_type": "code",
   "execution_count": 88,
   "metadata": {},
   "outputs": [],
   "source": [
    "## DAy 3"
   ]
  },
  {
   "cell_type": "code",
   "execution_count": 89,
   "metadata": {},
   "outputs": [],
   "source": [
    "def fav_songs(data,no_of_clusters,song_matrix,song_name,n_recommendation):\n",
    "    kmeans=KMeans(n_clusters=no_of_clusters,max_iter=1000).fit(song_matrix) #makes cluster of the songs\n",
    "    index_in_songs=data.columns.to_list().index(song_name) #gets the index of the base song from the main database\n",
    "    song_vector=song_matrix[index_in_songs] #it takes the values of the base song from the decompose song matrix\n",
    "    allsongs_in_cluster=list(kmeans.predict(song_matrix)) # Prepares clusters for all the song in the song matrix\n",
    "    songs_in_cluster_of_basesong=[x for x in range(len(allsongs_in_cluster)) if allsongs_in_cluster[x]==kmeans.predict([song_vector])]##checking the song which are alike a base song\n",
    "    song_cluster=song_matrix[songs_in_cluster_of_basesong]\n",
    "    KNN=NearestNeighbors(n_neighbors=n_recommendation)\n",
    "    KNN.fit(song_cluster)\n",
    "    recommended_songs=KNN.kneighbors([song_matrix[index_in_songs]])\n",
    "    col_list=list(df.columns)\n",
    "    return [col_list[x] for x in recommended_songs[1][0]]\n",
    "    "
   ]
  },
  {
   "cell_type": "code",
   "execution_count": 90,
   "metadata": {},
   "outputs": [
    {
     "data": {
      "text/plain": [
       "['song_1', 'song_7', 'song_162', 'song_36', 'song_120']"
      ]
     },
     "execution_count": 90,
     "metadata": {},
     "output_type": "execute_result"
    }
   ],
   "source": [
    "fav_songs(df,12,song_matrix,\"song_2\",5)"
   ]
  },
  {
   "cell_type": "code",
   "execution_count": null,
   "metadata": {},
   "outputs": [],
   "source": [
    "fav_songs(df,12,song_matrix,\"song_1001\",5)"
   ]
  },
  {
   "cell_type": "code",
   "execution_count": null,
   "metadata": {},
   "outputs": [],
   "source": [
    "fav_songs(df,12,song_matrix,\"song_2101\",5)"
   ]
  },
  {
   "cell_type": "code",
   "execution_count": null,
   "metadata": {},
   "outputs": [],
   "source": [
    "fav_songs(df,12,song_matrix,\"song_4560\",5)"
   ]
  },
  {
   "cell_type": "code",
   "execution_count": null,
   "metadata": {},
   "outputs": [],
   "source": [
    "fav_songs(df,12,song_matrix,\"song_4999\",5)"
   ]
  }
 ],
 "metadata": {
  "kernelspec": {
   "display_name": "Python 3",
   "language": "python",
   "name": "python3"
  },
  "language_info": {
   "codemirror_mode": {
    "name": "ipython",
    "version": 3
   },
   "file_extension": ".py",
   "mimetype": "text/x-python",
   "name": "python",
   "nbconvert_exporter": "python",
   "pygments_lexer": "ipython3",
   "version": "3.8.8"
  },
  "varInspector": {
   "cols": {
    "lenName": 16,
    "lenType": 16,
    "lenVar": 40
   },
   "kernels_config": {
    "python": {
     "delete_cmd_postfix": "",
     "delete_cmd_prefix": "del ",
     "library": "var_list.py",
     "varRefreshCmd": "print(var_dic_list())"
    },
    "r": {
     "delete_cmd_postfix": ") ",
     "delete_cmd_prefix": "rm(",
     "library": "var_list.r",
     "varRefreshCmd": "cat(var_dic_list()) "
    }
   },
   "types_to_exclude": [
    "module",
    "function",
    "builtin_function_or_method",
    "instance",
    "_Feature"
   ],
   "window_display": false
  }
 },
 "nbformat": 4,
 "nbformat_minor": 4
}
